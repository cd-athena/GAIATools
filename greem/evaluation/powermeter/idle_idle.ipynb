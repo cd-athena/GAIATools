{
 "cells": [
  {
   "cell_type": "code",
   "execution_count": null,
   "metadata": {},
   "outputs": [],
   "source": [
    "from greem.utility.monitoring import BaseMonitoring, RegularMonitoring, PeriodicMonitoring\n",
    "from codecarbon import OfflineEmissionsTracker, EmissionsTracker\n",
    "import os\n",
    "import pandas as pd\n",
    "from time import sleep"
   ]
  },
  {
   "cell_type": "code",
   "execution_count": null,
   "metadata": {},
   "outputs": [],
   "source": [
    "host_name: str = os.uname()[1]\n",
    "host_name"
   ]
  },
  {
   "cell_type": "code",
   "execution_count": null,
   "metadata": {},
   "outputs": [],
   "source": [
    "measurement_interval = 1\n",
    "\n",
    "tracker = OfflineEmissionsTracker(\n",
    "    country_iso_code=\"AUT\",\n",
    "    measure_power_secs=measurement_interval, \n",
    "    project_name='test test', \n",
    "    log_level='error',\n",
    "    output_file=f'offline_idle_emissions_{host_name}.csv')\n",
    "\n"
   ]
  },
  {
   "cell_type": "code",
   "execution_count": null,
   "metadata": {},
   "outputs": [],
   "source": [
    "\n",
    "os.system('sleep 2')\n",
    "os.system('stress -c 4 -t 1 -q')\n",
    "\n",
    "tracker._project_name = f'sleep_{measurement_interval}s_{host_name}'\n",
    "tracker.start()\n",
    "os.system('sleep 120')\n",
    "tracker.stop()\n",
    "\n",
    "\n",
    "os.system('stress -c 4 -t 10')"
   ]
  },
  {
   "cell_type": "code",
   "execution_count": null,
   "metadata": {},
   "outputs": [],
   "source": []
  }
 ],
 "metadata": {
  "kernelspec": {
   "display_name": "gaia-tools",
   "language": "python",
   "name": "python3"
  },
  "language_info": {
   "codemirror_mode": {
    "name": "ipython",
    "version": 3
   },
   "file_extension": ".py",
   "mimetype": "text/x-python",
   "name": "python",
   "nbconvert_exporter": "python",
   "pygments_lexer": "ipython3",
   "version": "3.10.13"
  }
 },
 "nbformat": 4,
 "nbformat_minor": 2
}
