{
 "cells": [
  {
   "cell_type": "code",
   "execution_count": 1,
   "metadata": {},
   "outputs": [],
   "source": [
    "from greem.utility.monitoring import BaseMonitoring, RegularMonitoring, PeriodicMonitoring\n",
    "from codecarbon import EmissionsTracker\n",
    "import os\n",
    "import pandas as pd\n",
    "from time import sleep"
   ]
  },
  {
   "cell_type": "code",
   "execution_count": 2,
   "metadata": {},
   "outputs": [
    {
     "data": {
      "text/plain": [
       "'bauer.itec.aau.at'"
      ]
     },
     "execution_count": 2,
     "metadata": {},
     "output_type": "execute_result"
    }
   ],
   "source": [
    "host_name: str = os.uname()[1]\n",
    "host_name"
   ]
  },
  {
   "cell_type": "markdown",
   "metadata": {},
   "source": [
    "```bash\n",
    "for run in {1..5}; do\n",
    "  ffmpeg -y -re -i Beauty_s000.265 -b:v:0 1000k -b:v:0 1000k -minrate 1000k -maxrate 1000k -bufsize 3000k -c:v:0 libx264 -filter:v:0 \"scale=200:100 ,fps=10\" -preset medium -keyint_min 10 -g 10 test.mp4\n",
    "done\n",
    "```"
   ]
  },
  {
   "cell_type": "code",
   "execution_count": null,
   "metadata": {},
   "outputs": [],
   "source": [
    "measurement_interval = 1\n",
    "repetitions = 3\n",
    "\n",
    "tracker = EmissionsTracker(\n",
    "    measure_power_secs=measurement_interval,\n",
    "    project_name='test test',\n",
    "    log_level='error',\n",
    "    output_file=f'video_emissions_{host_name}.csv')\n",
    "\n",
    "for i in range(repetitions):\n",
    "    tracker._project_name = f'Beauty_s000_{measurement_interval}s_{(i + 1)}_{host_name}_before_sleep'\n",
    "    tracker.start()\n",
    "    os.system('ffmpeg -y -re -i Beauty_s000.265 -b:v:0 1000k -b:v:0 1000k -minrate 1000k -maxrate 1000k -bufsize 3000k -c:v:0 libx264 -filter:v:0 \"scale=200:100 ,fps=10\" -preset medium -keyint_min 10 -g 10 test.mp4')\n",
    "    tracker.stop()\n",
    "    sleep(0.5)\n",
    "\n",
    "\n",
    "sleep(60)\n",
    "\n",
    "for i in range(repetitions):\n",
    "    tracker._project_name = f'Beauty_s000_{measurement_interval}s_{(i + 1)}_{host_name}_after_sleep'\n",
    "    tracker.start()\n",
    "    os.system('ffmpeg -y -re -i Beauty_s000.265 -b:v:0 1000k -b:v:0 1000k -minrate 1000k -maxrate 1000k -bufsize 3000k -c:v:0 libx264 -filter:v:0 \"scale=200:100 ,fps=10\" -preset medium -keyint_min 10 -g 10 test.mp4')\n",
    "    tracker.stop()\n",
    "    sleep(0.5)"
   ]
  }
 ],
 "metadata": {
  "kernelspec": {
   "display_name": "gaia-tools",
   "language": "python",
   "name": "python3"
  },
  "language_info": {
   "codemirror_mode": {
    "name": "ipython",
    "version": 3
   },
   "file_extension": ".py",
   "mimetype": "text/x-python",
   "name": "python",
   "nbconvert_exporter": "python",
   "pygments_lexer": "ipython3",
   "version": "3.10.13"
  }
 },
 "nbformat": 4,
 "nbformat_minor": 2
}
