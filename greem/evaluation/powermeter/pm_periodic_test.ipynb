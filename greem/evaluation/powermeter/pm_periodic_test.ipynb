{
 "cells": [
  {
   "cell_type": "code",
   "execution_count": 1,
   "metadata": {},
   "outputs": [],
   "source": [
    "from greem.utility.monitoring import BaseMonitoring, RegularMonitoring, PeriodicMonitoring\n",
    "from codecarbon import EmissionsTracker\n",
    "import os\n",
    "import pandas as pd\n",
    "from time import sleep\n",
    "from codecarbon.output import EmissionsData\n",
    "import seaborn as sns\n",
    "import matplotlib.pyplot as plt"
   ]
  },
  {
   "cell_type": "code",
   "execution_count": 2,
   "metadata": {},
   "outputs": [
    {
     "data": {
      "text/plain": [
       "'Christians-MacBook-Pro.local'"
      ]
     },
     "execution_count": 2,
     "metadata": {},
     "output_type": "execute_result"
    }
   ],
   "source": [
    "host_name: str = os.uname()[1]\n",
    "host_name"
   ]
  },
  {
   "cell_type": "code",
   "execution_count": 3,
   "metadata": {},
   "outputs": [],
   "source": [
    "# rm = RegularMonitoring(measure_power_secs=10)\n",
    "\n",
    "# pm = PeriodicMonitoring(measure_power_secs=0.5)"
   ]
  },
  {
   "cell_type": "markdown",
   "metadata": {},
   "source": [
    "```bash\n",
    "for run in {1..5}; do\n",
    "  ffmpeg -y -re -i Beauty_s000.265 -b:v:0 1000k -b:v:0 1000k -minrate 1000k -maxrate 1000k -bufsize 3000k -c:v:0 libx264 -filter:v:0 \"scale=200:100 ,fps=10\" -preset medium -keyint_min 10 -g 10 test.mp4\n",
    "done\n",
    "```"
   ]
  },
  {
   "cell_type": "code",
   "execution_count": 4,
   "metadata": {},
   "outputs": [],
   "source": [
    "def start_measuring(measurement_interval: float, repetitions: int = 10, sleep_time: float = 0) -> list[EmissionsData]:\n",
    "    tracker = EmissionsTracker(\n",
    "        measure_power_secs=measurement_interval, \n",
    "        project_name='test test', \n",
    "        log_level='error',\n",
    "        output_file=f'periodic_emissions_{host_name}.csv')\n",
    "    pm = PeriodicMonitoring(tracker=tracker)\n",
    "\n",
    "    if sleep_time == 0:\n",
    "\n",
    "        presets = ['medium', 'fast', 'slow']\n",
    "    \n",
    "        for i in range(repetitions):\n",
    "            print(len(pm.collected_data))\n",
    "            pm.tracker._project_name = f'Beauty_s000_{measurement_interval}s_{(i + 1)}_{host_name}'\n",
    "            \n",
    "            # os.system('ffmpeg -y -re -i Beauty_s000.265 -b:v:0 1000k -b:v:0 1000k -minrate 1000k -maxrate 1000k -bufsize 3000k -c:v:0 libx264 -filter:v:0 \"scale=200:100 ,fps=10\" -preset medium -keyint_min 10 -g 10 test.mp4')\n",
    "            pm.scheduler.start()\n",
    "            pm.start_monitoring(f'ffmpeg -hide_banner -loglevel error -y -re -i Beauty_s000.265 -b:v:0 1000k -b:v:0 1000k -minrate 1000k -maxrate 1000k -bufsize 3000k -c:v:0 libx264 -filter:v:0 \"scale=200:100 ,fps=10\" -preset {presets[i]} -keyint_min 10 -g 10 test.mp4')\n",
    "            pm.scheduler.stop()\n",
    "\n",
    "\n",
    "            # sleep(0.2)\n",
    "    \n",
    "    else:\n",
    "        for i in range(repetitions):\n",
    "            tracker._project_name = f'sleep_{measurement_interval}s_{(i + 1)}_{host_name}'\n",
    "            # tracker.start()\n",
    "            os.system(f'sleep {sleep_time}')\n",
    "            # tracker.stop()\n",
    "            # sleep(0.2)\n",
    "\n",
    "    pm.tracker.stop()\n",
    "    pm.scheduler.stop()\n",
    "    return pm.collected_data\n"
   ]
  },
  {
   "cell_type": "code",
   "execution_count": 5,
   "metadata": {},
   "outputs": [
    {
     "data": {
      "text/plain": [
       "[0.125, 0.25, 0.5, 0.75, 1.0, 1.25, 1.5, 1.75, 2.0, 2.25, 2.5, 2.75, 3.0]"
      ]
     },
     "execution_count": 5,
     "metadata": {},
     "output_type": "execute_result"
    }
   ],
   "source": [
    "step: float = 0.25\n",
    "\n",
    "intervals: list[float] = [0.125] + [step * x for x in range(1, 13)]\n",
    "last_val = intervals[-1]\n",
    "# intervals.extend([1 * x + last_val for x in range(1, 18)])\n",
    "intervals"
   ]
  },
  {
   "cell_type": "code",
   "execution_count": 6,
   "metadata": {},
   "outputs": [
    {
     "name": "stdout",
     "output_type": "stream",
     "text": [
      "0\n",
      "11\n",
      "20\n"
     ]
    }
   ],
   "source": [
    "collected_measurements: list[EmissionsData] = []\n",
    "\n",
    "# for i in intervals[:2]:\n",
    "#     collected_measurements.extend(start_measuring(i, 2))\n",
    "collected_measurements.extend(start_measuring(0.25, 3))"
   ]
  },
  {
   "cell_type": "code",
   "execution_count": 7,
   "metadata": {},
   "outputs": [
    {
     "data": {
      "text/plain": [
       "[MonitoringData(timestamp='2024-03-19T09:44:01', project_name='Beauty_s000_0.25s_1_Christians-MacBook-Pro.local', run_id='7020e16b-3f1c-4d3d-aae9-bf08f51a580c', duration=1.0056610107421875, emissions=3.281977605587906e-07, emissions_rate=3.263502880722974e-07, cpu_power=5.0, gpu_power=0.0, ram_power=12.0, cpu_energy=1.0612484481599597e-06, gpu_energy=0, ram_energy=2.5450825691223143e-06, energy_consumed=3.606331017282274e-06, country_name='Austria', country_iso_code='AUT', region='carinthia', cloud_provider='', cloud_region='', os='macOS-14.4-arm64-arm-64bit', python_version='3.10.13', codecarbon_version='2.2.2', cpu_count=10, cpu_model='Apple M1 Max', gpu_count=None, gpu_model=None, longitude=14.1513, latitude=46.5637, ram_total_size=32.0, tracking_mode='machine', on_cloud='N'),\n",
       " MonitoringData(timestamp='2024-03-19T09:44:02', project_name='Beauty_s000_0.25s_1_Christians-MacBook-Pro.local', run_id='7020e16b-3f1c-4d3d-aae9-bf08f51a580c', duration=1.0051298141479492, emissions=4.3565786843631e-07, emissions_rate=4.3343443036322447e-07, cpu_power=5.0, gpu_power=0.0, ram_power=12.0, cpu_energy=1.4084918631447685e-06, gpu_energy=0, ram_energy=3.3786416053771967e-06, energy_consumed=4.7871334685219656e-06, country_name='Austria', country_iso_code='AUT', region='carinthia', cloud_provider='', cloud_region='', os='macOS-14.4-arm64-arm-64bit', python_version='3.10.13', codecarbon_version='2.2.2', cpu_count=10, cpu_model='Apple M1 Max', gpu_count=None, gpu_model=None, longitude=14.1513, latitude=46.5637, ram_total_size=32.0, tracking_mode='machine', on_cloud='N'),\n",
       " MonitoringData(timestamp='2024-03-19T09:44:03', project_name='Beauty_s000_0.25s_1_Christians-MacBook-Pro.local', run_id='7020e16b-3f1c-4d3d-aae9-bf08f51a580c', duration=1.005295991897583, emissions=4.427884935899579e-07, emissions_rate=4.4045584301411207e-07, cpu_power=5.0, gpu_power=0.0, ram_power=12.0, cpu_energy=1.4315376679102582e-06, gpu_energy=0, ram_energy=3.4339491526285805e-06, energy_consumed=4.865486820538842e-06, country_name='Austria', country_iso_code='AUT', region='carinthia', cloud_provider='', cloud_region='', os='macOS-14.4-arm64-arm-64bit', python_version='3.10.13', codecarbon_version='2.2.2', cpu_count=10, cpu_model='Apple M1 Max', gpu_count=None, gpu_model=None, longitude=14.1513, latitude=46.5637, ram_total_size=32.0, tracking_mode='machine', on_cloud='N'),\n",
       " MonitoringData(timestamp='2024-03-19T09:44:04', project_name='Beauty_s000_0.25s_1_Christians-MacBook-Pro.local', run_id='7020e16b-3f1c-4d3d-aae9-bf08f51a580c', duration=1.0054230690002441, emissions=4.497102861290507e-07, emissions_rate=4.472846307139403e-07, cpu_power=5.0, gpu_power=0.0, ram_power=12.0, cpu_energy=1.4541023307376437e-06, gpu_energy=0, ram_energy=3.487443129221599e-06, energy_consumed=4.941545459959243e-06, country_name='Austria', country_iso_code='AUT', region='carinthia', cloud_provider='', cloud_region='', os='macOS-14.4-arm64-arm-64bit', python_version='3.10.13', codecarbon_version='2.2.2', cpu_count=10, cpu_model='Apple M1 Max', gpu_count=None, gpu_model=None, longitude=14.1513, latitude=46.5637, ram_total_size=32.0, tracking_mode='machine', on_cloud='N'),\n",
       " MonitoringData(timestamp='2024-03-19T09:44:05', project_name='Beauty_s000_0.25s_1_Christians-MacBook-Pro.local', run_id='7020e16b-3f1c-4d3d-aae9-bf08f51a580c', duration=1.0096518993377686, emissions=4.293579328821765e-07, emissions_rate=4.252534295867642e-07, cpu_power=5.0, gpu_power=0.0, ram_power=12.0, cpu_energy=1.388305094507006e-06, gpu_energy=0, ram_energy=3.3296028772989912e-06, energy_consumed=4.717907971805996e-06, country_name='Austria', country_iso_code='AUT', region='carinthia', cloud_provider='', cloud_region='', os='macOS-14.4-arm64-arm-64bit', python_version='3.10.13', codecarbon_version='2.2.2', cpu_count=10, cpu_model='Apple M1 Max', gpu_count=None, gpu_model=None, longitude=14.1513, latitude=46.5637, ram_total_size=32.0, tracking_mode='machine', on_cloud='N'),\n",
       " MonitoringData(timestamp='2024-03-19T09:44:06', project_name='Beauty_s000_0.25s_1_Christians-MacBook-Pro.local', run_id='7020e16b-3f1c-4d3d-aae9-bf08f51a580c', duration=1.0023181438446045, emissions=4.4259867644190733e-07, emissions_rate=4.4157504197641874e-07, cpu_power=5.0, gpu_power=0.0, ram_power=12.0, cpu_energy=1.4312495787938427e-06, gpu_energy=0, ram_energy=3.4321514765421524e-06, energy_consumed=4.8634010553359926e-06, country_name='Austria', country_iso_code='AUT', region='carinthia', cloud_provider='', cloud_region='', os='macOS-14.4-arm64-arm-64bit', python_version='3.10.13', codecarbon_version='2.2.2', cpu_count=10, cpu_model='Apple M1 Max', gpu_count=None, gpu_model=None, longitude=14.1513, latitude=46.5637, ram_total_size=32.0, tracking_mode='machine', on_cloud='N'),\n",
       " MonitoringData(timestamp='2024-03-19T09:44:07', project_name='Beauty_s000_0.25s_1_Christians-MacBook-Pro.local', run_id='7020e16b-3f1c-4d3d-aae9-bf08f51a580c', duration=1.003119945526123, emissions=4.365665907600197e-07, emissions_rate=4.352087631265734e-07, cpu_power=5.0, gpu_power=0.0, ram_power=12.0, cpu_energy=1.4117426342434362e-06, gpu_energy=0, ram_energy=3.3853761355082233e-06, energy_consumed=4.797118769751661e-06, country_name='Austria', country_iso_code='AUT', region='carinthia', cloud_provider='', cloud_region='', os='macOS-14.4-arm64-arm-64bit', python_version='3.10.13', codecarbon_version='2.2.2', cpu_count=10, cpu_model='Apple M1 Max', gpu_count=None, gpu_model=None, longitude=14.1513, latitude=46.5637, ram_total_size=32.0, tracking_mode='machine', on_cloud='N'),\n",
       " MonitoringData(timestamp='2024-03-19T09:44:08', project_name='Beauty_s000_0.25s_1_Christians-MacBook-Pro.local', run_id='7020e16b-3f1c-4d3d-aae9-bf08f51a580c', duration=1.0012898445129395, emissions=4.3456818878571184e-07, emissions_rate=4.3400838545116794e-07, cpu_power=5.0, gpu_power=0.0, ram_power=12.0, cpu_energy=1.405193408330283e-06, gpu_energy=0, ram_energy=3.3699663480122856e-06, energy_consumed=4.775159756342569e-06, country_name='Austria', country_iso_code='AUT', region='carinthia', cloud_provider='', cloud_region='', os='macOS-14.4-arm64-arm-64bit', python_version='3.10.13', codecarbon_version='2.2.2', cpu_count=10, cpu_model='Apple M1 Max', gpu_count=None, gpu_model=None, longitude=14.1513, latitude=46.5637, ram_total_size=32.0, tracking_mode='machine', on_cloud='N'),\n",
       " MonitoringData(timestamp='2024-03-19T09:44:09', project_name='Beauty_s000_0.25s_1_Christians-MacBook-Pro.local', run_id='7020e16b-3f1c-4d3d-aae9-bf08f51a580c', duration=1.0079030990600586, emissions=4.365124313362444e-07, emissions_rate=4.33089680687879e-07, cpu_power=5.0, gpu_power=0.0, ram_power=12.0, cpu_energy=1.4115512371063223e-06, gpu_energy=0, ram_energy=3.384972413380944e-06, energy_consumed=4.796523650487263e-06, country_name='Austria', country_iso_code='AUT', region='carinthia', cloud_provider='', cloud_region='', os='macOS-14.4-arm64-arm-64bit', python_version='3.10.13', codecarbon_version='2.2.2', cpu_count=10, cpu_model='Apple M1 Max', gpu_count=None, gpu_model=None, longitude=14.1513, latitude=46.5637, ram_total_size=32.0, tracking_mode='machine', on_cloud='N'),\n",
       " MonitoringData(timestamp='2024-03-19T09:44:10', project_name='Beauty_s000_0.25s_1_Christians-MacBook-Pro.local', run_id='7020e16b-3f1c-4d3d-aae9-bf08f51a580c', duration=1.0047390460968018, emissions=4.4452956296271565e-07, emissions_rate=4.424328532762997e-07, cpu_power=5.0, gpu_power=0.0, ram_power=12.0, cpu_energy=1.4376458194520732e-06, gpu_energy=0, ram_energy=3.4469723701476985e-06, energy_consumed=4.884618189599767e-06, country_name='Austria', country_iso_code='AUT', region='carinthia', cloud_provider='', cloud_region='', os='macOS-14.4-arm64-arm-64bit', python_version='3.10.13', codecarbon_version='2.2.2', cpu_count=10, cpu_model='Apple M1 Max', gpu_count=None, gpu_model=None, longitude=14.1513, latitude=46.5637, ram_total_size=32.0, tracking_mode='machine', on_cloud='N'),\n",
       " MonitoringData(timestamp='2024-03-19T09:44:11', project_name='Beauty_s000_0.25s_1_Christians-MacBook-Pro.local', run_id='7020e16b-3f1c-4d3d-aae9-bf08f51a580c', duration=1.003476858139038, emissions=4.3845038763271396e-07, emissions_rate=4.3693123969577767e-07, cpu_power=5.0, gpu_power=0.0, ram_power=12.0, cpu_energy=1.4175292518403802e-06, gpu_energy=0, ram_energy=3.4002892176310197e-06, energy_consumed=4.817818469471395e-06, country_name='Austria', country_iso_code='AUT', region='carinthia', cloud_provider='', cloud_region='', os='macOS-14.4-arm64-arm-64bit', python_version='3.10.13', codecarbon_version='2.2.2', cpu_count=10, cpu_model='Apple M1 Max', gpu_count=None, gpu_model=None, longitude=14.1513, latitude=46.5637, ram_total_size=32.0, tracking_mode='machine', on_cloud='N'),\n",
       " MonitoringData(timestamp='2024-03-19T09:44:12', project_name='Beauty_s000_0.25s_2_Christians-MacBook-Pro.local', run_id='7020e16b-3f1c-4d3d-aae9-bf08f51a580c', duration=1.1864731311798096, emissions=4.384326318278572e-07, emissions_rate=3.6952596759767067e-07, cpu_power=5.0, gpu_power=0.0, ram_power=12.0, cpu_energy=1.4172570572959088e-06, gpu_energy=0, ram_energy=3.4003663063049243e-06, energy_consumed=4.817623363600828e-06, country_name='Austria', country_iso_code='AUT', region='carinthia', cloud_provider='', cloud_region='', os='macOS-14.4-arm64-arm-64bit', python_version='3.10.13', codecarbon_version='2.2.2', cpu_count=10, cpu_model='Apple M1 Max', gpu_count=None, gpu_model=None, longitude=14.1513, latitude=46.5637, ram_total_size=32.0, tracking_mode='machine', on_cloud='N'),\n",
       " MonitoringData(timestamp='2024-03-19T09:44:13', project_name='Beauty_s000_0.25s_2_Christians-MacBook-Pro.local', run_id='7020e16b-3f1c-4d3d-aae9-bf08f51a580c', duration=1.027419090270996, emissions=4.3779051176892323e-07, emissions_rate=4.2610704425732434e-07, cpu_power=5.0, gpu_power=0.0, ram_power=12.0, cpu_energy=1.4155950811174181e-06, gpu_energy=0, ram_energy=3.3949724833170613e-06, energy_consumed=4.810567564434466e-06, country_name='Austria', country_iso_code='AUT', region='carinthia', cloud_provider='', cloud_region='', os='macOS-14.4-arm64-arm-64bit', python_version='3.10.13', codecarbon_version='2.2.2', cpu_count=10, cpu_model='Apple M1 Max', gpu_count=None, gpu_model=None, longitude=14.1513, latitude=46.5637, ram_total_size=32.0, tracking_mode='machine', on_cloud='N'),\n",
       " MonitoringData(timestamp='2024-03-19T09:44:14', project_name='Beauty_s000_0.25s_2_Christians-MacBook-Pro.local', run_id='7020e16b-3f1c-4d3d-aae9-bf08f51a580c', duration=0.9948008060455322, emissions=4.344060178959361e-07, emissions_rate=4.3667638310704514e-07, cpu_power=5.0, gpu_power=0.0, ram_power=12.0, cpu_energy=1.4046599467595383e-06, gpu_energy=0, ram_energy=3.3687178293863917e-06, energy_consumed=4.773377776145927e-06, country_name='Austria', country_iso_code='AUT', region='carinthia', cloud_provider='', cloud_region='', os='macOS-14.4-arm64-arm-64bit', python_version='3.10.13', codecarbon_version='2.2.2', cpu_count=10, cpu_model='Apple M1 Max', gpu_count=None, gpu_model=None, longitude=14.1513, latitude=46.5637, ram_total_size=32.0, tracking_mode='machine', on_cloud='N'),\n",
       " MonitoringData(timestamp='2024-03-19T09:44:15', project_name='Beauty_s000_0.25s_2_Christians-MacBook-Pro.local', run_id='7020e16b-3f1c-4d3d-aae9-bf08f51a580c', duration=1.0052332878112793, emissions=4.369328509451282e-07, emissions_rate=4.3465815969591845e-07, cpu_power=5.0, gpu_power=0.0, ram_power=12.0, cpu_energy=1.4127734634611318e-06, gpu_energy=0, ram_energy=3.3883698781331356e-06, energy_consumed=4.801143341594274e-06, country_name='Austria', country_iso_code='AUT', region='carinthia', cloud_provider='', cloud_region='', os='macOS-14.4-arm64-arm-64bit', python_version='3.10.13', codecarbon_version='2.2.2', cpu_count=10, cpu_model='Apple M1 Max', gpu_count=None, gpu_model=None, longitude=14.1513, latitude=46.5637, ram_total_size=32.0, tracking_mode='machine', on_cloud='N'),\n",
       " MonitoringData(timestamp='2024-03-19T09:44:16', project_name='Beauty_s000_0.25s_2_Christians-MacBook-Pro.local', run_id='7020e16b-3f1c-4d3d-aae9-bf08f51a580c', duration=1.0068058967590332, emissions=4.359372119677071e-07, emissions_rate=4.3299032452135447e-07, cpu_power=5.0, gpu_power=0.0, ram_power=12.0, cpu_energy=1.4093766609827683e-06, gpu_energy=0, ram_energy=3.3808263142903665e-06, energy_consumed=4.7902029752731315e-06, country_name='Austria', country_iso_code='AUT', region='carinthia', cloud_provider='', cloud_region='', os='macOS-14.4-arm64-arm-64bit', python_version='3.10.13', codecarbon_version='2.2.2', cpu_count=10, cpu_model='Apple M1 Max', gpu_count=None, gpu_model=None, longitude=14.1513, latitude=46.5637, ram_total_size=32.0, tracking_mode='machine', on_cloud='N'),\n",
       " MonitoringData(timestamp='2024-03-19T09:44:17', project_name='Beauty_s000_0.25s_2_Christians-MacBook-Pro.local', run_id='7020e16b-3f1c-4d3d-aae9-bf08f51a580c', duration=1.0250749588012695, emissions=4.383890559727603e-07, emissions_rate=4.276653645753046e-07, cpu_power=5.0, gpu_power=0.0, ram_power=12.0, cpu_energy=1.4175809091991856e-06, gpu_energy=0, ram_energy=3.3995636304219563e-06, energy_consumed=4.817144539621135e-06, country_name='Austria', country_iso_code='AUT', region='carinthia', cloud_provider='', cloud_region='', os='macOS-14.4-arm64-arm-64bit', python_version='3.10.13', codecarbon_version='2.2.2', cpu_count=10, cpu_model='Apple M1 Max', gpu_count=None, gpu_model=None, longitude=14.1513, latitude=46.5637, ram_total_size=32.0, tracking_mode='machine', on_cloud='N'),\n",
       " MonitoringData(timestamp='2024-03-19T09:44:18', project_name='Beauty_s000_0.25s_2_Christians-MacBook-Pro.local', run_id='7020e16b-3f1c-4d3d-aae9-bf08f51a580c', duration=0.9952819347381592, emissions=4.4756128527627993e-07, emissions_rate=4.4968291863352795e-07, cpu_power=5.0, gpu_power=0.0, ram_power=12.0, cpu_energy=1.4472779300477793e-06, gpu_energy=0, ram_energy=3.4706536928812707e-06, energy_consumed=4.917931622929023e-06, country_name='Austria', country_iso_code='AUT', region='carinthia', cloud_provider='', cloud_region='', os='macOS-14.4-arm64-arm-64bit', python_version='3.10.13', codecarbon_version='2.2.2', cpu_count=10, cpu_model='Apple M1 Max', gpu_count=None, gpu_model=None, longitude=14.1513, latitude=46.5637, ram_total_size=32.0, tracking_mode='machine', on_cloud='N'),\n",
       " MonitoringData(timestamp='2024-03-19T09:44:19', project_name='Beauty_s000_0.25s_2_Christians-MacBook-Pro.local', run_id='7020e16b-3f1c-4d3d-aae9-bf08f51a580c', duration=1.0092270374298096, emissions=4.383898575756282e-07, emissions_rate=4.343818004441024e-07, cpu_power=5.0, gpu_power=0.0, ram_power=12.0, cpu_energy=1.4174236191643612e-06, gpu_energy=0, ram_energy=3.399729728698738e-06, energy_consumed=4.817153347863099e-06, country_name='Austria', country_iso_code='AUT', region='carinthia', cloud_provider='', cloud_region='', os='macOS-14.4-arm64-arm-64bit', python_version='3.10.13', codecarbon_version='2.2.2', cpu_count=10, cpu_model='Apple M1 Max', gpu_count=None, gpu_model=None, longitude=14.1513, latitude=46.5637, ram_total_size=32.0, tracking_mode='machine', on_cloud='N'),\n",
       " MonitoringData(timestamp='2024-03-19T09:44:20', project_name='Beauty_s000_0.25s_2_Christians-MacBook-Pro.local', run_id='7020e16b-3f1c-4d3d-aae9-bf08f51a580c', duration=1.0008840560913086, emissions=4.3481412416153473e-07, emissions_rate=4.3443006361754607e-07, cpu_power=5.0, gpu_power=0.0, ram_power=12.0, cpu_energy=1.4059169424904704e-06, gpu_energy=0, ram_energy=3.3719452222188197e-06, energy_consumed=4.7778621647092935e-06, country_name='Austria', country_iso_code='AUT', region='carinthia', cloud_provider='', cloud_region='', os='macOS-14.4-arm64-arm-64bit', python_version='3.10.13', codecarbon_version='2.2.2', cpu_count=10, cpu_model='Apple M1 Max', gpu_count=None, gpu_model=None, longitude=14.1513, latitude=46.5637, ram_total_size=32.0, tracking_mode='machine', on_cloud='N'),\n",
       " MonitoringData(timestamp='2024-03-19T09:44:22', project_name='Beauty_s000_0.25s_3_Christians-MacBook-Pro.local', run_id='7020e16b-3f1c-4d3d-aae9-bf08f51a580c', duration=1.721095085144043, emissions=7.650314116423661e-07, emissions_rate=4.445026996160056e-07, cpu_power=5.0, gpu_power=0.0, ram_power=12.0, cpu_energy=2.4732275141610023e-06, gpu_energy=0, ram_energy=5.933156808217384e-06, energy_consumed=8.406384322378379e-06, country_name='Austria', country_iso_code='AUT', region='carinthia', cloud_provider='', cloud_region='', os='macOS-14.4-arm64-arm-64bit', python_version='3.10.13', codecarbon_version='2.2.2', cpu_count=10, cpu_model='Apple M1 Max', gpu_count=None, gpu_model=None, longitude=14.1513, latitude=46.5637, ram_total_size=32.0, tracking_mode='machine', on_cloud='N'),\n",
       " MonitoringData(timestamp='2024-03-19T09:44:23', project_name='Beauty_s000_0.25s_3_Christians-MacBook-Pro.local', run_id='7020e16b-3f1c-4d3d-aae9-bf08f51a580c', duration=1.0051207542419434, emissions=4.4187378033955955e-07, emissions_rate=4.396225811423209e-07, cpu_power=5.0, gpu_power=0.0, ram_power=12.0, cpu_energy=1.4294028282165464e-06, gpu_energy=0, ram_energy=3.426032861073811e-06, energy_consumed=4.855435689290371e-06, country_name='Austria', country_iso_code='AUT', region='carinthia', cloud_provider='', cloud_region='', os='macOS-14.4-arm64-arm-64bit', python_version='3.10.13', codecarbon_version='2.2.2', cpu_count=10, cpu_model='Apple M1 Max', gpu_count=None, gpu_model=None, longitude=14.1513, latitude=46.5637, ram_total_size=32.0, tracking_mode='machine', on_cloud='N'),\n",
       " MonitoringData(timestamp='2024-03-19T09:44:24', project_name='Beauty_s000_0.25s_3_Christians-MacBook-Pro.local', run_id='7020e16b-3f1c-4d3d-aae9-bf08f51a580c', duration=1.0053019523620605, emissions=4.3708276273542064e-07, emissions_rate=4.347775926510932e-07, cpu_power=5.0, gpu_power=0.0, ram_power=12.0, cpu_energy=1.413197649849783e-06, gpu_energy=0, ram_energy=3.389592965443922e-06, energy_consumed=4.802790615293718e-06, country_name='Austria', country_iso_code='AUT', region='carinthia', cloud_provider='', cloud_region='', os='macOS-14.4-arm64-arm-64bit', python_version='3.10.13', codecarbon_version='2.2.2', cpu_count=10, cpu_model='Apple M1 Max', gpu_count=None, gpu_model=None, longitude=14.1513, latitude=46.5637, ram_total_size=32.0, tracking_mode='machine', on_cloud='N'),\n",
       " MonitoringData(timestamp='2024-03-19T09:44:25', project_name='Beauty_s000_0.25s_3_Christians-MacBook-Pro.local', run_id='7020e16b-3f1c-4d3d-aae9-bf08f51a580c', duration=1.0007672309875488, emissions=4.4412060687753896e-07, emissions_rate=4.4378012501396995e-07, cpu_power=5.0, gpu_power=0.0, ram_power=12.0, cpu_energy=1.4361315303378615e-06, gpu_energy=0, ram_energy=3.4439929326375335e-06, energy_consumed=4.880124462975402e-06, country_name='Austria', country_iso_code='AUT', region='carinthia', cloud_provider='', cloud_region='', os='macOS-14.4-arm64-arm-64bit', python_version='3.10.13', codecarbon_version='2.2.2', cpu_count=10, cpu_model='Apple M1 Max', gpu_count=None, gpu_model=None, longitude=14.1513, latitude=46.5637, ram_total_size=32.0, tracking_mode='machine', on_cloud='N'),\n",
       " MonitoringData(timestamp='2024-03-19T09:44:26', project_name='Beauty_s000_0.25s_3_Christians-MacBook-Pro.local', run_id='7020e16b-3f1c-4d3d-aae9-bf08f51a580c', duration=1.0004119873046875, emissions=3.273247065491144e-07, emissions_rate=3.2718990846060677e-07, cpu_power=5.0, gpu_power=0.0, ram_power=12.0, cpu_energy=1.0583864317999933e-06, gpu_energy=0, ram_energy=2.538351217905692e-06, energy_consumed=3.5967376497056787e-06, country_name='Austria', country_iso_code='AUT', region='carinthia', cloud_provider='', cloud_region='', os='macOS-14.4-arm64-arm-64bit', python_version='3.10.13', codecarbon_version='2.2.2', cpu_count=10, cpu_model='Apple M1 Max', gpu_count=None, gpu_model=None, longitude=14.1513, latitude=46.5637, ram_total_size=32.0, tracking_mode='machine', on_cloud='N'),\n",
       " MonitoringData(timestamp='2024-03-19T09:44:27', project_name='Beauty_s000_0.25s_3_Christians-MacBook-Pro.local', run_id='7020e16b-3f1c-4d3d-aae9-bf08f51a580c', duration=1.0018818378448486, emissions=4.357996255748795e-07, emissions_rate=4.349810617510839e-07, cpu_power=5.0, gpu_power=0.0, ram_power=12.0, cpu_energy=1.409374011887446e-06, gpu_energy=0, ram_energy=3.379317124684649e-06, energy_consumed=4.788691136572081e-06, country_name='Austria', country_iso_code='AUT', region='carinthia', cloud_provider='', cloud_region='', os='macOS-14.4-arm64-arm-64bit', python_version='3.10.13', codecarbon_version='2.2.2', cpu_count=10, cpu_model='Apple M1 Max', gpu_count=None, gpu_model=None, longitude=14.1513, latitude=46.5637, ram_total_size=32.0, tracking_mode='machine', on_cloud='N'),\n",
       " MonitoringData(timestamp='2024-03-19T09:44:28', project_name='Beauty_s000_0.25s_3_Christians-MacBook-Pro.local', run_id='7020e16b-3f1c-4d3d-aae9-bf08f51a580c', duration=1.0010371208190918, emissions=4.477366916539935e-07, emissions_rate=4.47272815705012e-07, cpu_power=5.0, gpu_power=0.0, ram_power=12.0, cpu_energy=1.4477279451158357e-06, gpu_energy=0, ram_energy=3.4721310933431002e-06, energy_consumed=4.919859038458922e-06, country_name='Austria', country_iso_code='AUT', region='carinthia', cloud_provider='', cloud_region='', os='macOS-14.4-arm64-arm-64bit', python_version='3.10.13', codecarbon_version='2.2.2', cpu_count=10, cpu_model='Apple M1 Max', gpu_count=None, gpu_model=None, longitude=14.1513, latitude=46.5637, ram_total_size=32.0, tracking_mode='machine', on_cloud='N'),\n",
       " MonitoringData(timestamp='2024-03-19T09:44:29', project_name='Beauty_s000_0.25s_3_Christians-MacBook-Pro.local', run_id='7020e16b-3f1c-4d3d-aae9-bf08f51a580c', duration=1.010941982269287, emissions=4.326390682020442e-07, emissions_rate=4.279563771116601e-07, cpu_power=5.0, gpu_power=0.0, ram_power=12.0, cpu_energy=1.3989683654573156e-06, gpu_energy=0, ram_energy=3.354993661244712e-06, energy_consumed=4.753962026702034e-06, country_name='Austria', country_iso_code='AUT', region='carinthia', cloud_provider='', cloud_region='', os='macOS-14.4-arm64-arm-64bit', python_version='3.10.13', codecarbon_version='2.2.2', cpu_count=10, cpu_model='Apple M1 Max', gpu_count=None, gpu_model=None, longitude=14.1513, latitude=46.5637, ram_total_size=32.0, tracking_mode='machine', on_cloud='N'),\n",
       " MonitoringData(timestamp='2024-03-19T09:44:30', project_name='Beauty_s000_0.25s_3_Christians-MacBook-Pro.local', run_id='7020e16b-3f1c-4d3d-aae9-bf08f51a580c', duration=1.002328872680664, emissions=4.355059797607534e-07, emissions_rate=4.34494098325254e-07, cpu_power=5.0, gpu_power=0.0, ram_power=12.0, cpu_energy=1.4081802633073641e-06, gpu_energy=0, ram_energy=3.377284208933506e-06, energy_consumed=4.785464472240877e-06, country_name='Austria', country_iso_code='AUT', region='carinthia', cloud_provider='', cloud_region='', os='macOS-14.4-arm64-arm-64bit', python_version='3.10.13', codecarbon_version='2.2.2', cpu_count=10, cpu_model='Apple M1 Max', gpu_count=None, gpu_model=None, longitude=14.1513, latitude=46.5637, ram_total_size=32.0, tracking_mode='machine', on_cloud='N')]"
      ]
     },
     "execution_count": 7,
     "metadata": {},
     "output_type": "execute_result"
    }
   ],
   "source": [
    "collected_measurements"
   ]
  },
  {
   "cell_type": "code",
   "execution_count": 8,
   "metadata": {},
   "outputs": [
    {
     "data": {
      "text/plain": [
       "29"
      ]
     },
     "execution_count": 8,
     "metadata": {},
     "output_type": "execute_result"
    }
   ],
   "source": [
    "len(collected_measurements)"
   ]
  },
  {
   "cell_type": "code",
   "execution_count": 9,
   "metadata": {},
   "outputs": [
    {
     "data": {
      "text/html": [
       "<div>\n",
       "<style scoped>\n",
       "    .dataframe tbody tr th:only-of-type {\n",
       "        vertical-align: middle;\n",
       "    }\n",
       "\n",
       "    .dataframe tbody tr th {\n",
       "        vertical-align: top;\n",
       "    }\n",
       "\n",
       "    .dataframe thead th {\n",
       "        text-align: right;\n",
       "    }\n",
       "</style>\n",
       "<table border=\"1\" class=\"dataframe\">\n",
       "  <thead>\n",
       "    <tr style=\"text-align: right;\">\n",
       "      <th></th>\n",
       "      <th>timestamp</th>\n",
       "      <th>project_name</th>\n",
       "      <th>run_id</th>\n",
       "      <th>duration</th>\n",
       "      <th>emissions</th>\n",
       "      <th>emissions_rate</th>\n",
       "      <th>cpu_power</th>\n",
       "      <th>gpu_power</th>\n",
       "      <th>ram_power</th>\n",
       "      <th>cpu_energy</th>\n",
       "      <th>...</th>\n",
       "      <th>cpu_count</th>\n",
       "      <th>cpu_model</th>\n",
       "      <th>gpu_count</th>\n",
       "      <th>gpu_model</th>\n",
       "      <th>longitude</th>\n",
       "      <th>latitude</th>\n",
       "      <th>ram_total_size</th>\n",
       "      <th>tracking_mode</th>\n",
       "      <th>on_cloud</th>\n",
       "      <th>video_index</th>\n",
       "    </tr>\n",
       "  </thead>\n",
       "  <tbody>\n",
       "    <tr>\n",
       "      <th>0</th>\n",
       "      <td>2024-03-19T09:44:01</td>\n",
       "      <td>Beauty_s000_0.25s_1_Christians-MacBook-Pro.local</td>\n",
       "      <td>7020e16b-3f1c-4d3d-aae9-bf08f51a580c</td>\n",
       "      <td>1.005661</td>\n",
       "      <td>3.281978e-07</td>\n",
       "      <td>3.263503e-07</td>\n",
       "      <td>5.0</td>\n",
       "      <td>0.0</td>\n",
       "      <td>12.0</td>\n",
       "      <td>0.000001</td>\n",
       "      <td>...</td>\n",
       "      <td>10</td>\n",
       "      <td>Apple M1 Max</td>\n",
       "      <td>None</td>\n",
       "      <td>None</td>\n",
       "      <td>14.1513</td>\n",
       "      <td>46.5637</td>\n",
       "      <td>32.0</td>\n",
       "      <td>machine</td>\n",
       "      <td>N</td>\n",
       "      <td>1</td>\n",
       "    </tr>\n",
       "    <tr>\n",
       "      <th>1</th>\n",
       "      <td>2024-03-19T09:44:02</td>\n",
       "      <td>Beauty_s000_0.25s_1_Christians-MacBook-Pro.local</td>\n",
       "      <td>7020e16b-3f1c-4d3d-aae9-bf08f51a580c</td>\n",
       "      <td>1.005130</td>\n",
       "      <td>4.356579e-07</td>\n",
       "      <td>4.334344e-07</td>\n",
       "      <td>5.0</td>\n",
       "      <td>0.0</td>\n",
       "      <td>12.0</td>\n",
       "      <td>0.000001</td>\n",
       "      <td>...</td>\n",
       "      <td>10</td>\n",
       "      <td>Apple M1 Max</td>\n",
       "      <td>None</td>\n",
       "      <td>None</td>\n",
       "      <td>14.1513</td>\n",
       "      <td>46.5637</td>\n",
       "      <td>32.0</td>\n",
       "      <td>machine</td>\n",
       "      <td>N</td>\n",
       "      <td>1</td>\n",
       "    </tr>\n",
       "  </tbody>\n",
       "</table>\n",
       "<p>2 rows × 31 columns</p>\n",
       "</div>"
      ],
      "text/plain": [
       "             timestamp                                      project_name  \\\n",
       "0  2024-03-19T09:44:01  Beauty_s000_0.25s_1_Christians-MacBook-Pro.local   \n",
       "1  2024-03-19T09:44:02  Beauty_s000_0.25s_1_Christians-MacBook-Pro.local   \n",
       "\n",
       "                                 run_id  duration     emissions  \\\n",
       "0  7020e16b-3f1c-4d3d-aae9-bf08f51a580c  1.005661  3.281978e-07   \n",
       "1  7020e16b-3f1c-4d3d-aae9-bf08f51a580c  1.005130  4.356579e-07   \n",
       "\n",
       "   emissions_rate  cpu_power  gpu_power  ram_power  cpu_energy  ...  \\\n",
       "0    3.263503e-07        5.0        0.0       12.0    0.000001  ...   \n",
       "1    4.334344e-07        5.0        0.0       12.0    0.000001  ...   \n",
       "\n",
       "   cpu_count     cpu_model  gpu_count gpu_model longitude latitude  \\\n",
       "0         10  Apple M1 Max       None      None   14.1513  46.5637   \n",
       "1         10  Apple M1 Max       None      None   14.1513  46.5637   \n",
       "\n",
       "  ram_total_size tracking_mode on_cloud video_index  \n",
       "0           32.0       machine        N           1  \n",
       "1           32.0       machine        N           1  \n",
       "\n",
       "[2 rows x 31 columns]"
      ]
     },
     "execution_count": 9,
     "metadata": {},
     "output_type": "execute_result"
    }
   ],
   "source": [
    "df = pd.DataFrame(collected_measurements)\n",
    "df['video_index'] = df['project_name'].apply(lambda x: x.split('_')[3])\n",
    "df.head(2)"
   ]
  },
  {
   "cell_type": "code",
   "execution_count": 10,
   "metadata": {},
   "outputs": [],
   "source": [
    "df['emissions_rate_norm'] = df['emissions_rate'] / df['emissions_rate'].max()"
   ]
  },
  {
   "cell_type": "code",
   "execution_count": 11,
   "metadata": {},
   "outputs": [
    {
     "data": {
      "text/plain": [
       "Text(0.5, 0, 'Periodic Measurement Interval [s]')"
      ]
     },
     "execution_count": 11,
     "metadata": {},
     "output_type": "execute_result"
    },
    {
     "data": {
      "image/png": "[encoded data removed]",
      "text/plain": [
       "<Figure size 640x480 with 1 Axes>"
      ]
     },
     "metadata": {},
     "output_type": "display_data"
    }
   ],
   "source": [
    "# df['emissions_rate_norm'].plot.bar()\n",
    "sns.barplot(data=df, x=df.index, y='emissions_rate_norm', hue='video_index')\n",
    "\n",
    "plt.xlabel('Periodic Measurement Interval [s]')"
   ]
  },
  {
   "cell_type": "code",
   "execution_count": 14,
   "metadata": {},
   "outputs": [
    {
     "name": "stderr",
     "output_type": "stream",
     "text": [
      "/var/folders/k8/rwvwc5ns3d16t55m5svq75wh0000gn/T/ipykernel_26242/2398987304.py:2: FutureWarning: The default value of numeric_only in DataFrameGroupBy.sum is deprecated. In a future version, numeric_only will default to False. Either specify numeric_only or select only columns which should be valid for the function.\n",
      "  combined_df.agg('sum')\n"
     ]
    },
    {
     "data": {
      "text/html": [
       "<div>\n",
       "<style scoped>\n",
       "    .dataframe tbody tr th:only-of-type {\n",
       "        vertical-align: middle;\n",
       "    }\n",
       "\n",
       "    .dataframe tbody tr th {\n",
       "        vertical-align: top;\n",
       "    }\n",
       "\n",
       "    .dataframe thead th {\n",
       "        text-align: right;\n",
       "    }\n",
       "</style>\n",
       "<table border=\"1\" class=\"dataframe\">\n",
       "  <thead>\n",
       "    <tr style=\"text-align: right;\">\n",
       "      <th></th>\n",
       "      <th>duration</th>\n",
       "      <th>emissions</th>\n",
       "      <th>emissions_rate</th>\n",
       "      <th>cpu_power</th>\n",
       "      <th>gpu_power</th>\n",
       "      <th>ram_power</th>\n",
       "      <th>cpu_energy</th>\n",
       "      <th>gpu_energy</th>\n",
       "      <th>ram_energy</th>\n",
       "      <th>energy_consumed</th>\n",
       "      <th>cpu_count</th>\n",
       "      <th>longitude</th>\n",
       "      <th>latitude</th>\n",
       "      <th>ram_total_size</th>\n",
       "      <th>emissions_rate_norm</th>\n",
       "    </tr>\n",
       "    <tr>\n",
       "      <th>video_index</th>\n",
       "      <th></th>\n",
       "      <th></th>\n",
       "      <th></th>\n",
       "      <th></th>\n",
       "      <th></th>\n",
       "      <th></th>\n",
       "      <th></th>\n",
       "      <th></th>\n",
       "      <th></th>\n",
       "      <th></th>\n",
       "      <th></th>\n",
       "      <th></th>\n",
       "      <th></th>\n",
       "      <th></th>\n",
       "      <th></th>\n",
       "    </tr>\n",
       "  </thead>\n",
       "  <tbody>\n",
       "    <tr>\n",
       "      <th>1</th>\n",
       "      <td>11.054009</td>\n",
       "      <td>0.000005</td>\n",
       "      <td>0.000005</td>\n",
       "      <td>55.0</td>\n",
       "      <td>0.0</td>\n",
       "      <td>132.0</td>\n",
       "      <td>0.000015</td>\n",
       "      <td>0</td>\n",
       "      <td>0.000037</td>\n",
       "      <td>0.000052</td>\n",
       "      <td>110</td>\n",
       "      <td>155.6643</td>\n",
       "      <td>512.2007</td>\n",
       "      <td>352.0</td>\n",
       "      <td>10.442969</td>\n",
       "    </tr>\n",
       "    <tr>\n",
       "      <th>2</th>\n",
       "      <td>9.251200</td>\n",
       "      <td>0.000004</td>\n",
       "      <td>0.000004</td>\n",
       "      <td>45.0</td>\n",
       "      <td>0.0</td>\n",
       "      <td>108.0</td>\n",
       "      <td>0.000013</td>\n",
       "      <td>0</td>\n",
       "      <td>0.000031</td>\n",
       "      <td>0.000043</td>\n",
       "      <td>90</td>\n",
       "      <td>127.3617</td>\n",
       "      <td>419.0733</td>\n",
       "      <td>288.0</td>\n",
       "      <td>8.552956</td>\n",
       "    </tr>\n",
       "    <tr>\n",
       "      <th>3</th>\n",
       "      <td>9.748887</td>\n",
       "      <td>0.000004</td>\n",
       "      <td>0.000004</td>\n",
       "      <td>45.0</td>\n",
       "      <td>0.0</td>\n",
       "      <td>108.0</td>\n",
       "      <td>0.000013</td>\n",
       "      <td>0</td>\n",
       "      <td>0.000032</td>\n",
       "      <td>0.000046</td>\n",
       "      <td>90</td>\n",
       "      <td>127.3617</td>\n",
       "      <td>419.0733</td>\n",
       "      <td>288.0</td>\n",
       "      <td>8.527291</td>\n",
       "    </tr>\n",
       "  </tbody>\n",
       "</table>\n",
       "</div>"
      ],
      "text/plain": [
       "              duration  emissions  emissions_rate  cpu_power  gpu_power  \\\n",
       "video_index                                                               \n",
       "1            11.054009   0.000005        0.000005       55.0        0.0   \n",
       "2             9.251200   0.000004        0.000004       45.0        0.0   \n",
       "3             9.748887   0.000004        0.000004       45.0        0.0   \n",
       "\n",
       "             ram_power  cpu_energy  gpu_energy  ram_energy  energy_consumed  \\\n",
       "video_index                                                                   \n",
       "1                132.0    0.000015           0    0.000037         0.000052   \n",
       "2                108.0    0.000013           0    0.000031         0.000043   \n",
       "3                108.0    0.000013           0    0.000032         0.000046   \n",
       "\n",
       "             cpu_count  longitude  latitude  ram_total_size  \\\n",
       "video_index                                                   \n",
       "1                  110   155.6643  512.2007           352.0   \n",
       "2                   90   127.3617  419.0733           288.0   \n",
       "3                   90   127.3617  419.0733           288.0   \n",
       "\n",
       "             emissions_rate_norm  \n",
       "video_index                       \n",
       "1                      10.442969  \n",
       "2                       8.552956  \n",
       "3                       8.527291  "
      ]
     },
     "execution_count": 14,
     "metadata": {},
     "output_type": "execute_result"
    }
   ],
   "source": []
  },
  {
   "cell_type": "code",
   "execution_count": 18,
   "metadata": {},
   "outputs": [
    {
     "name": "stderr",
     "output_type": "stream",
     "text": [
      "/var/folders/k8/rwvwc5ns3d16t55m5svq75wh0000gn/T/ipykernel_26242/2156438786.py:2: FutureWarning: The default value of numeric_only in DataFrameGroupBy.sum is deprecated. In a future version, numeric_only will default to False. Either specify numeric_only or select only columns which should be valid for the function.\n",
      "  agg = combined_df.agg('sum')\n"
     ]
    },
    {
     "data": {
      "text/plain": [
       "<Axes: xlabel='video_index', ylabel='emissions_rate_norm'>"
      ]
     },
     "execution_count": 18,
     "metadata": {},
     "output_type": "execute_result"
    },
    {
     "data": {
      "image/png": "[encoded data removed]",
      "text/plain": [
       "<Figure size 640x480 with 1 Axes>"
      ]
     },
     "metadata": {},
     "output_type": "display_data"
    }
   ],
   "source": [
    "combined_df = df.groupby('video_index')\n",
    "agg = combined_df.agg('sum')\n",
    "agg['emissions_rate_norm'] = agg['emissions_rate'] / agg['emissions_rate'].max()\n",
    "sns.barplot(data=agg, x=agg.index, y='emissions_rate_norm')"
   ]
  },
  {
   "cell_type": "code",
   "execution_count": 26,
   "metadata": {},
   "outputs": [],
   "source": [
    "# for i in range(10):\n",
    "#     tracker._project_name = f'Beauty_s000_{measurement_interval}s_{i}'\n",
    "#     tracker.start()\n",
    "#     os.system('ffmpeg -y -re -i Beauty_s000.265 -b:v:0 1000k -b:v:0 1000k -minrate 1000k -maxrate 1000k -bufsize 3000k -c:v:0 libx264 -filter:v:0 \"scale=200:100 ,fps=10\" -preset medium -keyint_min 10 -g 10 test.mp4')\n",
    "#     tracker.stop()\n",
    "#     sleep(0.2)\n",
    "    \n",
    "\n",
    "# for i in range(10):\n",
    "#     tracker._project_name = f'sleep_{measurement_interval}s_{i}'\n",
    "#     tracker.start()\n",
    "#     os.system('sleep 3')\n",
    "#     tracker.stop()\n",
    "#     sleep(0.2)"
   ]
  },
  {
   "cell_type": "code",
   "execution_count": null,
   "metadata": {},
   "outputs": [],
   "source": [
    "\n"
   ]
  },
  {
   "cell_type": "code",
   "execution_count": 27,
   "metadata": {},
   "outputs": [],
   "source": [
    "# for i in range(12):\n",
    "#     rm.start_monitoring('sleep 2')\n",
    "\n",
    "# # rm.tracker.stop()\n",
    "# rm.tracker.stop()\n",
    "\n",
    "# rm.collected_data"
   ]
  },
  {
   "cell_type": "code",
   "execution_count": 28,
   "metadata": {},
   "outputs": [],
   "source": [
    "# for i in rm.collected_data:\n",
    "#     print(type(i))"
   ]
  }
 ],
 "metadata": {
  "kernelspec": {
   "display_name": "gaia-tools",
   "language": "python",
   "name": "python3"
  },
  "language_info": {
   "codemirror_mode": {
    "name": "ipython",
    "version": 3
   },
   "file_extension": ".py",
   "mimetype": "text/x-python",
   "name": "python",
   "nbconvert_exporter": "python",
   "pygments_lexer": "ipython3",
   "version": "3.10.13"
  }
 },
 "nbformat": 4,
 "nbformat_minor": 2
}
