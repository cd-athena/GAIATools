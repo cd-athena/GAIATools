{
 "cells": [
  {
   "cell_type": "code",
   "execution_count": 1,
   "metadata": {},
   "outputs": [],
   "source": [
    "from greem.utility.monitoring import BaseMonitoring, RegularMonitoring, PeriodicMonitoring\n",
    "from codecarbon import EmissionsTracker\n",
    "import os\n",
    "import pandas as pd\n",
    "from time import sleep"
   ]
  },
  {
   "cell_type": "code",
   "execution_count": 2,
   "metadata": {},
   "outputs": [
    {
     "data": {
      "text/plain": [
       "'Christians-MacBook-Pro.local'"
      ]
     },
     "execution_count": 2,
     "metadata": {},
     "output_type": "execute_result"
    }
   ],
   "source": [
    "host_name: str = os.uname()[1]\n",
    "host_name"
   ]
  },
  {
   "cell_type": "markdown",
   "metadata": {},
   "source": [
    "```bash\n",
    "for run in {1..5}; do\n",
    "  ffmpeg -y -re -i Beauty_s000.265 -b:v:0 1000k -b:v:0 1000k -minrate 1000k -maxrate 1000k -bufsize 3000k -c:v:0 libx264 -filter:v:0 \"scale=200:100 ,fps=10\" -preset medium -keyint_min 10 -g 10 test.mp4\n",
    "done\n",
    "```"
   ]
  },
  {
   "cell_type": "code",
   "execution_count": 3,
   "metadata": {},
   "outputs": [],
   "source": [
    "def start_measuring(measurement_interval: float, repetitions: int = 10, sleep_time: float = 0):\n",
    "    tracker = EmissionsTracker(\n",
    "        measure_power_secs=measurement_interval, \n",
    "        project_name='test test', \n",
    "        log_level='error',\n",
    "        output_file=f'idle_emissions_{host_name}.csv')\n",
    "\n",
    "    os.system('sleep 2')\n",
    "\n",
    "    for i in range(repetitions):\n",
    "        os.system('stress -c 4 -t 1 -q')\n",
    "        # os.system('sleep 0.2') # just to ensure that the stress test does not affect the measurements\n",
    "        tracker._project_name = f'sleep_{measurement_interval}s_{(i + 1)}_{host_name}'\n",
    "        tracker.start()\n",
    "        os.system(f'sleep {sleep_time}')\n",
    "        tracker.stop()\n",
    "\n",
    "    \n",
    "        \n"
   ]
  },
  {
   "cell_type": "code",
   "execution_count": 5,
   "metadata": {},
   "outputs": [
    {
     "data": {
      "text/plain": [
       "[0.1,\n",
       " 0.125,\n",
       " 0.15,\n",
       " 0.175,\n",
       " 0.2,\n",
       " 0.25,\n",
       " 0.5,\n",
       " 0.75,\n",
       " 1.0,\n",
       " 1.25,\n",
       " 1.5,\n",
       " 1.75,\n",
       " 2.0,\n",
       " 2.25,\n",
       " 2.5,\n",
       " 2.75,\n",
       " 3.0]"
      ]
     },
     "execution_count": 5,
     "metadata": {},
     "output_type": "execute_result"
    }
   ],
   "source": [
    "step: float = 0.25\n",
    "small_intervals = [0.1, 0.125, 0.15, 0.175, 0.2]\n",
    "\n",
    "intervals: list[float] = small_intervals + [step * x for x in range(1, 13)]\n",
    "last_val = intervals[-1]\n",
    "# intervals.extend([1 * x + last_val for x in range(1, 8)])\n",
    "intervals"
   ]
  },
  {
   "cell_type": "code",
   "execution_count": null,
   "metadata": {},
   "outputs": [],
   "source": [
    "for i in intervals:\n",
    "    print(f'start interval: {i}')\n",
    "    start_measuring(\n",
    "        measurement_interval=i, \n",
    "        repetitions=3, \n",
    "        sleep_time=15\n",
    "        )\n",
    "os.system('stress -c 4 -t 10')"
   ]
  }
 ],
 "metadata": {
  "kernelspec": {
   "display_name": "gaia-tools",
   "language": "python",
   "name": "python3"
  },
  "language_info": {
   "codemirror_mode": {
    "name": "ipython",
    "version": 3
   },
   "file_extension": ".py",
   "mimetype": "text/x-python",
   "name": "python",
   "nbconvert_exporter": "python",
   "pygments_lexer": "ipython3",
   "version": "3.10.13"
  }
 },
 "nbformat": 4,
 "nbformat_minor": 2
}
