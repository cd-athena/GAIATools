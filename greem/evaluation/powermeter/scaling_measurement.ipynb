{
 "cells": [
  {
   "cell_type": "code",
   "execution_count": null,
   "metadata": {},
   "outputs": [],
   "source": [
    "from greem.utility.monitoring import BaseMonitoring, RegularMonitoring, PeriodicMonitoring\n",
    "from codecarbon import EmissionsTracker\n",
    "import os\n",
    "import pandas as pd\n",
    "from time import sleep"
   ]
  },
  {
   "cell_type": "code",
   "execution_count": null,
   "metadata": {},
   "outputs": [],
   "source": [
    "host_name: str = os.uname()[1]\n",
    "host_name"
   ]
  },
  {
   "cell_type": "code",
   "execution_count": null,
   "metadata": {},
   "outputs": [],
   "source": [
    "low_res_video: str = 'beauty_low_res.mp4'\n",
    "high_res_video: str = 'beauty_high_res.mp4'\n",
    "\n",
    "os.system(f'ffmpeg -n -re -i Beauty_s000.265 -b:v:0 1000k -minrate 1000k -maxrate 1000k -bufsize 3000k -c:v:0 libx264 -filter:v:0 \"scale=640:360\" -preset medium -keyint_min 10 -g 10 {low_res_video}')\n",
    "os.system(f'ffmpeg -n -re -i Beauty_s000.265 -c:v:0 libx264 -crf 15 -preset medium {high_res_video}')"
   ]
  },
  {
   "cell_type": "code",
   "execution_count": null,
   "metadata": {},
   "outputs": [],
   "source": [
    "measurement_interval = 0.25\n",
    "repetitions = 15\n",
    "\n",
    "tracker = EmissionsTracker(\n",
    "    measure_power_secs=measurement_interval,\n",
    "    project_name='test test',\n",
    "    log_level='error',\n",
    "    output_file=f'video_scaling_emissions_{host_name}.csv')\n",
    "\n",
    "for i in range(repetitions):\n",
    "    tracker._project_name = f'high_res_{measurement_interval}s_{(i + 1)}'\n",
    "    tracker.start()\n",
    "    os.system(f'ffmpeg -y -re -i {high_res_video} -c:v:0 libx264 -preset medium test.mp4')\n",
    "    tracker.stop()\n",
    "    sleep(0.5)\n",
    "\n",
    "sleep(10)\n",
    "\n",
    "for i in range(repetitions):\n",
    "    tracker._project_name = f'low_res{measurement_interval}s_{(i + 1)}'\n",
    "    tracker.start()\n",
    "    os.system(f'ffmpeg -y -re -i {low_res_video} -c:v:0 libx264 -preset medium test.mp4')\n",
    "    tracker.stop()\n",
    "    sleep(0.5)"
   ]
  },
  {
   "cell_type": "code",
   "execution_count": null,
   "metadata": {},
   "outputs": [],
   "source": [
    "print('DONE')"
   ]
  }
 ],
 "metadata": {
  "kernelspec": {
   "display_name": "gaia-tools",
   "language": "python",
   "name": "python3"
  },
  "language_info": {
   "codemirror_mode": {
    "name": "ipython",
    "version": 3
   },
   "file_extension": ".py",
   "mimetype": "text/x-python",
   "name": "python",
   "nbconvert_exporter": "python",
   "pygments_lexer": "ipython3",
   "version": "3.10.13"
  }
 },
 "nbformat": 4,
 "nbformat_minor": 2
}
