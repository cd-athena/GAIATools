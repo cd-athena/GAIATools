{
 "cells": [
  {
   "cell_type": "code",
   "metadata": {},
   "source": [
    "# from greem.utility.monitoring import BaseMonitoring, RegularMonitoring, PeriodicMonitoring\n",
    "from codecarbon import OfflineEmissionsTracker\n",
    "import os\n",
    "# import pandas as pd\n",
    "from time import sleep"
   ],
   "outputs": [],
   "execution_count": null
  },
  {
   "cell_type": "code",
   "metadata": {},
   "source": [
    "host_name: str = os.uname()[1]\n",
    "host_name"
   ],
   "outputs": [],
   "execution_count": null
  },
  {
   "cell_type": "code",
   "metadata": {},
   "source": [
    "mid_res_video: str = 'beauty_mid_res.mp4'\n",
    "low_res_video: str = 'beauty_low_res.mp4'\n",
    "high_res_video: str = 'beauty_high_res.mp4'\n",
    "\n",
    "os.system(\n",
    "    f'ffmpeg -n -re -i Beauty_s000.265 -c:v:0 libx264 -filter:v:0 \"scale=1920:1080\" -preset medium {mid_res_video}')\n",
    "# f'ffmpeg -n -re -i Beauty_s000.265 -c:v:0 libx264 -filter:v:0 \"scale=1920:1080\" -preset medium {low_res_video}')\n",
    "os.system(f'ffmpeg -n -re -i Beauty_s000.265 -c:v:0 libx264 -crf 15 -preset medium {high_res_video}')"
   ],
   "outputs": [],
   "execution_count": null
  },
  {
   "cell_type": "code",
   "metadata": {},
   "source": [
    "# measurement_interval = 0.25\n",
    "# repetitions = 15\n",
    "# # idle with just powermeter\n",
    "# sleep(60)\n",
    "# \n",
    "# # idle with codecarbon\n",
    "# tracker = OfflineEmissionsTracker(\n",
    "#     measure_power_secs=measurement_interval,\n",
    "#     project_name='idle',\n",
    "#     log_level='error',\n",
    "#     country_iso_code='AUT')\n",
    "# \n",
    "# tracker.start()\n",
    "# \n",
    "# sleep(60)\n",
    "# \n",
    "# tracker.stop()\n",
    "# \n",
    "# tracker = OfflineEmissionsTracker(\n",
    "#     measure_power_secs=measurement_interval,\n",
    "#     project_name=f'high_res_{measurement_interval}s',\n",
    "#     log_level='error',\n",
    "#     country_iso_code='AUT')\n",
    "# \n",
    "# tracker.start()\n",
    "# \n",
    "# for i in range(repetitions):\n",
    "#     os.system(f'ffmpeg -y -re -i {high_res_video} -c:v:0 libx264 -preset medium test.mp4')\n",
    "# \n",
    "# tracker.stop()\n",
    "# \n",
    "# sleep(10)\n",
    "# \n",
    "# tracker = OfflineEmissionsTracker(\n",
    "#     measure_power_secs=measurement_interval,\n",
    "#     project_name=f'mid_res_{measurement_interval}s',\n",
    "#     log_level='error',\n",
    "#     country_iso_code='AUT')\n",
    "# \n",
    "# tracker.start()\n",
    "# \n",
    "# for i in range(repetitions):\n",
    "#     os.system(f'ffmpeg -y -re -i {mid_res_video} -c:v:0 libx264 -preset medium test.mp4')\n",
    "# \n",
    "# tracker.stop()"
   ],
   "outputs": [],
   "execution_count": null
  }
 ],
 "metadata": {
  "kernelspec": {
   "display_name": "gaia-tools",
   "language": "python",
   "name": "python3"
  },
  "language_info": {
   "codemirror_mode": {
    "name": "ipython",
    "version": 3
   },
   "file_extension": ".py",
   "mimetype": "text/x-python",
   "name": "python",
   "nbconvert_exporter": "python",
   "pygments_lexer": "ipython3",
   "version": "3.10.13"
  }
 },
 "nbformat": 4,
 "nbformat_minor": 2
}
