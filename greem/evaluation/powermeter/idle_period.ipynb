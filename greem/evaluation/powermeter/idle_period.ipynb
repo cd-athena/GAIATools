{
 "cells": [
  {
   "cell_type": "code",
   "execution_count": 2,
   "metadata": {},
   "outputs": [],
   "source": [
    "from greem.utility.monitoring import BaseMonitoring, RegularMonitoring, PeriodicMonitoring\n",
    "from codecarbon import OfflineEmissionsTracker\n",
    "import os\n",
    "import pandas as pd\n",
    "from time import sleep"
   ]
  },
  {
   "cell_type": "code",
   "execution_count": 3,
   "metadata": {},
   "outputs": [
    {
     "name": "stderr",
     "output_type": "stream",
     "text": [
      "[codecarbon INFO @ 19:50:16] offline tracker init\n"
     ]
    }
   ],
   "source": [
    "host_name: str = os.uname()[1]\n",
    "measurement_interval = 1\n",
    "\n",
    "tracker = OfflineEmissionsTracker(\n",
    "    measure_power_secs=measurement_interval, \n",
    "    project_name='test test', \n",
    "    log_level='error',\n",
    "    country_iso_code='AUT',\n",
    "    output_file=f'offline_idle_emissions_{host_name}.csv')\n",
    "\n",
    "pm = PeriodicMonitoring(tracker=tracker)\n",
    "\n",
    "pm.start()\n",
    "pm.start_monitoring('sleep 5')\n",
    "pm.start_monitoring('stress -c 4 -t 1 -q')\n",
    "\n",
    "pm.tracker._project_name = f'sleep_{measurement_interval}s_{host_name}'\n",
    "pm.start_monitoring('sleep 120')\n",
    "\n",
    "pm.start_monitoring('stress -c 4 -t 10')\n",
    "pm.stop()"
   ]
  },
  {
   "cell_type": "code",
   "execution_count": 4,
   "metadata": {},
   "outputs": [],
   "source": [
    "pd.DataFrame(pm.collected_data).to_csv('results.csv')"
   ]
  }
 ],
 "metadata": {
  "kernelspec": {
   "display_name": "gaia-tools",
   "language": "python",
   "name": "python3"
  },
  "language_info": {
   "codemirror_mode": {
    "name": "ipython",
    "version": 3
   },
   "file_extension": ".py",
   "mimetype": "text/x-python",
   "name": "python",
   "nbconvert_exporter": "python",
   "pygments_lexer": "ipython3",
   "version": "3.10.13"
  }
 },
 "nbformat": 4,
 "nbformat_minor": 2
}
