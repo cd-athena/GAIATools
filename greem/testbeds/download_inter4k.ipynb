{
 "cells": [
  {
   "cell_type": "code",
   "execution_count": 1,
   "metadata": {},
   "outputs": [],
   "source": [
    "import os\n",
    "import pathlib\n"
   ]
  },
  {
   "cell_type": "code",
   "execution_count": null,
   "metadata": {},
   "outputs": [],
   "source": []
  },
  {
   "cell_type": "code",
   "execution_count": 8,
   "metadata": {},
   "outputs": [],
   "source": [
    "def rsync_cmd(source_dir: str, destination_dir: str, user_name: str, host_ip: str) -> str:\n",
    "    cmd: list[str] = [\n",
    "        'rsync', \n",
    "        '-aP',  # check and sync the transfer status\n",
    "        f'{source_dir}/* '\n",
    "        f'{user_name}@{host_ip}:{destination_dir}'\n",
    "    ]\n",
    "    return ' '.join(cmd)\n"
   ]
  },
  {
   "cell_type": "code",
   "execution_count": 13,
   "metadata": {},
   "outputs": [
    {
     "data": {
      "text/plain": [
       "'rsync gpu5.itec.aau.at/home/itec/cbauer/GAIATools/greem/testbeds/dataset/Inter4K/60fps/HEVC/* chris@183.381.347:greem/testbeds/dataset/Inter4K/60fps/HEVC'"
      ]
     },
     "execution_count": 13,
     "metadata": {},
     "output_type": "execute_result"
    }
   ],
   "source": [
    "test_dict: dict[str, str] = {\n",
    "    'source_dir': 'gpu5.itec.aau.at/home/itec/cbauer/GAIATools/greem/testbeds/dataset/Inter4K/60fps/HEVC',\n",
    "    'destination_dir': 'greem/testbeds/dataset/Inter4K/60fps/HEVC',\n",
    "    'user_name': 'chris',\n",
    "    'host_ip': '183.381.347',\n",
    "}\n",
    "\n",
    "rsync_cmd(**test_dict)"
   ]
  },
  {
   "cell_type": "markdown",
   "metadata": {},
   "source": [
    "```bash\n",
    "rsync -a -P source/ destination/\n",
    "```\n",
    "\n",
    "`-a` (Archive Mode)\n",
    "\n",
    "The -a flag stands for \"archive\" and is a combination of several options that preserve the structure and attributes of files.\n",
    "\n",
    "-r (Recursive)\n",
    "\n",
    "The `-r` flag stands for \"recursive\" and tells rsync to copy directories and their contents recursively. \n",
    "\n",
    "`-P` (Partial and Progress)\n",
    "\n",
    "The `-P` flag is a combination of two options: `--partial` and `--progress`.\n",
    "\n",
    "- `--partial`: Keeps partially transferred files if the transfer is interrupted. This can be useful for resuming transfers without starting from scratch.\n",
    "- `--progress`: Shows progress during the transfer, displaying how much of the file has been transferred, the transfer speed, and the estimated time remaining.\n",
    "\n",
    "```bash\n",
    "rsync -arP cbauer@gpu5.itec.aau.at:/home/itec/cbauer/GAIATools/greem/testbeds/dataset/Inter4K/60fps/HEVC/ .\n",
    "```"
   ]
  }
 ],
 "metadata": {
  "kernelspec": {
   "display_name": "greem",
   "language": "python",
   "name": "python3"
  },
  "language_info": {
   "codemirror_mode": {
    "name": "ipython",
    "version": 3
   },
   "file_extension": ".py",
   "mimetype": "text/x-python",
   "name": "python",
   "nbconvert_exporter": "python",
   "pygments_lexer": "ipython3",
   "version": "3.11.9"
  }
 },
 "nbformat": 4,
 "nbformat_minor": 2
}
