{
 "cells": [
  {
   "cell_type": "code",
   "execution_count": null,
   "metadata": {},
   "outputs": [],
   "source": [
    "import numpy as np\n",
    "import os\n",
    "from greem.utility.config import Rendition, EncodingConfig, EncodingConfigDTO"
   ]
  },
  {
   "cell_type": "code",
   "execution_count": null,
   "metadata": {},
   "outputs": [],
   "source": [
    "cmd = '''\n",
    "ffmpeg \n",
    "-y \n",
    "-i ../dataset/ref_265/AncientThought_s000.265 \n",
    "-i ../dataset/ref_265/AncientThought_s001.265 \n",
    "-i ../dataset/ref_265/Basketball_s000.265 \n",
    "-i ../dataset/ref_265/Basketball_s001.265 \n",
    "-i ../dataset/ref_265/Beauty_s000.265 \n",
    "-i ../dataset/ref_265/AncientThought_s000.265 \n",
    "\n",
    "-map 0 -c:v libx264 -preset fast -vf scale=1280:720 output1.mp4 \n",
    "-map 1 -c:v libx264 -preset slow -vf scale=1280:720 output2.mp4 \n",
    "-map 2 -c:v libx264 -preset medium -vf scale=1280:720 output3.mp4 \n",
    "-map 3 -c:v libx264 -preset fast -vf scale=1280:720 output4.mp4 \n",
    "-map 4 -c:v libx264 -preset fast -vf scale=1280:720 output5.mp4 \n",
    "-map 5 -c:v libx265 -preset medium -vf scale=1920:1080 output6.mp4 \n",
    "'''\n",
    "# -map 0 -c:v libx264 -q:v 1 output1.mp4 \n",
    "# -map 1 -c:v libx264 -q:v 1 output2.mp4 \n",
    "# -map 2 -c:v libx264 -q:v 1 output3.mp4 \n",
    "# -map 3 -c:v libx264 -q:v 1 output4.mp4 \n",
    "# -map 4 -c:v libx264 -q:v 1 output5.mp4\n",
    "\n",
    "cmd = cmd.replace('\\n', '')\n",
    "cmd"
   ]
  },
  {
   "cell_type": "code",
   "execution_count": null,
   "metadata": {},
   "outputs": [],
   "source": [
    "def create_multi_video_ffmpeg_command(\n",
    "    video_input_file_paths: list[str],\n",
    "    output_directories: list[str],\n",
    "    dto: EncodingConfigDTO,\n",
    "    segment_seconds: int = 4,\n",
    "    cuda_mode: bool = False,\n",
    "    quiet_mode: bool = False,\n",
    "    pretty_print: bool = False\n",
    ") -> str:\n",
    "    cmd: list[str] = [\n",
    "        'ffmpeg', '-y', \n",
    "    ]\n",
    "    cmd.extend([f'-i {video}' for video in video_input_file_paths])\n",
    "    \n",
    "    bitrate = int(dto.rendition.bitrate)\n",
    "    fps_repr: str = '' if len(dto.framerate) == 0 else f',fps={dto.framerate}'\n",
    "    \n",
    "    for idx in range(len(video_input_file_paths)):\n",
    "        # map_cmd = f'-map {idx} -c:v mpeg4 -q:v 1 -seg_duration 4 -f dash {output_directories[idx]}/{idx}/video{idx}.mpd'\n",
    "        # cmd.append(map_cmd)\n",
    "        map_cmd: list[str] = [\n",
    "            f'-map {idx}',\n",
    "            f'-c:v {dto.codec} -preset {dto.preset}', \n",
    "            # f'-c:v libx265 -preset {preset}', \n",
    "            f'-minrate {bitrate}k -maxrate {bitrate}k -bufsize {3*bitrate}k',\n",
    "            f'-vf scale={dto.rendition.get_resolution_dir_representation()}',\n",
    "            fps_repr,\n",
    "            \n",
    "            \n",
    "            # f'-seg_duration {segment_seconds}',\n",
    "            \n",
    "            # TODO probably add resolution etc here.\n",
    "            # get_representation_ffmpeg_flags(renditions, preset, codec),\n",
    "        ]\n",
    "        \n",
    "        cmd.extend(map_cmd)\n",
    "        \n",
    "        # cmd.extend(get_representation_ffmpeg_flags(renditions, preset, codec, is_multi_video=False))\n",
    "        \n",
    "        cmd.extend([\n",
    "            f'{output_directories[idx]}output.mp4'\n",
    "            ])\n",
    "        \n",
    "    join_string: str = ' \\n' if pretty_print else ' '\n",
    "    return join_string.join(cmd)\n"
   ]
  },
  {
   "cell_type": "code",
   "execution_count": null,
   "metadata": {},
   "outputs": [],
   "source": [
    "input_file_paths: list[str] = '''-i ../dataset/ref_265/AncientThought_s000.265 \n",
    "-i ../dataset/ref_265/AncientThought_s001.265 \n",
    "-i ../dataset/ref_265/Basketball_s000.265 \n",
    "-i ../dataset/ref_265/Basketball_s001.265 \n",
    "-i ../dataset/ref_265/Beauty_s000.265 \n",
    "-i ../dataset/ref_265/AncientThought_s000.265'''.replace('-i ', '').replace(' ', '').split('\\n')\n",
    "input_file_paths\n",
    "\n",
    "output_file_paths = [f'{idx}' for idx in range(len(input_file_paths))] * len(input_file_paths)\n",
    "\n",
    "renditions: list[Rendition] = [Rendition(480, 640, 1), Rendition(1280, 1920, 2)]\n",
    "\n",
    "presets: list[str] = ['medium', 'fast']\n",
    "\n",
    "codecs: list[str] = ['h264', 'h265']\n"
   ]
  },
  {
   "cell_type": "code",
   "execution_count": null,
   "metadata": {},
   "outputs": [],
   "source": [
    "cmd = create_multi_video_ffmpeg_command(\n",
    "    input_file_paths, output_file_paths,\n",
    "    renditions[0], presets[0], codecs[0],\n",
    "    pretty_print=False\n",
    ")\n",
    "\n",
    "print(cmd)"
   ]
  },
  {
   "cell_type": "code",
   "execution_count": null,
   "metadata": {},
   "outputs": [],
   "source": [
    "os.system(cmd)"
   ]
  }
 ],
 "metadata": {
  "kernelspec": {
   "display_name": "gaia-tools",
   "language": "python",
   "name": "python3"
  },
  "language_info": {
   "codemirror_mode": {
    "name": "ipython",
    "version": 3
   },
   "file_extension": ".py",
   "mimetype": "text/x-python",
   "name": "python",
   "nbconvert_exporter": "python",
   "pygments_lexer": "ipython3",
   "version": "3.10.13"
  }
 },
 "nbformat": 4,
 "nbformat_minor": 2
}
