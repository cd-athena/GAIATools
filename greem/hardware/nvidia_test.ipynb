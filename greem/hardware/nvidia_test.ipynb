{
 "cells": [
  {
   "cell_type": "code",
   "execution_count": 1,
   "metadata": {},
   "outputs": [],
   "source": [
    "from pynvml import smi"
   ]
  },
  {
   "cell_type": "code",
   "execution_count": 2,
   "metadata": {},
   "outputs": [],
   "source": [
    "nvsmi = smi.nvidia_smi.getInstance()\n",
    "  \n",
    "results = nvsmi.DeviceQuery()\n"
   ]
  },
  {
   "cell_type": "code",
   "execution_count": 3,
   "metadata": {},
   "outputs": [
    {
     "name": "stdout",
     "output_type": "stream",
     "text": [
      "timestamp: <class 'str'>\n",
      "driver_version: <class 'str'>\n",
      "count: <class 'int'>\n",
      "gpu: <class 'list'>\n"
     ]
    }
   ],
   "source": [
    "for key, val in results.items():\n",
    "    print(f'{key}: {type(val)}')"
   ]
  },
  {
   "cell_type": "code",
   "execution_count": 8,
   "metadata": {},
   "outputs": [],
   "source": [
    "gpu = results['gpu'][0]"
   ]
  },
  {
   "cell_type": "code",
   "execution_count": 9,
   "metadata": {},
   "outputs": [
    {
     "name": "stdout",
     "output_type": "stream",
     "text": [
      "id: <class 'str'>\n",
      "product_name: <class 'str'>\n",
      "product_brand: <class 'str'>\n",
      "display_mode: <class 'str'>\n",
      "display_active: <class 'str'>\n",
      "persistence_mode: <class 'str'>\n",
      "mig_mode: <class 'dict'>\n",
      "accounting_mode: <class 'str'>\n",
      "accounting_mode_buffer_size: <class 'str'>\n",
      "driver_model: <class 'dict'>\n",
      "serial: <class 'str'>\n",
      "uuid: <class 'str'>\n",
      "minor_number: <class 'str'>\n",
      "vbios_version: <class 'str'>\n",
      "multigpu_board: <class 'str'>\n",
      "board_id: <class 'str'>\n",
      "inforom_version: <class 'dict'>\n",
      "gpu_operation_mode: <class 'dict'>\n",
      "pci: <class 'dict'>\n",
      "fan_speed: <class 'int'>\n",
      "fan_speed_unit: <class 'str'>\n",
      "performance_state: <class 'str'>\n",
      "clocks_throttle: <class 'dict'>\n",
      "fb_memory_usage: <class 'dict'>\n",
      "bar1_memory_usage: <class 'dict'>\n",
      "compute_mode: <class 'str'>\n",
      "utilization: <class 'dict'>\n",
      "ecc_mode: <class 'dict'>\n",
      "ecc_errors: <class 'dict'>\n",
      "retired_pages: <class 'dict'>\n",
      "temperature: <class 'dict'>\n",
      "power_readings: <class 'dict'>\n",
      "clocks: <class 'dict'>\n",
      "applications_clocks: <class 'dict'>\n",
      "default_applications_clocks: <class 'dict'>\n",
      "max_clocks: <class 'dict'>\n",
      "clock_policy: <class 'dict'>\n",
      "supported_clocks: <class 'list'>\n",
      "processes: <class 'NoneType'>\n",
      "accounted_processes: <class 'NoneType'>\n"
     ]
    }
   ],
   "source": [
    "for k, v in gpu.items():\n",
    "    print(f'{k}: {type(v)}')"
   ]
  },
  {
   "cell_type": "code",
   "execution_count": 33,
   "metadata": {},
   "outputs": [
    {
     "data": {
      "text/plain": [
       "'Default'"
      ]
     },
     "execution_count": 33,
     "metadata": {},
     "output_type": "execute_result"
    }
   ],
   "source": [
    "gpu['compute_mode']"
   ]
  }
 ],
 "metadata": {
  "kernelspec": {
   "display_name": "base",
   "language": "python",
   "name": "python3"
  },
  "language_info": {
   "codemirror_mode": {
    "name": "ipython",
    "version": 3
   },
   "file_extension": ".py",
   "mimetype": "text/x-python",
   "name": "python",
   "nbconvert_exporter": "python",
   "pygments_lexer": "ipython3",
   "version": "3.10.12"
  },
  "orig_nbformat": 4
 },
 "nbformat": 4,
 "nbformat_minor": 2
}
