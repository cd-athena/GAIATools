{
 "cells": [
  {
   "cell_type": "code",
   "execution_count": 1,
   "metadata": {},
   "outputs": [],
   "source": [
    "from ffmpeg import *\n",
    "from greem.utility.configuration_classes import EncodingConfig"
   ]
  },
  {
   "cell_type": "code",
   "execution_count": 2,
   "metadata": {},
   "outputs": [],
   "source": [
    "config = EncodingConfig.from_file('test_config.yaml')"
   ]
  },
  {
   "cell_type": "code",
   "execution_count": 4,
   "metadata": {},
   "outputs": [
    {
     "name": "stdout",
     "output_type": "stream",
     "text": [
      "ffmpeg \n",
      "-y \n",
      "-hide_banner \n",
      "-s 416x234 -acodec copy -vcodec libx264 result/h264/fast/145k_416x234/15fps/ancient.mp4 \n",
      "-s 640x360 -acodec copy -vcodec libx264 result/h264/fast/365k_640x360/15fps/ancient.mp4 \n",
      "-s 768x432 -acodec copy -vcodec libx264 result/h264/fast/1100k_768x432/15fps/ancient.mp4 \n",
      "-s 960x540 -acodec copy -vcodec libx264 result/h264/fast/2000k_960x540/15fps/ancient.mp4 \n",
      "-s 1280x720 -acodec copy -vcodec libx264 result/h264/fast/4500k_1280x720/15fps/ancient.mp4 \n",
      "-s 1920x1080 -acodec copy -vcodec libx264 result/h264/fast/7800k_1920x1080/15fps/ancient.mp4\n"
     ]
    }
   ],
   "source": [
    "print(create_one_video_multiple_representation_command(\n",
    "    'ancient.mp4',\n",
    "    'result',\n",
    "    config,\n",
    "    cuda_mode=False,\n",
    "    pretty_print=True\n",
    "))"
   ]
  },
  {
   "cell_type": "markdown",
   "metadata": {},
   "source": []
  }
 ],
 "metadata": {
  "kernelspec": {
   "display_name": "greem",
   "language": "python",
   "name": "python3"
  },
  "language_info": {
   "codemirror_mode": {
    "name": "ipython",
    "version": 3
   },
   "file_extension": ".py",
   "mimetype": "text/x-python",
   "name": "python",
   "nbconvert_exporter": "python",
   "pygments_lexer": "ipython3",
   "version": "3.11.9"
  }
 },
 "nbformat": 4,
 "nbformat_minor": 2
}
