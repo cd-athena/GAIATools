{
 "cells": [
  {
   "cell_type": "code",
   "execution_count": 1,
   "metadata": {},
   "outputs": [],
   "source": [
    "import os\n",
    "\n",
    "from greem.utility.ffmpeg import create_multi_video_ffmpeg_command\n",
    "from greem.utility.config import Rendition"
   ]
  },
  {
   "cell_type": "code",
   "execution_count": 2,
   "metadata": {},
   "outputs": [],
   "source": [
    "DATA_DIR: str = '../../benchmark/data'\n",
    "\n",
    "input_files: list[str] = sorted(os.listdir(DATA_DIR))\n",
    "input_file_names: list[str] = [file.removesuffix('.mp4') for file in input_files]\n",
    "input_file_paths: list[str] = [f'{DATA_DIR}/{input_file}' for input_file in input_files]\n",
    "output_file_paths: list[str] = [f'tmp/{input_file}' for input_file in input_file_names]\n"
   ]
  },
  {
   "cell_type": "code",
   "execution_count": 3,
   "metadata": {},
   "outputs": [],
   "source": [
    "test_renditions = [\n",
    "    Rendition(145, 360, 640),\n",
    "    Rendition(550, 960, 1600)\n",
    "    ]\n"
   ]
  },
  {
   "cell_type": "code",
   "execution_count": 4,
   "metadata": {},
   "outputs": [],
   "source": [
    "preset = 'ultrafast'\n",
    "codec = 'h264'"
   ]
  },
  {
   "cell_type": "code",
   "execution_count": 5,
   "metadata": {},
   "outputs": [
    {
     "name": "stdout",
     "output_type": "stream",
     "text": [
      "ffmpeg \n",
      "-y \n",
      "-i ../../benchmark/data/AncientThought.mp4 \n",
      "-i ../../benchmark/data/Eldorado.mp4 \n",
      "-map 0 \n",
      "-c:v h264 \n",
      "-q:v 1 \n",
      "-seg_duration 4 \n",
      "-map 0:v:0 \n",
      "-map 0:v:0 \n",
      "-map 0:a:0 \n",
      "-b:v:0 640k -minrate 640k -maxrate 640k -bufsize 1920k \n",
      "-c:v:0 libx264 -filter:v:0 \"scale=360:145\" \n",
      "-preset ultrafast \n",
      "-b:v:1 1600k -minrate 1600k -maxrate 1600k -bufsize 4800k \n",
      "-c:v:1 libx264 -filter:v:1 \"scale=960:550\" \n",
      "-preset ultrafast \n",
      "-f dash \n",
      "tmp/AncientThought/manifest.mpd \n",
      "-map 1 \n",
      "-c:v h264 \n",
      "-q:v 1 \n",
      "-seg_duration 4 \n",
      "-map 0:v:0 \n",
      "-map 0:v:0 \n",
      "-map 0:a:0 \n",
      "-b:v:0 640k -minrate 640k -maxrate 640k -bufsize 1920k \n",
      "-c:v:0 libx264 -filter:v:0 \"scale=360:145\" \n",
      "-preset ultrafast \n",
      "-b:v:1 1600k -minrate 1600k -maxrate 1600k -bufsize 4800k \n",
      "-c:v:1 libx264 -filter:v:1 \"scale=960:550\" \n",
      "-preset ultrafast \n",
      "-f dash \n",
      "tmp/Eldorado/manifest.mpd\n"
     ]
    }
   ],
   "source": [
    "print(create_multi_video_ffmpeg_command(\n",
    "    input_file_paths,\n",
    "    output_file_paths,\n",
    "    test_renditions,\n",
    "    preset, \n",
    "    codec, \n",
    "    segment_seconds=4,\n",
    "    pretty_print=True\n",
    "    ))\n",
    "\n",
    "cmd = create_multi_video_ffmpeg_command(\n",
    "    input_file_paths,\n",
    "    output_file_paths,\n",
    "    test_renditions,\n",
    "    preset, \n",
    "    codec, \n",
    "    segment_seconds=4,\n",
    "    pretty_print=False\n",
    "    )"
   ]
  },
  {
   "cell_type": "code",
   "execution_count": 6,
   "metadata": {},
   "outputs": [
    {
     "name": "stderr",
     "output_type": "stream",
     "text": [
      "ffmpeg version 6.0 Copyright (c) 2000-2023 the FFmpeg developers\n",
      "  built with Apple clang version 14.0.3 (clang-1403.0.22.14.1)\n",
      "  configuration: --prefix=/opt/homebrew/Cellar/ffmpeg/6.0_1 --enable-shared --enable-pthreads --enable-version3 --cc=clang --host-cflags= --host-ldflags= --enable-ffplay --enable-gnutls --enable-gpl --enable-libaom --enable-libaribb24 --enable-libbluray --enable-libdav1d --enable-libmp3lame --enable-libopus --enable-librav1e --enable-librist --enable-librubberband --enable-libsnappy --enable-libsrt --enable-libsvtav1 --enable-libtesseract --enable-libtheora --enable-libvidstab --enable-libvmaf --enable-libvorbis --enable-libvpx --enable-libwebp --enable-libx264 --enable-libx265 --enable-libxml2 --enable-libxvid --enable-lzma --enable-libfontconfig --enable-libfreetype --enable-frei0r --enable-libass --enable-libopencore-amrnb --enable-libopencore-amrwb --enable-libopenjpeg --enable-libspeex --enable-libsoxr --enable-libzmq --enable-libzimg --disable-libjack --disable-indev=jack --enable-videotoolbox --enable-audiotoolbox --enable-neon\n",
      "  libavutil      58.  2.100 / 58.  2.100\n",
      "  libavcodec     60.  3.100 / 60.  3.100\n",
      "  libavformat    60.  3.100 / 60.  3.100\n",
      "  libavdevice    60.  1.100 / 60.  1.100\n",
      "  libavfilter     9.  3.100 /  9.  3.100\n",
      "  libswscale      7.  1.100 /  7.  1.100\n",
      "  libswresample   4. 10.100 /  4. 10.100\n",
      "  libpostproc    57.  1.100 / 57.  1.100\n",
      "Input #0, mov,mp4,m4a,3gp,3g2,mj2, from '../../benchmark/data/AncientThought.mp4':\n",
      "  Metadata:\n",
      "    major_brand     : isom\n",
      "    minor_version   : 512\n",
      "    compatible_brands: isomiso2avc1mp41\n",
      "    encoder         : Lavf60.3.100\n",
      "  Duration: 00:03:07.20, start: 0.000000, bitrate: 6566 kb/s\n",
      "  Stream #0:0[0x1](eng): Video: h264 (High) (avc1 / 0x31637661), yuv420p(tv, bt709, progressive), 3840x2160 [SAR 1:1 DAR 16:9], 6432 kb/s, 23.98 fps, 23.98 tbr, 24k tbn (default)\n",
      "    Metadata:\n",
      "      handler_name    : VideoHandler\n",
      "      vendor_id       : [0][0][0][0]\n",
      "      encoder         : Lavc60.3.100 libx264\n",
      "  Stream #0:1[0x2](eng): Audio: aac (LC) (mp4a / 0x6134706D), 48000 Hz, stereo, fltp, 128 kb/s (default)\n",
      "    Metadata:\n",
      "      handler_name    : SoundHandler\n",
      "      vendor_id       : [0][0][0][0]\n",
      "Input #1, mov,mp4,m4a,3gp,3g2,mj2, from '../../benchmark/data/Eldorado.mp4':\n",
      "  Metadata:\n",
      "    major_brand     : isom\n",
      "    minor_version   : 512\n",
      "    compatible_brands: isomiso2avc1mp41\n",
      "    encoder         : Lavf60.3.100\n",
      "  Duration: 00:03:02.96, start: 0.000000, bitrate: 15565 kb/s\n",
      "  Stream #1:0[0x1](eng): Video: h264 (High) (avc1 / 0x31637661), yuv420p(tv, bt709, progressive), 3840x2160 [SAR 1:1 DAR 16:9], 15441 kb/s, 23.98 fps, 23.98 tbr, 24k tbn (default)\n",
      "    Metadata:\n",
      "      handler_name    : VideoHandler\n",
      "      vendor_id       : [0][0][0][0]\n",
      "      encoder         : Lavc60.3.100 libx264\n",
      "  Stream #1:1[0x2](eng): Audio: aac (LC) (mp4a / 0x6134706D), 48000 Hz, stereo, fltp, 120 kb/s (default)\n",
      "    Metadata:\n",
      "      handler_name    : SoundHandler\n",
      "      vendor_id       : [0][0][0][0]\n",
      "Multiple -c, -codec, -acodec, -vcodec, -scodec or -dcodec options specified for stream 0, only the last option '-c:v:0 libx264' will be used.\n",
      "Multiple -c, -codec, -acodec, -vcodec, -scodec or -dcodec options specified for stream 2, only the last option '-c:v:1 libx264' will be used.\n",
      "Multiple -c, -codec, -acodec, -vcodec, -scodec or -dcodec options specified for stream 0, only the last option '-c:v:0 libx264' will be used.\n",
      "Multiple -c, -codec, -acodec, -vcodec, -scodec or -dcodec options specified for stream 2, only the last option '-c:v:1 libx264' will be used.\n",
      "Stream mapping:\n",
      "  Stream #0:0 -> #0:0 (h264 (native) -> h264 (libx264))\n",
      "  Stream #0:1 -> #0:1 (aac (native) -> aac (native))\n",
      "  Stream #0:0 -> #0:2 (h264 (native) -> h264 (libx264))\n",
      "  Stream #0:0 -> #0:3 (h264 (native) -> h264 (libx264))\n",
      "  Stream #0:1 -> #0:4 (aac (native) -> aac (native))\n",
      "  Stream #1:0 -> #1:0 (h264 (native) -> h264 (libx264))\n",
      "  Stream #1:1 -> #1:1 (aac (native) -> aac (native))\n",
      "  Stream #0:0 -> #1:2 (h264 (native) -> h264 (libx264))\n",
      "  Stream #0:0 -> #1:3 (h264 (native) -> h264 (libx264))\n",
      "  Stream #0:1 -> #1:4 (aac (native) -> aac (native))\n",
      "Press [q] to stop, [?] for help\n",
      "[libx264 @ 0x129807d20] -qscale is ignored, -crf is recommended.\n",
      "[libx264 @ 0x129807d20] height not divisible by 2 (360x145)\n",
      "[vost#0:0/libx264 @ 0x129807300] Error initializing output stream: Error while opening encoder for output stream #0:0 - maybe incorrect parameters such as bit_rate, rate, width or height\n",
      "[aac @ 0x129808f10] Qavg: 28595.557\n",
      "[aac @ 0x129808f10] 2 frames left in the queue on closing\n",
      "[aac @ 0x129a06d10] Qavg: 28595.557\n",
      "[aac @ 0x129a06d10] 2 frames left in the queue on closing\n",
      "[aac @ 0x12980d250] Qavg: 28595.557\n",
      "[aac @ 0x12980d250] 2 frames left in the queue on closing\n",
      "Conversion failed!\n"
     ]
    },
    {
     "data": {
      "text/plain": [
       "256"
      ]
     },
     "execution_count": 6,
     "metadata": {},
     "output_type": "execute_result"
    }
   ],
   "source": [
    "os.system(cmd)"
   ]
  },
  {
   "cell_type": "code",
   "execution_count": 7,
   "metadata": {},
   "outputs": [],
   "source": [
    "# def create_multi_video_ffmpeg_command(\n",
    "#     video_input_file_paths: list[str],\n",
    "#     output_directories: list[str],\n",
    "#     renditions: list[Rendition],\n",
    "#     preset: str,\n",
    "#     codec: str,\n",
    "#     segment_seconds: int = 4,\n",
    "#     pretty_print: bool = False\n",
    "# ) -> str:"
   ]
  }
 ],
 "metadata": {
  "kernelspec": {
   "display_name": "gaia-tools",
   "language": "python",
   "name": "python3"
  },
  "language_info": {
   "codemirror_mode": {
    "name": "ipython",
    "version": 3
   },
   "file_extension": ".py",
   "mimetype": "text/x-python",
   "name": "python",
   "nbconvert_exporter": "python",
   "pygments_lexer": "ipython3",
   "version": "3.10.12"
  },
  "orig_nbformat": 4
 },
 "nbformat": 4,
 "nbformat_minor": 2
}
