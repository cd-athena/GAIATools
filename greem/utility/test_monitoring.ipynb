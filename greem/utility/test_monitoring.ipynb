{
 "cells": [
  {
   "cell_type": "code",
   "execution_count": 8,
   "metadata": {
    "ExecuteTime": {
     "end_time": "2024-04-29T16:56:17.404510Z",
     "start_time": "2024-04-29T16:56:17.119410Z"
    }
   },
   "outputs": [],
   "source": [
    "from monitoring import HardwareTracker\n",
    "import matplotlib.pyplot as plt\n",
    "from os import system"
   ]
  },
  {
   "cell_type": "code",
   "execution_count": 9,
   "metadata": {
    "ExecuteTime": {
     "end_time": "2024-04-29T16:56:17.483763Z",
     "start_time": "2024-04-29T16:56:17.405624Z"
    }
   },
   "outputs": [
    {
     "name": "stderr",
     "output_type": "stream",
     "text": [
      "[codecarbon INFO @ 15:24:14] offline tracker init\n",
      "[codecarbon INFO @ 15:24:14] [setup] RAM Tracking...\n",
      "[codecarbon INFO @ 15:24:14] [setup] GPU Tracking...\n",
      "[codecarbon INFO @ 15:24:14] Tracking Nvidia GPU via pynvml\n",
      "[codecarbon INFO @ 15:24:14] [setup] CPU Tracking...\n",
      "[codecarbon INFO @ 15:24:14] Tracking Intel CPU via RAPL interface\n",
      "[codecarbon INFO @ 15:24:16] >>> Tracker's metadata:\n",
      "[codecarbon INFO @ 15:24:16]   Platform system: Linux-5.15.0-102-generic-x86_64-with-glibc2.31\n",
      "[codecarbon INFO @ 15:24:16]   Python version: 3.11.9\n",
      "[codecarbon INFO @ 15:24:16]   CodeCarbon version: 2.2.2\n",
      "[codecarbon INFO @ 15:24:16]   Available RAM : 376.527 GB\n",
      "[codecarbon INFO @ 15:24:16]   CPU count: 128\n",
      "[codecarbon INFO @ 15:24:16]   CPU model: Intel(R) Xeon(R) Gold 5218 CPU @ 2.30GHz\n",
      "[codecarbon INFO @ 15:24:16]   GPU count: 2\n",
      "[codecarbon INFO @ 15:24:16]   GPU model: 2 x Quadro GV100\n"
     ]
    }
   ],
   "source": [
    "tracker = HardwareTracker(measure_power_secs=0.25, cuda_enabled=False)"
   ]
  },
  {
   "cell_type": "code",
   "execution_count": 14,
   "metadata": {
    "ExecuteTime": {
     "end_time": "2024-04-29T16:56:20.500579Z",
     "start_time": "2024-04-29T16:56:17.484554Z"
    }
   },
   "outputs": [
    {
     "name": "stderr",
     "output_type": "stream",
     "text": [
      "[codecarbon WARNING @ 15:24:59] Already started tracking\n",
      "ffmpeg version n6.1.1-7-ga267d4ad4c Copyright (c) 2000-2023 the FFmpeg developers\n",
      "  built with gcc 9 (Ubuntu 9.4.0-1ubuntu1~20.04.2)\n",
      "  configuration: --prefix=/opt/local --enable-pthreads --enable-pic --enable-shared --enable-rpath --enable-gpl --enable-openssl --enable-libaom --enable-libass --enable-libfdk-aac --enable-libfreetype --enable-libmp3lame --enable-libopus --enable-libsvtav1 --enable-libvorbis --enable-libvpx --enable-libx264 --enable-libx265 --enable-libvmaf --enable-nonfree --enable-ffnvcodec --enable-demuxer=dash --enable-libxml2 --enable-libvvdec --enable-libvvenc\n",
      "  libavutil      58. 29.100 / 58. 29.100\n",
      "  libavcodec     60. 31.102 / 60. 31.102\n",
      "  libavformat    60. 16.100 / 60. 16.100\n",
      "  libavdevice    60.  3.100 / 60.  3.100\n",
      "  libavfilter     9. 12.100 /  9. 12.100\n",
      "  libswscale      7.  5.100 /  7.  5.100\n",
      "  libswresample   4. 12.100 /  4. 12.100\n",
      "  libpostproc    57.  3.100 / 57.  3.100\n",
      "[hevc @ 0x564b9cf68100] Stream #0: not enough frames to estimate rate; consider increasing probesize\n",
      "Input #0, hevc, from 'Basketball_s000.265':\n",
      "  Duration: N/A, bitrate: N/A\n",
      "  Stream #0:0: Video: hevc (Main), yuv420p(tv), 3840x2160, 25 fps, 23.98 tbr, 1200k tbn\n",
      "Stream mapping:\n",
      "  Stream #0:0 -> #0:0 (hevc (native) -> hevc (libx265))\n",
      "Press [q] to stop, [?] for help\n",
      "x265 [info]: HEVC encoder version 3.4\n",
      "x265 [info]: build info [Linux][GCC 7.5.0][64 bit] 8bit+10bit+12bit\n",
      "x265 [info]: using cpu capabilities: MMX2 SSE2Fast LZCNT SSSE3 SSE4.2 AVX FMA3 BMI2 AVX2\n",
      "x265 [info]: Main profile, Level-5 (Main tier)\n",
      "x265 [info]: Thread pool 0 using 64 threads on numa nodes 0,1,2,3\n",
      "x265 [info]: Thread pool 1 using 64 threads on numa nodes 0,1,2,3\n",
      "x265 [info]: Slices                              : 1\n",
      "x265 [info]: frame threads / pool features       : 6 / wpp(34 rows)\n",
      "x265 [info]: Coding QT: max CU size, min CU size : 64 / 8\n",
      "x265 [info]: Residual QT: max TU size, max depth : 32 / 1 inter / 1 intra\n",
      "x265 [info]: ME / range / subpel / merge         : hex / 57 / 2 / 3\n",
      "x265 [info]: Keyframe min / max / scenecut / bias  : 23 / 250 / 40 / 5.00 \n",
      "x265 [info]: Lookahead / bframes / badapt        : 20 / 4 / 2\n",
      "x265 [info]: b-pyramid / weightp / weightb       : 1 / 1 / 0\n",
      "x265 [info]: References / ref-limit  cu / depth  : 3 / off / on\n",
      "x265 [info]: AQ: mode / str / qg-size / cu-tree  : 2 / 1.0 / 32 / 1\n",
      "x265 [info]: Rate Control / qCompress            : CRF-28.0 / 0.60\n",
      "x265 [info]: tools: rd=3 psy-rd=2.00 early-skip rskip mode=1 signhide tmvp\n",
      "x265 [info]: tools: b-intra strong-intra-smoothing lslices=8 deblock sao\n",
      "Output #0, mp4, to 'test.mp4':\n",
      "  Metadata:\n",
      "    encoder         : Lavf60.16.100\n",
      "  Stream #0:0: Video: hevc (hev1 / 0x31766568), yuv420p(tv, progressive), 3840x2160, q=2-31, 23.98 fps, 19184 tbn\n",
      "    Metadata:\n",
      "      encoder         : Lavc60.31.102 libx265\n",
      "    Side data:\n",
      "      cpb: bitrate max/min/avg: 0/0/0 buffer size: 0 vbv_delay: N/A\n",
      "[out#0/mp4 @ 0x564b9cf6cec0] video:1773kB audio:0kB subtitle:0kB other streams:0kB global headers:2kB muxing overhead: 0.260278%\n",
      "frame=  120 fps=9.9 q=34.8 Lsize=    1777kB time=00:00:04.87 bitrate=2984.3kbits/s speed=0.403x    \n",
      "x265 [info]: frame I:      1, Avg QP:29.20  kb/s: 12819.71\n",
      "x265 [info]: frame P:     30, Avg QP:29.84  kb/s: 5088.03 \n",
      "x265 [info]: frame B:     89, Avg QP:33.71  kb/s: 2052.89 \n",
      "x265 [info]: Weighted P-Frames: Y:0.0% UV:0.0%\n",
      "x265 [info]: consecutive B-frames: 6.5% 0.0% 32.3% 22.6% 38.7% \n",
      "\n",
      "encoded 120 frames in 11.31s (10.61 fps), 2901.40 kb/s, Avg QP:32.71\n",
      "[codecarbon WARNING @ 15:25:12] Tracker already stopped !\n"
     ]
    }
   ],
   "source": [
    "# system('ffmpeg -y -i Basketball_s000.265 -c:v libx264 -c:a copy output.mp4')\n",
    "# tracker.start()\n",
    "# tracker.monitor_process('sleep 10')\n",
    "# tracker.start()\n",
    "# tracker.monitor_process('ffmpeg -y -i output.mp4 -c:v libx264 -c:a copy  aaa.mp4')\n",
    "# tracker.monitor_process('sleep 3')\n",
    "tracker.monitor_process('ffmpeg -y -i Basketball_s000.265 -c:v libx264 -c:a copy test.mp4', 'avc')\n",
    "tracker.monitor_process('ffmpeg -y -i Basketball_s000.265 -c:v libx265 -c:a copy test.mp4', 'hevc')\n",
    "# tracker.stop()"
   ]
  },
  {
   "cell_type": "code",
   "execution_count": 15,
   "metadata": {
    "ExecuteTime": {
     "end_time": "2024-04-29T16:56:20.506911Z",
     "start_time": "2024-04-29T16:56:20.502443Z"
    }
   },
   "outputs": [],
   "source": [
    "df = tracker.collected_data_to_dataframe()"
   ]
  },
  {
   "cell_type": "code",
   "execution_count": 16,
   "metadata": {},
   "outputs": [
    {
     "data": {
      "text/plain": [
       "<Axes: >"
      ]
     },
     "execution_count": 16,
     "metadata": {},
     "output_type": "execute_result"
    },
    {
     "data": {
      "image/png": "[encoded data removed]",
      "text/plain": [
       "<Figure size 640x480 with 1 Axes>"
      ]
     },
     "metadata": {},
     "output_type": "display_data"
    }
   ],
   "source": [
    "df['cpu_power'].plot.line()"
   ]
  }
 ],
 "metadata": {
  "kernelspec": {
   "display_name": "greem",
   "language": "python",
   "name": "python3"
  },
  "language_info": {
   "codemirror_mode": {
    "name": "ipython",
    "version": 3
   },
   "file_extension": ".py",
   "mimetype": "text/x-python",
   "name": "python",
   "nbconvert_exporter": "python",
   "pygments_lexer": "ipython3",
   "version": "3.11.9"
  }
 },
 "nbformat": 4,
 "nbformat_minor": 2
}
