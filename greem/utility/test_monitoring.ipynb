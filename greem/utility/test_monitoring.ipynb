{
 "cells": [
  {
   "cell_type": "code",
   "execution_count": 1,
   "metadata": {},
   "outputs": [
    {
     "name": "stderr",
     "output_type": "stream",
     "text": [
      "Your installed package `nvidia-ml-py` is corrupted. Skip patch functions `nvmlDeviceGet{Compute,Graphics,MPSCompute}RunningProcesses`. You may get incorrect or incomplete results. Please consider reinstall package `nvidia-ml-py` via `pip3 install --force-reinstall nvidia-ml-py nvitop`.\n",
      "Your installed package `nvidia-ml-py` is corrupted. Skip patch functions `nvmlDeviceGetMemoryInfo`. You may get incorrect or incomplete results. Please consider reinstall package `nvidia-ml-py` via `pip3 install --force-reinstall nvidia-ml-py nvitop`.\n"
     ]
    }
   ],
   "source": [
    "from monitoring import MetricTracker\n",
    "from codecarbon import EmissionsTracker\n",
    "from os import system"
   ]
  },
  {
   "cell_type": "code",
   "execution_count": 2,
   "metadata": {},
   "outputs": [
    {
     "name": "stderr",
     "output_type": "stream",
     "text": [
      "[codecarbon INFO @ 21:29:56] offline tracker init\n",
      "[codecarbon INFO @ 21:29:56] [setup] RAM Tracking...\n",
      "[codecarbon INFO @ 21:29:56] [setup] GPU Tracking...\n",
      "[codecarbon INFO @ 21:29:56] Tracking Nvidia GPU via pynvml\n",
      "[codecarbon INFO @ 21:29:56] [setup] CPU Tracking...\n",
      "[codecarbon INFO @ 21:29:56] Tracking Intel CPU via RAPL interface\n",
      "[codecarbon INFO @ 21:29:58] >>> Tracker's metadata:\n",
      "[codecarbon INFO @ 21:29:58]   Platform system: Linux-5.15.0-102-generic-x86_64-with-glibc2.31\n",
      "[codecarbon INFO @ 21:29:58]   Python version: 3.11.9\n",
      "[codecarbon INFO @ 21:29:58]   CodeCarbon version: 2.2.2\n",
      "[codecarbon INFO @ 21:29:58]   Available RAM : 376.527 GB\n",
      "[codecarbon INFO @ 21:29:58]   CPU count: 128\n",
      "[codecarbon INFO @ 21:29:58]   CPU model: Intel(R) Xeon(R) Gold 5218 CPU @ 2.30GHz\n",
      "[codecarbon INFO @ 21:29:58]   GPU count: 2\n",
      "[codecarbon INFO @ 21:29:58]   GPU model: 2 x Quadro GV100\n"
     ]
    }
   ],
   "source": [
    "# tracker = EmissionsTracker()\n",
    "tracker = MetricTracker()"
   ]
  },
  {
   "cell_type": "code",
   "execution_count": 3,
   "metadata": {},
   "outputs": [
    {
     "name": "stderr",
     "output_type": "stream",
     "text": [
      "ffmpeg version n6.1.1-7-ga267d4ad4c Copyright (c) 2000-2023 the FFmpeg developers\n",
      "  built with gcc 9 (Ubuntu 9.4.0-1ubuntu1~20.04.2)\n",
      "  configuration: --prefix=/opt/local --enable-pthreads --enable-pic --enable-shared --enable-rpath --enable-gpl --enable-openssl --enable-libaom --enable-libass --enable-libfdk-aac --enable-libfreetype --enable-libmp3lame --enable-libopus --enable-libsvtav1 --enable-libvorbis --enable-libvpx --enable-libx264 --enable-libx265 --enable-libvmaf --enable-nonfree --enable-ffnvcodec --enable-demuxer=dash --enable-libxml2 --enable-libvvdec --enable-libvvenc\n",
      "  libavutil      58. 29.100 / 58. 29.100\n",
      "  libavcodec     60. 31.102 / 60. 31.102\n",
      "  libavformat    60. 16.100 / 60. 16.100\n",
      "  libavdevice    60.  3.100 / 60.  3.100\n",
      "  libavfilter     9. 12.100 /  9. 12.100\n",
      "  libswscale      7.  5.100 /  7.  5.100\n",
      "  libswresample   4. 12.100 /  4. 12.100\n",
      "  libpostproc    57.  3.100 / 57.  3.100\n",
      "[hevc @ 0x5558137b2100] Stream #0: not enough frames to estimate rate; consider increasing probesize\n",
      "Input #0, hevc, from 'Basketball_s000.265':\n",
      "  Duration: N/A, bitrate: N/A\n",
      "  Stream #0:0: Video: hevc (Main), yuv420p(tv), 3840x2160, 25 fps, 23.98 tbr, 1200k tbn\n",
      "Stream mapping:\n",
      "  Stream #0:0 -> #0:0 (hevc (native) -> h264 (libx264))\n",
      "Press [q] to stop, [?] for help\n",
      "[libx264 @ 0x5558137f1c40] using cpu capabilities: MMX2 SSE2Fast SSSE3 SSE4.2 AVX FMA3 BMI2 AVX2 AVX512\n",
      "[libx264 @ 0x5558137f1c40] profile High, level 5.1, 4:2:0, 8-bit\n",
      "[libx264 @ 0x5558137f1c40] 264 - core 160 r3011 cde9a93 - H.264/MPEG-4 AVC codec - Copyleft 2003-2020 - http://www.videolan.org/x264.html - options: cabac=1 ref=3 deblock=1:0:0 analyse=0x3:0x113 me=hex subme=7 psy=1 psy_rd=1.00:0.00 mixed_ref=1 me_range=16 chroma_me=1 trellis=1 8x8dct=1 cqm=0 deadzone=21,11 fast_pskip=1 chroma_qp_offset=-2 threads=67 lookahead_threads=11 sliced_threads=0 nr=0 decimate=1 interlaced=0 bluray_compat=0 constrained_intra=0 bframes=3 b_pyramid=2 b_adapt=1 b_bias=0 direct=1 weightb=1 open_gop=0 weightp=2 keyint=250 keyint_min=23 scenecut=40 intra_refresh=0 rc_lookahead=40 rc=crf mbtree=1 crf=23.0 qcomp=0.60 qpmin=0 qpmax=69 qpstep=4 ip_ratio=1.40 aq=1:1.00\n",
      "Output #0, mp4, to 'output.mp4':\n",
      "  Metadata:\n",
      "    encoder         : Lavf60.16.100\n",
      "  Stream #0:0: Video: h264 (avc1 / 0x31637661), yuv420p(tv, progressive), 3840x2160, q=2-31, 23.98 fps, 19184 tbn\n",
      "    Metadata:\n",
      "      encoder         : Lavc60.31.102 libx264\n",
      "    Side data:\n",
      "      cpb: bitrate max/min/avg: 0/0/0 buffer size: 0 vbv_delay: N/A\n",
      "[out#0/mp4 @ 0x5558137b6ec0] video:6887kB audio:0kB subtitle:0kB other streams:0kB global headers:0kB muxing overhead: 0.033505%\n",
      "frame=  120 fps= 16 q=-1.0 Lsize=    6890kB time=00:00:04.87 bitrate=11567.9kbits/s speed=0.635x    \n",
      "[libx264 @ 0x5558137f1c40] frame I:1     Avg QP:23.23  size:211987\n",
      "[libx264 @ 0x5558137f1c40] frame P:32    Avg QP:23.37  size: 93690\n",
      "[libx264 @ 0x5558137f1c40] frame B:87    Avg QP:24.13  size: 44160\n",
      "[libx264 @ 0x5558137f1c40] consecutive B-frames:  1.7%  1.7% 10.0% 86.7%\n",
      "[libx264 @ 0x5558137f1c40] mb I  I16..4: 23.2% 70.1%  6.7%\n",
      "[libx264 @ 0x5558137f1c40] mb P  I16..4:  4.2% 11.2%  0.9%  P16..4: 45.0%  4.1%  6.1%  0.0%  0.0%    skip:28.6%\n",
      "[libx264 @ 0x5558137f1c40] mb B  I16..4:  1.1%  2.5%  0.1%  B16..8: 34.1%  2.6%  0.4%  direct: 2.7%  skip:56.5%  L0:46.2% L1:52.0% BI: 1.8%\n",
      "[libx264 @ 0x5558137f1c40] 8x8 transform intra:68.4% inter:93.5%\n",
      "[libx264 @ 0x5558137f1c40] coded y,uvDC,uvAC intra: 41.5% 79.6% 42.0% inter: 9.5% 27.6% 1.3%\n",
      "[libx264 @ 0x5558137f1c40] i16 v,h,dc,p: 19% 27%  3% 51%\n",
      "[libx264 @ 0x5558137f1c40] i8 v,h,dc,ddl,ddr,vr,hd,vl,hu: 22% 23% 14%  5%  8%  8%  8%  7%  5%\n",
      "[libx264 @ 0x5558137f1c40] i4 v,h,dc,ddl,ddr,vr,hd,vl,hu: 22% 30% 11%  5%  8%  7%  8%  5%  4%\n",
      "[libx264 @ 0x5558137f1c40] i8c dc,h,v,p: 50% 22% 20%  8%\n",
      "[libx264 @ 0x5558137f1c40] Weighted P-Frames: Y:0.0% UV:0.0%\n",
      "[libx264 @ 0x5558137f1c40] ref P L0: 51.4%  9.1% 25.9% 13.6%\n",
      "[libx264 @ 0x5558137f1c40] ref B L0: 79.6% 15.6%  4.8%\n",
      "[libx264 @ 0x5558137f1c40] ref B L1: 89.8% 10.2%\n",
      "[libx264 @ 0x5558137f1c40] kb/s:11273.79\n",
      "[codecarbon WARNING @ 21:30:06] Background scheduler didn't run for a long period (8s), results might be inaccurate\n",
      "[codecarbon INFO @ 21:30:06] Energy consumed for RAM : 0.000325 kWh. RAM Power : 141.19773530960083 W\n",
      "[codecarbon INFO @ 21:30:06] Energy consumed for all GPUs : 0.000129 kWh. Total GPU Power : 55.922000000000004 W\n",
      "[codecarbon INFO @ 21:30:06] Energy consumed for all CPUs : 0.000645 kWh. Total CPU Power : 278.6305355842445 W\n",
      "[codecarbon INFO @ 21:30:06] 0.001098 kWh of electricity used since the beginning.\n",
      "/home/itec/cbauer/.conda/envs/greem/lib/python3.11/site-packages/codecarbon/output.py:126: FutureWarning: The behavior of DataFrame concatenation with empty or all-NA entries is deprecated. In a future version, this will no longer exclude empty or all-NA columns when determining the result dtypes. To retain the old behavior, exclude the relevant entries before the concat operation.\n",
      "  df = pd.concat([df, pd.DataFrame.from_records([dict(data.values)])])\n"
     ]
    },
    {
     "data": {
      "text/plain": [
       "9.99684090604718e-05"
      ]
     },
     "execution_count": 3,
     "metadata": {},
     "output_type": "execute_result"
    }
   ],
   "source": [
    "# system('ffmpeg -y -i Basketball_s000.265 -c:v libx264 -c:a copy output.mp4')\n",
    "tracker.monitor_process('ffmpeg -y -i Basketball_s000.265 -c:v libx264 -c:a copy output.mp4')\n",
    "tracker.stop()"
   ]
  },
  {
   "cell_type": "code",
   "execution_count": 4,
   "metadata": {},
   "outputs": [],
   "source": [
    "tracker.final_emissions_data\n"
   ]
  },
  {
   "cell_type": "code",
   "execution_count": 5,
   "metadata": {},
   "outputs": [
    {
     "data": {
      "text/plain": [
       "(deque([EmissionsData(timestamp='2024-04-26T21:29:59', project_name='codecarbon', run_id='84020d68-fdbe-4386-b95e-b02e8c0a1fa1', duration=1.0020554065704346, emissions=0.0, emissions_rate=0.0, cpu_power=0.0, gpu_power=0.0, ram_power=0.0, cpu_energy=0, gpu_energy=0, ram_energy=0, energy_consumed=0, country_name='Austria', country_iso_code='AUT', region=None, cloud_provider='', cloud_region='', os='Linux-5.15.0-102-generic-x86_64-with-glibc2.31', python_version='3.11.9', codecarbon_version='2.2.2', cpu_count=128, cpu_model='Intel(R) Xeon(R) Gold 5218 CPU @ 2.30GHz', gpu_count=2, gpu_model='2 x Quadro GV100', longitude=None, latitude=None, ram_total_size=376.52729415893555, tracking_mode='machine', on_cloud='N'),\n",
       "        EmissionsData(timestamp='2024-04-26T21:30:00', project_name='codecarbon', run_id='84020d68-fdbe-4386-b95e-b02e8c0a1fa1', duration=1.000408411026001, emissions=0.0, emissions_rate=0.0, cpu_power=0.0, gpu_power=0.0, ram_power=0.0, cpu_energy=0, gpu_energy=0, ram_energy=0, energy_consumed=0, country_name='Austria', country_iso_code='AUT', region=None, cloud_provider='', cloud_region='', os='Linux-5.15.0-102-generic-x86_64-with-glibc2.31', python_version='3.11.9', codecarbon_version='2.2.2', cpu_count=128, cpu_model='Intel(R) Xeon(R) Gold 5218 CPU @ 2.30GHz', gpu_count=2, gpu_model='2 x Quadro GV100', longitude=None, latitude=None, ram_total_size=376.52729415893555, tracking_mode='machine', on_cloud='N'),\n",
       "        EmissionsData(timestamp='2024-04-26T21:30:01', project_name='codecarbon', run_id='84020d68-fdbe-4386-b95e-b02e8c0a1fa1', duration=1.0005385875701904, emissions=0.0, emissions_rate=0.0, cpu_power=0.0, gpu_power=0.0, ram_power=0.0, cpu_energy=0, gpu_energy=0, ram_energy=0, energy_consumed=0, country_name='Austria', country_iso_code='AUT', region=None, cloud_provider='', cloud_region='', os='Linux-5.15.0-102-generic-x86_64-with-glibc2.31', python_version='3.11.9', codecarbon_version='2.2.2', cpu_count=128, cpu_model='Intel(R) Xeon(R) Gold 5218 CPU @ 2.30GHz', gpu_count=2, gpu_model='2 x Quadro GV100', longitude=None, latitude=None, ram_total_size=376.52729415893555, tracking_mode='machine', on_cloud='N'),\n",
       "        EmissionsData(timestamp='2024-04-26T21:30:02', project_name='codecarbon', run_id='84020d68-fdbe-4386-b95e-b02e8c0a1fa1', duration=1.0004043579101562, emissions=0.0, emissions_rate=0.0, cpu_power=0.0, gpu_power=0.0, ram_power=0.0, cpu_energy=0, gpu_energy=0, ram_energy=0, energy_consumed=0, country_name='Austria', country_iso_code='AUT', region=None, cloud_provider='', cloud_region='', os='Linux-5.15.0-102-generic-x86_64-with-glibc2.31', python_version='3.11.9', codecarbon_version='2.2.2', cpu_count=128, cpu_model='Intel(R) Xeon(R) Gold 5218 CPU @ 2.30GHz', gpu_count=2, gpu_model='2 x Quadro GV100', longitude=None, latitude=None, ram_total_size=376.52729415893555, tracking_mode='machine', on_cloud='N'),\n",
       "        EmissionsData(timestamp='2024-04-26T21:30:03', project_name='codecarbon', run_id='84020d68-fdbe-4386-b95e-b02e8c0a1fa1', duration=1.0006344318389893, emissions=0.0, emissions_rate=0.0, cpu_power=0.0, gpu_power=0.0, ram_power=0.0, cpu_energy=0, gpu_energy=0, ram_energy=0, energy_consumed=0, country_name='Austria', country_iso_code='AUT', region=None, cloud_provider='', cloud_region='', os='Linux-5.15.0-102-generic-x86_64-with-glibc2.31', python_version='3.11.9', codecarbon_version='2.2.2', cpu_count=128, cpu_model='Intel(R) Xeon(R) Gold 5218 CPU @ 2.30GHz', gpu_count=2, gpu_model='2 x Quadro GV100', longitude=None, latitude=None, ram_total_size=376.52729415893555, tracking_mode='machine', on_cloud='N'),\n",
       "        EmissionsData(timestamp='2024-04-26T21:30:04', project_name='codecarbon', run_id='84020d68-fdbe-4386-b95e-b02e8c0a1fa1', duration=1.000547170639038, emissions=0.0, emissions_rate=0.0, cpu_power=0.0, gpu_power=0.0, ram_power=0.0, cpu_energy=0, gpu_energy=0, ram_energy=0, energy_consumed=0, country_name='Austria', country_iso_code='AUT', region=None, cloud_provider='', cloud_region='', os='Linux-5.15.0-102-generic-x86_64-with-glibc2.31', python_version='3.11.9', codecarbon_version='2.2.2', cpu_count=128, cpu_model='Intel(R) Xeon(R) Gold 5218 CPU @ 2.30GHz', gpu_count=2, gpu_model='2 x Quadro GV100', longitude=None, latitude=None, ram_total_size=376.52729415893555, tracking_mode='machine', on_cloud='N'),\n",
       "        EmissionsData(timestamp='2024-04-26T21:30:05', project_name='codecarbon', run_id='84020d68-fdbe-4386-b95e-b02e8c0a1fa1', duration=1.0004634857177734, emissions=0.0, emissions_rate=0.0, cpu_power=0.0, gpu_power=0.0, ram_power=0.0, cpu_energy=0, gpu_energy=0, ram_energy=0, energy_consumed=0, country_name='Austria', country_iso_code='AUT', region=None, cloud_provider='', cloud_region='', os='Linux-5.15.0-102-generic-x86_64-with-glibc2.31', python_version='3.11.9', codecarbon_version='2.2.2', cpu_count=128, cpu_model='Intel(R) Xeon(R) Gold 5218 CPU @ 2.30GHz', gpu_count=2, gpu_model='2 x Quadro GV100', longitude=None, latitude=None, ram_total_size=376.52729415893555, tracking_mode='machine', on_cloud='N'),\n",
       "        EmissionsData(timestamp='2024-04-26T21:30:06', project_name='codecarbon', run_id='84020d68-fdbe-4386-b95e-b02e8c0a1fa1', duration=1.000394344329834, emissions=0.0, emissions_rate=0.0, cpu_power=0.0, gpu_power=0.0, ram_power=0.0, cpu_energy=0, gpu_energy=0, ram_energy=0, energy_consumed=0, country_name='Austria', country_iso_code='AUT', region=None, cloud_provider='', cloud_region='', os='Linux-5.15.0-102-generic-x86_64-with-glibc2.31', python_version='3.11.9', codecarbon_version='2.2.2', cpu_count=128, cpu_model='Intel(R) Xeon(R) Gold 5218 CPU @ 2.30GHz', gpu_count=2, gpu_model='2 x Quadro GV100', longitude=None, latitude=None, ram_total_size=376.52729415893555, tracking_mode='machine', on_cloud='N')]),\n",
       " 8)"
      ]
     },
     "execution_count": 5,
     "metadata": {},
     "output_type": "execute_result"
    }
   ],
   "source": [
    "tracker.collected_data, len(tracker.collected_data)"
   ]
  }
 ],
 "metadata": {
  "kernelspec": {
   "display_name": "greem",
   "language": "python",
   "name": "python3"
  },
  "language_info": {
   "codemirror_mode": {
    "name": "ipython",
    "version": 3
   },
   "file_extension": ".py",
   "mimetype": "text/x-python",
   "name": "python",
   "nbconvert_exporter": "python",
   "pygments_lexer": "ipython3",
   "version": "3.11.9"
  }
 },
 "nbformat": 4,
 "nbformat_minor": 2
}
