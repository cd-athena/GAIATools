{
 "cells": [
  {
   "cell_type": "code",
   "metadata": {
    "ExecuteTime": {
     "end_time": "2024-04-29T16:56:17.404510Z",
     "start_time": "2024-04-29T16:56:17.119410Z"
    }
   },
   "source": [
    "from monitoring import CyclicTracker\n",
    "from os import system"
   ],
   "outputs": [
    {
     "name": "stderr",
     "output_type": "stream",
     "text": [
      "Your installed package `nvidia-ml-py` is corrupted. Skip patch functions `nvmlDeviceGet{Compute,Graphics,MPSCompute}RunningProcesses`. You may get incorrect or incomplete results. Please consider reinstall package `nvidia-ml-py` via `pip3 install --force-reinstall nvidia-ml-py nvitop`.\n",
      "Your installed package `nvidia-ml-py` is corrupted. Skip patch functions `nvmlDeviceGetMemoryInfo`. You may get incorrect or incomplete results. Please consider reinstall package `nvidia-ml-py` via `pip3 install --force-reinstall nvidia-ml-py nvitop`.\n"
     ]
    }
   ],
   "execution_count": 1
  },
  {
   "cell_type": "code",
   "metadata": {
    "ExecuteTime": {
     "end_time": "2024-04-29T16:56:17.483763Z",
     "start_time": "2024-04-29T16:56:17.405624Z"
    }
   },
   "source": "tracker = CyclicTracker(measure_power_secs=0.25)",
   "outputs": [
    {
     "name": "stderr",
     "output_type": "stream",
     "text": [
      "[codecarbon INFO @ 18:56:17] offline tracker init\n",
      "[codecarbon INFO @ 18:56:17] [setup] RAM Tracking...\n",
      "[codecarbon INFO @ 18:56:17] [setup] GPU Tracking...\n",
      "[codecarbon INFO @ 18:56:17] No GPU found.\n",
      "[codecarbon INFO @ 18:56:17] [setup] CPU Tracking...\n",
      "[codecarbon WARNING @ 18:56:17] No CPU tracking mode found. Falling back on CPU constant mode.\n",
      "[codecarbon INFO @ 18:56:17] CPU Model on constant consumption mode: Apple M1 Max\n",
      "[codecarbon INFO @ 18:56:17] >>> Tracker's metadata:\n",
      "[codecarbon INFO @ 18:56:17]   Platform system: macOS-14.4.1-arm64-arm-64bit\n",
      "[codecarbon INFO @ 18:56:17]   Python version: 3.11.9\n",
      "[codecarbon INFO @ 18:56:17]   CodeCarbon version: 2.2.2\n",
      "[codecarbon INFO @ 18:56:17]   Available RAM : 32.000 GB\n",
      "[codecarbon INFO @ 18:56:17]   CPU count: 10\n",
      "[codecarbon INFO @ 18:56:17]   CPU model: Apple M1 Max\n",
      "[codecarbon INFO @ 18:56:17]   GPU count: None\n",
      "[codecarbon INFO @ 18:56:17]   GPU model: None\n"
     ]
    }
   ],
   "execution_count": 2
  },
  {
   "cell_type": "code",
   "metadata": {
    "ExecuteTime": {
     "end_time": "2024-04-29T16:56:20.500579Z",
     "start_time": "2024-04-29T16:56:17.484554Z"
    }
   },
   "source": [
    "# system('ffmpeg -y -i Basketball_s000.265 -c:v libx264 -c:a copy output.mp4')\n",
    "# tracker.start()\n",
    "# tracker.monitor_process('sleep 10')\n",
    "# tracker.start()\n",
    "# tracker.monitor_process('ffmpeg -y -i output.mp4 -c:v libx264 -c:a copy  aaa.mp4')\n",
    "tracker.monitor_process('sleep 3')\n",
    "# tracker.monitor_process('ffmpeg -y -i AncientThought.mp4 -c:v libx264 -c:a copy test.mp4')\n",
    "# tracker.stop()"
   ],
   "outputs": [
    {
     "name": "stderr",
     "output_type": "stream",
     "text": [
      "[codecarbon INFO @ 18:56:17] Energy consumed for RAM : 0.000001 kWh. RAM Power : 12.0 W\n",
      "[codecarbon INFO @ 18:56:17] Energy consumed for all CPUs : 0.000000 kWh. Total CPU Power : 5.0 W\n",
      "[codecarbon INFO @ 18:56:17] 0.000001 kWh of electricity used since the beginning.\n",
      "[codecarbon INFO @ 18:56:17] Energy consumed for RAM : 0.000002 kWh. RAM Power : 12.0 W\n",
      "[codecarbon INFO @ 18:56:17] Energy consumed for all CPUs : 0.000001 kWh. Total CPU Power : 5.0 W\n",
      "[codecarbon INFO @ 18:56:17] 0.000002 kWh of electricity used since the beginning.\n",
      "[codecarbon INFO @ 18:56:18] Energy consumed for RAM : 0.000003 kWh. RAM Power : 12.0 W\n",
      "[codecarbon INFO @ 18:56:18] Energy consumed for all CPUs : 0.000001 kWh. Total CPU Power : 5.0 W\n",
      "[codecarbon INFO @ 18:56:18] 0.000004 kWh of electricity used since the beginning.\n",
      "[codecarbon INFO @ 18:56:18] Energy consumed for RAM : 0.000003 kWh. RAM Power : 12.0 W\n",
      "[codecarbon INFO @ 18:56:18] Energy consumed for all CPUs : 0.000001 kWh. Total CPU Power : 5.0 W\n",
      "[codecarbon INFO @ 18:56:18] 0.000005 kWh of electricity used since the beginning.\n",
      "[codecarbon INFO @ 18:56:18] Energy consumed for RAM : 0.000004 kWh. RAM Power : 12.0 W\n",
      "[codecarbon INFO @ 18:56:18] Energy consumed for all CPUs : 0.000002 kWh. Total CPU Power : 5.0 W\n",
      "[codecarbon INFO @ 18:56:18] 0.000006 kWh of electricity used since the beginning.\n",
      "[codecarbon INFO @ 18:56:19] Energy consumed for RAM : 0.000005 kWh. RAM Power : 12.0 W\n",
      "[codecarbon INFO @ 18:56:19] Energy consumed for all CPUs : 0.000002 kWh. Total CPU Power : 5.0 W\n",
      "[codecarbon INFO @ 18:56:19] 0.000007 kWh of electricity used since the beginning.\n",
      "[codecarbon INFO @ 18:56:19] Energy consumed for RAM : 0.000006 kWh. RAM Power : 12.0 W\n",
      "[codecarbon INFO @ 18:56:19] Energy consumed for all CPUs : 0.000002 kWh. Total CPU Power : 5.0 W\n",
      "[codecarbon INFO @ 18:56:19] 0.000008 kWh of electricity used since the beginning.\n",
      "[codecarbon INFO @ 18:56:19] Energy consumed for RAM : 0.000007 kWh. RAM Power : 12.0 W\n",
      "[codecarbon INFO @ 18:56:19] Energy consumed for all CPUs : 0.000003 kWh. Total CPU Power : 5.0 W\n",
      "[codecarbon INFO @ 18:56:19] 0.000010 kWh of electricity used since the beginning.\n",
      "[codecarbon INFO @ 18:56:19] Energy consumed for RAM : 0.000008 kWh. RAM Power : 12.0 W\n",
      "[codecarbon INFO @ 18:56:19] Energy consumed for all CPUs : 0.000003 kWh. Total CPU Power : 5.0 W\n",
      "[codecarbon INFO @ 18:56:19] 0.000011 kWh of electricity used since the beginning.\n",
      "[codecarbon INFO @ 18:56:20] Energy consumed for RAM : 0.000008 kWh. RAM Power : 12.0 W\n",
      "[codecarbon INFO @ 18:56:20] Energy consumed for all CPUs : 0.000004 kWh. Total CPU Power : 5.0 W\n",
      "[codecarbon INFO @ 18:56:20] 0.000012 kWh of electricity used since the beginning.\n",
      "[codecarbon INFO @ 18:56:20] Energy consumed for RAM : 0.000009 kWh. RAM Power : 12.0 W\n",
      "[codecarbon INFO @ 18:56:20] Energy consumed for all CPUs : 0.000004 kWh. Total CPU Power : 5.0 W\n",
      "[codecarbon INFO @ 18:56:20] 0.000013 kWh of electricity used since the beginning.\n",
      "[codecarbon INFO @ 18:56:20] Energy consumed for RAM : 0.000010 kWh. RAM Power : 12.0 W\n",
      "[codecarbon INFO @ 18:56:20] Energy consumed for all CPUs : 0.000004 kWh. Total CPU Power : 5.0 W\n",
      "[codecarbon INFO @ 18:56:20] 0.000014 kWh of electricity used since the beginning.\n"
     ]
    }
   ],
   "execution_count": 3
  },
  {
   "cell_type": "code",
   "metadata": {
    "ExecuteTime": {
     "end_time": "2024-04-29T16:56:20.506911Z",
     "start_time": "2024-04-29T16:56:20.502443Z"
    }
   },
   "source": [
    "collected_data = tracker.collected_data\n",
    "collected_data"
   ],
   "outputs": [
    {
     "data": {
      "text/plain": [
       "deque([MonitoringData(timestamp='2024-04-29T18:56:17', project_name='monitoring', run_id='f3e5133a-bfc5-481f-b935-00aea7c1a870', duration=0.25516700744628906, emissions=0.0, emissions_rate=0.0, cpu_power=0.0, gpu_power=0.0, ram_power=12.0, cpu_energy=0, gpu_energy=0, ram_energy=8.531506856282552e-07, energy_consumed=8.531506856282552e-07, country_name='Austria', country_iso_code='AUT', region=None, cloud_provider='', cloud_region='', os='macOS-14.4.1-arm64-arm-64bit', python_version='3.11.9', codecarbon_version='2.2.2', cpu_count=10, cpu_model='Apple M1 Max', gpu_count=None, gpu_model=None, longitude=None, latitude=None, ram_total_size=32.0, tracking_mode='machine', on_cloud='N'),\n",
       "       MonitoringData(timestamp='2024-04-29T18:56:17', project_name='monitoring', run_id='f3e5133a-bfc5-481f-b935-00aea7c1a870', duration=0.2559628486633301, emissions=1.8683353396230277e-07, emissions_rate=7.299244204304289e-07, cpu_power=5.0, gpu_power=0.0, ram_power=12.0, cpu_energy=7.101774215698242e-07, gpu_energy=0, ram_energy=8.412965138753256e-07, energy_consumed=1.55147393544515e-06, country_name='Austria', country_iso_code='AUT', region=None, cloud_provider='', cloud_region='', os='macOS-14.4.1-arm64-arm-64bit', python_version='3.11.9', codecarbon_version='2.2.2', cpu_count=10, cpu_model='Apple M1 Max', gpu_count=None, gpu_model=None, longitude=None, latitude=None, ram_total_size=32.0, tracking_mode='machine', on_cloud='N'),\n",
       "       MonitoringData(timestamp='2024-04-29T18:56:18', project_name='monitoring', run_id='f3e5133a-bfc5-481f-b935-00aea7c1a870', duration=0.2513141632080078, emissions=3.200173430310355e-08, emissions_rate=1.2733756782587834e-07, cpu_power=5.0, gpu_power=0.0, ram_power=12.0, cpu_energy=0.0, gpu_energy=0, ram_energy=8.30554167429606e-07, energy_consumed=8.305541674296062e-07, country_name='Austria', country_iso_code='AUT', region=None, cloud_provider='', cloud_region='', os='macOS-14.4.1-arm64-arm-64bit', python_version='3.11.9', codecarbon_version='2.2.2', cpu_count=10, cpu_model='Apple M1 Max', gpu_count=None, gpu_model=None, longitude=None, latitude=None, ram_total_size=32.0, tracking_mode='machine', on_cloud='N'),\n",
       "       MonitoringData(timestamp='2024-04-29T18:56:18', project_name='monitoring', run_id='f3e5133a-bfc5-481f-b935-00aea7c1a870', duration=0.2558920383453369, emissions=1.839961611678865e-07, emissions_rate=7.190382411178267e-07, cpu_power=5.0, gpu_power=0.0, ram_power=12.0, cpu_energy=3.4867790010240335e-07, gpu_energy=0, ram_energy=8.425704638163249e-07, energy_consumed=1.1912483639187278e-06, country_name='Austria', country_iso_code='AUT', region=None, cloud_provider='', cloud_region='', os='macOS-14.4.1-arm64-arm-64bit', python_version='3.11.9', codecarbon_version='2.2.2', cpu_count=10, cpu_model='Apple M1 Max', gpu_count=None, gpu_model=None, longitude=None, latitude=None, ram_total_size=32.0, tracking_mode='machine', on_cloud='N'),\n",
       "       MonitoringData(timestamp='2024-04-29T18:56:18', project_name='monitoring', run_id='f3e5133a-bfc5-481f-b935-00aea7c1a870', duration=0.2560310363769531, emissions=1.087083120289114e-07, emissions_rate=4.245903682898066e-07, cpu_power=5.0, gpu_power=0.0, ram_power=12.0, cpu_energy=7.066571050220066e-07, gpu_energy=0, ram_energy=8.396999041239424e-07, energy_consumed=1.5463570091459492e-06, country_name='Austria', country_iso_code='AUT', region=None, cloud_provider='', cloud_region='', os='macOS-14.4.1-arm64-arm-64bit', python_version='3.11.9', codecarbon_version='2.2.2', cpu_count=10, cpu_model='Apple M1 Max', gpu_count=None, gpu_model=None, longitude=None, latitude=None, ram_total_size=32.0, tracking_mode='machine', on_cloud='N'),\n",
       "       MonitoringData(timestamp='2024-04-29T18:56:19', project_name='monitoring', run_id='f3e5133a-bfc5-481f-b935-00aea7c1a870', duration=0.2546517848968506, emissions=3.201945394542484e-08, emissions_rate=1.2573818777038875e-07, cpu_power=5.0, gpu_power=0.0, ram_power=12.0, cpu_energy=0.0, gpu_energy=0, ram_energy=8.39842955271403e-07, energy_consumed=8.39842955271403e-07, country_name='Austria', country_iso_code='AUT', region=None, cloud_provider='', cloud_region='', os='macOS-14.4.1-arm64-arm-64bit', python_version='3.11.9', codecarbon_version='2.2.2', cpu_count=10, cpu_model='Apple M1 Max', gpu_count=None, gpu_model=None, longitude=None, latitude=None, ram_total_size=32.0, tracking_mode='machine', on_cloud='N'),\n",
       "       MonitoringData(timestamp='2024-04-29T18:56:19', project_name='monitoring', run_id='f3e5133a-bfc5-481f-b935-00aea7c1a870', duration=0.2521231174468994, emissions=1.0884467492262521e-07, emissions_rate=4.3171239521718745e-07, cpu_power=5.0, gpu_power=0.0, ram_power=12.0, cpu_energy=3.5617351531982443e-07, gpu_energy=0, ram_energy=0.0, energy_consumed=3.561735153198242e-07, country_name='Austria', country_iso_code='AUT', region=None, cloud_provider='', cloud_region='', os='macOS-14.4.1-arm64-arm-64bit', python_version='3.11.9', codecarbon_version='2.2.2', cpu_count=10, cpu_model='Apple M1 Max', gpu_count=None, gpu_model=None, longitude=None, latitude=None, ram_total_size=32.0, tracking_mode='machine', on_cloud='N'),\n",
       "       MonitoringData(timestamp='2024-04-29T18:56:19', project_name='monitoring', run_id='f3e5133a-bfc5-481f-b935-00aea7c1a870', duration=0.25156497955322266, emissions=1.0743517983648521e-07, emissions_rate=4.2706731289581407e-07, cpu_power=5.0, gpu_power=0.0, ram_power=12.0, cpu_energy=3.4856531355116116e-07, gpu_energy=0, ram_energy=8.319632212320965e-07, energy_consumed=1.1805285347832576e-06, country_name='Austria', country_iso_code='AUT', region=None, cloud_provider='', cloud_region='', os='macOS-14.4.1-arm64-arm-64bit', python_version='3.11.9', codecarbon_version='2.2.2', cpu_count=10, cpu_model='Apple M1 Max', gpu_count=None, gpu_model=None, longitude=None, latitude=None, ram_total_size=32.0, tracking_mode='machine', on_cloud='N'),\n",
       "       MonitoringData(timestamp='2024-04-29T18:56:19', project_name='monitoring', run_id='f3e5133a-bfc5-481f-b935-00aea7c1a870', duration=0.2553858757019043, emissions=1.0686463146209703e-07, emissions_rate=4.184437810759485e-07, cpu_power=5.0, gpu_power=0.0, ram_power=12.0, cpu_energy=3.465890884399413e-07, gpu_energy=0, ram_energy=1.6642268498738606e-06, energy_consumed=2.0108159383138006e-06, country_name='Austria', country_iso_code='AUT', region=None, cloud_provider='', cloud_region='', os='macOS-14.4.1-arm64-arm-64bit', python_version='3.11.9', codecarbon_version='2.2.2', cpu_count=10, cpu_model='Apple M1 Max', gpu_count=None, gpu_model=None, longitude=None, latitude=None, ram_total_size=32.0, tracking_mode='machine', on_cloud='N'),\n",
       "       MonitoringData(timestamp='2024-04-29T18:56:20', project_name='monitoring', run_id='f3e5133a-bfc5-481f-b935-00aea7c1a870', duration=0.25233006477355957, emissions=1.838106714699002e-07, emissions_rate=7.284533122711774e-07, cpu_power=5.0, gpu_power=0.0, ram_power=12.0, cpu_energy=3.5031371646457264e-07, gpu_energy=0, ram_energy=8.328938484191888e-07, energy_consumed=1.1832075648837619e-06, country_name='Austria', country_iso_code='AUT', region=None, cloud_provider='', cloud_region='', os='macOS-14.4.1-arm64-arm-64bit', python_version='3.11.9', codecarbon_version='2.2.2', cpu_count=10, cpu_model='Apple M1 Max', gpu_count=None, gpu_model=None, longitude=None, latitude=None, ram_total_size=32.0, tracking_mode='machine', on_cloud='N'),\n",
       "       MonitoringData(timestamp='2024-04-29T18:56:20', project_name='monitoring', run_id='f3e5133a-bfc5-481f-b935-00aea7c1a870', duration=0.25247788429260254, emissions=3.196370337009433e-08, emissions_rate=1.2660001274824866e-07, cpu_power=5.0, gpu_power=0.0, ram_power=12.0, cpu_energy=3.512263298034669e-07, gpu_energy=0, ram_energy=0.0, energy_consumed=3.5122632980346605e-07, country_name='Austria', country_iso_code='AUT', region=None, cloud_provider='', cloud_region='', os='macOS-14.4.1-arm64-arm-64bit', python_version='3.11.9', codecarbon_version='2.2.2', cpu_count=10, cpu_model='Apple M1 Max', gpu_count=None, gpu_model=None, longitude=None, latitude=None, ram_total_size=32.0, tracking_mode='machine', on_cloud='N'),\n",
       "       MonitoringData(timestamp='2024-04-29T18:56:20', project_name='monitoring', run_id='f3e5133a-bfc5-481f-b935-00aea7c1a870', duration=0.21726727485656738, emissions=1.0827083575752027e-07, emissions_rate=4.983301596110002e-07, cpu_power=5.0, gpu_power=0.0, ram_power=12.0, cpu_energy=3.5090115335252553e-07, gpu_energy=0, ram_energy=8.388098080952958e-07, energy_consumed=1.1897109614478205e-06, country_name='Austria', country_iso_code='AUT', region=None, cloud_provider='', cloud_region='', os='macOS-14.4.1-arm64-arm-64bit', python_version='3.11.9', codecarbon_version='2.2.2', cpu_count=10, cpu_model='Apple M1 Max', gpu_count=None, gpu_model=None, longitude=None, latitude=None, ram_total_size=32.0, tracking_mode='machine', on_cloud='N')])"
      ]
     },
     "execution_count": 4,
     "metadata": {},
     "output_type": "execute_result"
    }
   ],
   "execution_count": 4
  },
  {
   "metadata": {
    "ExecuteTime": {
     "end_time": "2024-04-29T16:56:20.509903Z",
     "start_time": "2024-04-29T16:56:20.507797Z"
    }
   },
   "cell_type": "code",
   "source": [
    "print(len(collected_data))\n",
    "# for data in tracker.collected_data:\n",
    "#     print(data.energy_consumed)\n",
    "print(len(collected_data[0].values))\n",
    "    "
   ],
   "outputs": [
    {
     "name": "stdout",
     "output_type": "stream",
     "text": [
      "12\n",
      "30\n"
     ]
    }
   ],
   "execution_count": 5
  },
  {
   "metadata": {
    "ExecuteTime": {
     "end_time": "2024-04-29T16:56:20.512724Z",
     "start_time": "2024-04-29T16:56:20.510864Z"
    }
   },
   "cell_type": "code",
   "source": "import pandas as pd\n",
   "outputs": [],
   "execution_count": 6
  },
  {
   "metadata": {
    "ExecuteTime": {
     "end_time": "2024-04-29T16:56:20.517320Z",
     "start_time": "2024-04-29T16:56:20.513424Z"
    }
   },
   "cell_type": "code",
   "source": "len(pd.DataFrame(tracker.collected_data).columns)",
   "outputs": [
    {
     "data": {
      "text/plain": [
       "30"
      ]
     },
     "execution_count": 7,
     "metadata": {},
     "output_type": "execute_result"
    }
   ],
   "execution_count": 7
  }
 ],
 "metadata": {
  "kernelspec": {
   "display_name": "greem",
   "language": "python",
   "name": "python3"
  },
  "language_info": {
   "codemirror_mode": {
    "name": "ipython",
    "version": 3
   },
   "file_extension": ".py",
   "mimetype": "text/x-python",
   "name": "python",
   "nbconvert_exporter": "python",
   "pygments_lexer": "ipython3",
   "version": "3.11.9"
  }
 },
 "nbformat": 4,
 "nbformat_minor": 2
}
