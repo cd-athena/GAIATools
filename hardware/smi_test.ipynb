{
 "cells": [
  {
   "cell_type": "code",
   "execution_count": 1,
   "metadata": {},
   "outputs": [],
   "source": [
    "from nvidia_smi_dataclasses import *"
   ]
  },
  {
   "cell_type": "code",
   "execution_count": 2,
   "metadata": {},
   "outputs": [],
   "source": [
    "from pynvml import smi"
   ]
  },
  {
   "cell_type": "code",
   "execution_count": 3,
   "metadata": {},
   "outputs": [],
   "source": [
    "# %timeit -r 10 -n 50 metadata_instance = NvidiaDeviceQueryMetadata.from_smi()"
   ]
  },
  {
   "cell_type": "code",
   "execution_count": 4,
   "metadata": {},
   "outputs": [],
   "source": [
    "metadata_instance = NvidiaDeviceQueryMetadata.from_smi()"
   ]
  },
  {
   "cell_type": "code",
   "execution_count": 5,
   "metadata": {},
   "outputs": [
    {
     "data": {
      "text/plain": [
       "{'uuid': 'GPU-f0a6ca7e-423f-c275-759b-5733e6e89afc',\n",
       " 'fan_speed': 4000000,\n",
       " 'fan_speed_unit': '%',\n",
       " 'fb_memory_usage': {'used': 539.5, 'free': 11742.5, 'unit': 'MiB'},\n",
       " 'utilization': {'gpu_util': 0, 'memory_util': 0, 'unit': '%'},\n",
       " 'temperature': {'gpu_temp': 39,\n",
       "  'gpu_temp_max_threshold': 101,\n",
       "  'gpu_temp_slow_threshold': 96,\n",
       "  'unit': 'C'},\n",
       " 'power_readings': {'power_draw': 12.348, 'power_state': 'P8', 'unit': 'W'},\n",
       " 'clocks': {'graphics_clock': 210,\n",
       "  'sm_clock': 210,\n",
       "  'mem_clock': 405,\n",
       "  'unit': 'MHz'}}"
      ]
     },
     "execution_count": 5,
     "metadata": {},
     "output_type": "execute_result"
    }
   ],
   "source": [
    "update_dict = metadata_instance.update_metadata()['gpu'][0]\n",
    "update_dict['fan_speed'] = 4000000\n",
    "update_dict"
   ]
  },
  {
   "cell_type": "code",
   "execution_count": 6,
   "metadata": {},
   "outputs": [],
   "source": [
    "metadata_instance.gpu[0].__dict__.update(update_dict)"
   ]
  },
  {
   "cell_type": "code",
   "execution_count": 7,
   "metadata": {},
   "outputs": [
    {
     "data": {
      "text/plain": [
       "NvidiaGPUMetadata(id='00000000:01:00.0', product_name='NVIDIA GeForce RTX 4070 Ti', product_brand='GeForce', display_mode='Disabled', display_active='Disabled', persistence_mode='Disabled', mig_mode=MigMode(current_mm='Disabled', pending_mm='Disabled'), accounting_mode='Disabled', accounting_mode_buffer_size='4000', driver_model=DriverModel(current_dm='N/A', pending_dm='N/A'), serial='N/A', uuid='GPU-f0a6ca7e-423f-c275-759b-5733e6e89afc', minor_number='0', vbios_version='95.04.31.00.3C', multigpu_board='No', board_id='0x100', gpu_operation_mode=GpuOperationMode(current_gom='N/A', pending_gom='N/A'), fan_speed=4000000, fan_speed_unit='%', performance_state='P8', compute_mode='Default', utilization={'gpu_util': 0, 'memory_util': 0, 'unit': '%'}, temperature={'gpu_temp': 39, 'gpu_temp_max_threshold': 101, 'gpu_temp_slow_threshold': 96, 'unit': 'C'}, power_readings={'power_draw': 12.348, 'power_state': 'P8', 'unit': 'W'}, clocks={'graphics_clock': 210, 'sm_clock': 210, 'mem_clock': 405, 'unit': 'MHz'}, max_clocks=GpuClocks(graphics_clock=3105, sm_clock=3105, mem_clock=10501, unit='MHz'))"
      ]
     },
     "execution_count": 7,
     "metadata": {},
     "output_type": "execute_result"
    }
   ],
   "source": [
    "metadata_instance.get_gpu_per_uuid('GPU-f0a6ca7e-423f-c275-759b-5733e6e89afc')"
   ]
  },
  {
   "cell_type": "code",
   "execution_count": 18,
   "metadata": {},
   "outputs": [
    {
     "data": {
      "text/plain": [
       "{'gpu': [{'uuid': 'GPU-f0a6ca7e-423f-c275-759b-5733e6e89afc',\n",
       "   'fan_speed': 0,\n",
       "   'fan_speed_unit': '%',\n",
       "   'fb_memory_usage': {'used': 539.5, 'free': 11742.5, 'unit': 'MiB'},\n",
       "   'utilization': {'gpu_util': 0, 'memory_util': 0, 'unit': '%'},\n",
       "   'temperature': {'gpu_temp': 38,\n",
       "    'gpu_temp_max_threshold': 101,\n",
       "    'gpu_temp_slow_threshold': 96,\n",
       "    'unit': 'C'},\n",
       "   'power_readings': {'power_draw': 12.601, 'power_state': 'P8', 'unit': 'W'},\n",
       "   'clocks': {'graphics_clock': 210,\n",
       "    'sm_clock': 210,\n",
       "    'mem_clock': 405,\n",
       "    'unit': 'MHz'}}]}"
      ]
     },
     "execution_count": 18,
     "metadata": {},
     "output_type": "execute_result"
    }
   ],
   "source": [
    "metadata_instance.update_metadata()"
   ]
  },
  {
   "cell_type": "code",
   "execution_count": 8,
   "metadata": {},
   "outputs": [
    {
     "data": {
      "text/plain": [
       "{'graphics_clock': 210, 'sm_clock': 210, 'mem_clock': 405, 'unit': 'MHz'}"
      ]
     },
     "execution_count": 8,
     "metadata": {},
     "output_type": "execute_result"
    }
   ],
   "source": [
    "metadata_instance.gpu[0].clocks"
   ]
  },
  {
   "cell_type": "code",
   "execution_count": 9,
   "metadata": {},
   "outputs": [
    {
     "data": {
      "text/plain": [
       "{'total': 12282.0, 'used': 539.5, 'free': 11742.5, 'unit': 'MiB'}"
      ]
     },
     "execution_count": 9,
     "metadata": {},
     "output_type": "execute_result"
    }
   ],
   "source": [
    "%timeit\n",
    "smi.nvidia_smi.DeviceQuery()['gpu'][0]['fb_memory_usage']"
   ]
  },
  {
   "cell_type": "code",
   "execution_count": 10,
   "metadata": {},
   "outputs": [],
   "source": [
    "%timeit\n",
    "smi_instance = smi.nvidia_smi.getInstance()"
   ]
  },
  {
   "cell_type": "code",
   "execution_count": 11,
   "metadata": {},
   "outputs": [
    {
     "data": {
      "text/plain": [
       "{'gpu': [{'uuid': 'GPU-f0a6ca7e-423f-c275-759b-5733e6e89afc',\n",
       "   'fan_speed': 0,\n",
       "   'fan_speed_unit': '%',\n",
       "   'fb_memory_usage': {'used': 539.5, 'free': 11742.5, 'unit': 'MiB'},\n",
       "   'utilization': {'gpu_util': 0, 'memory_util': 0, 'unit': '%'},\n",
       "   'temperature': {'gpu_temp': 39,\n",
       "    'gpu_temp_max_threshold': 101,\n",
       "    'gpu_temp_slow_threshold': 96,\n",
       "    'unit': 'C'},\n",
       "   'power_readings': {'power_draw': 12.348,\n",
       "    'power_state': 'P8',\n",
       "    'unit': 'W'}}]}"
      ]
     },
     "execution_count": 11,
     "metadata": {},
     "output_type": "execute_result"
    }
   ],
   "source": [
    "smi_instance.DeviceQuery('uuid, fan.speed, memory.free, memory.used, utilization.gpu, utilization.memory, power.draw, temperature.gpu')"
   ]
  }
 ],
 "metadata": {
  "kernelspec": {
   "display_name": "gaia-tools",
   "language": "python",
   "name": "python3"
  },
  "language_info": {
   "codemirror_mode": {
    "name": "ipython",
    "version": 3
   },
   "file_extension": ".py",
   "mimetype": "text/x-python",
   "name": "python",
   "nbconvert_exporter": "python",
   "pygments_lexer": "ipython3",
   "version": "3.10.12"
  },
  "orig_nbformat": 4
 },
 "nbformat": 4,
 "nbformat_minor": 2
}
