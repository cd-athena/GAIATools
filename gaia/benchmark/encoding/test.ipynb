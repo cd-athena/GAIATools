{
 "cells": [
  {
   "cell_type": "code",
   "execution_count": 2,
   "metadata": {},
   "outputs": [],
   "source": [
    "import os"
   ]
  },
  {
   "cell_type": "code",
   "execution_count": 3,
   "metadata": {},
   "outputs": [],
   "source": [
    "video_files = [file for file in sorted(os.listdir('../dataset/ref_265/')) if file.endswith('.265')]"
   ]
  },
  {
   "cell_type": "code",
   "execution_count": 4,
   "metadata": {},
   "outputs": [
    {
     "name": "stdout",
     "output_type": "stream",
     "text": [
      "AnTh_000\n",
      "AnTh_001\n",
      "Ba_000\n",
      "Ba_001\n",
      "Be_000\n"
     ]
    }
   ],
   "source": [
    "def abbreviate_video_name(video_name: str) -> str:\n",
    "    \n",
    "    video_name_no_ext: str = video_name.split('.')[0]\n",
    "    \n",
    "    upper_case: str = ''.join(\n",
    "        [\n",
    "            f'{c}{video_name_no_ext[video_name_no_ext.find(c)+1]}' \n",
    "            for c in video_name_no_ext if c.isupper()\n",
    "            ])\n",
    "    numbers: str = ''.join([c for c in video_name_no_ext if c.isnumeric()])\n",
    "    abbreviate: str = f'{upper_case}_{numbers}'  \n",
    "    \n",
    "    return abbreviate\n",
    "\n",
    "# abbreviate_video_name(video_name=video_files[0])\n",
    "for vid in video_files:\n",
    "    print(abbreviate_video_name(vid))"
   ]
  },
  {
   "cell_type": "code",
   "execution_count": 14,
   "metadata": {},
   "outputs": [
    {
     "name": "stdout",
     "output_type": "stream",
     "text": [
      "0 2\n",
      "2 4\n",
      "4 6\n",
      "6 8\n",
      "8 10\n",
      "0 3\n",
      "3 6\n",
      "6 9\n",
      "9 12\n",
      "0 4\n",
      "4 8\n",
      "8 12\n",
      "0 5\n",
      "5 10\n",
      "0 6\n",
      "6 12\n",
      "0 7\n",
      "7 14\n",
      "0 8\n",
      "8 16\n",
      "0 9\n",
      "9 18\n",
      "0 10\n",
      "0 11\n",
      "0 12\n",
      "0 13\n",
      "0 14\n",
      "0 15\n",
      "0 16\n",
      "0 17\n",
      "0 18\n",
      "0 19\n"
     ]
    }
   ],
   "source": [
    "test_list: list[int] = [x for x in range(10)]\n",
    "\n",
    "is_batch_encoding: bool = True\n",
    "\n",
    "for window_size in range(2, 20):\n",
    "    \n",
    "    step_size: int = window_size if is_batch_encoding else 1\n",
    "    \n",
    "    # print(range(0, len(video_files), step_size))\n",
    "    for idx_offset in range(0, len(test_list), step_size):\n",
    "        print(idx_offset, window_size + idx_offset)"
   ]
  }
 ],
 "metadata": {
  "kernelspec": {
   "display_name": "gaia-tools",
   "language": "python",
   "name": "python3"
  },
  "language_info": {
   "codemirror_mode": {
    "name": "ipython",
    "version": 3
   },
   "file_extension": ".py",
   "mimetype": "text/x-python",
   "name": "python",
   "nbconvert_exporter": "python",
   "pygments_lexer": "ipython3",
   "version": "3.10.12"
  }
 },
 "nbformat": 4,
 "nbformat_minor": 2
}
