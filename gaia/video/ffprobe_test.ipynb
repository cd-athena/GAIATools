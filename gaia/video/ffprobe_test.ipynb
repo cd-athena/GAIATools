{
 "cells": [
  {
   "cell_type": "code",
   "execution_count": 7,
   "metadata": {},
   "outputs": [],
   "source": [
    "from video_metadata import VideoMetadata\n",
    "import json"
   ]
  },
  {
   "cell_type": "code",
   "execution_count": 2,
   "metadata": {},
   "outputs": [],
   "source": [
    "input_file_name: str = '../data/AncientThought.mp4'"
   ]
  },
  {
   "cell_type": "code",
   "execution_count": 5,
   "metadata": {},
   "outputs": [
    {
     "data": {
      "text/plain": [
       "VideoMetadata(streams=[VideoStream(avg_frame_rate='24000/1001', r_frame_rate='24000/1001', disposition=StreamDisposition(default=1, dub=0, original=0, comment=0, lyrics=0, karaoke=0, forced=0, hearing_impaired=0, visual_impaired=0, clean_effects=0, attached_pic=0, timed_thumbnails=0, captions=0, descriptions=0, metadata=0, dependent=0, still_image=0), extradata_size=49, codec_long_name='H.264 / AVC / MPEG-4 AVC / MPEG-4 part 10', start_time='0.000000', time_base='1/24000', codec_type='video', codec_tag_string='avc1', codec_tag='0x31637661', duration_ts=4492488, start_pts=0, nb_frames='4488', tags=VideoStreamTags(language='eng', handler_name='VideoHandler', vendor_id='[0][0][0][0]', encoder='Lavc60.3.100 libx264'), codec_name='h264', duration='187.187000', bit_rate='6432140', profile='High', id='0x1', index=0, average_fps=24.0, width=3840, height=2160, coded_width=3840, coded_height=2160, closed_captions=0, film_grain=0, has_b_frames=2, sample_aspect_ratio='1:1', display_aspect_ratio='16:9', pix_fmt='yuv420p', level=51, color_range='tv', color_space='bt709', color_transfer='bt709', color_primaries='bt709', chroma_location='left', field_order='progressive', refs=1, is_avc='true', nal_length_size='4', bits_per_raw_sample='8'), AudioStream(avg_frame_rate='0/0', r_frame_rate='0/0', disposition=StreamDisposition(default=1, dub=0, original=0, comment=0, lyrics=0, karaoke=0, forced=0, hearing_impaired=0, visual_impaired=0, clean_effects=0, attached_pic=0, timed_thumbnails=0, captions=0, descriptions=0, metadata=0, dependent=0, still_image=0), extradata_size=5, codec_long_name='AAC (Advanced Audio Coding)', start_time='0.000000', time_base='1/48000', codec_type='audio', codec_tag_string='mp4a', codec_tag='0x6134706d', duration_ts=8985360, start_pts=0, nb_frames='8776', tags=StreamTags(language='eng', handler_name='SoundHandler', vendor_id='[0][0][0][0]'), codec_name='aac', duration='187.195000', bit_rate='128746', profile='LC', id='0x2', index=1, average_fps=0.0, channel_layout='stereo', initial_padding=0, bits_per_sample=0, channels=2, sample_fmt='fltp', sample_rate='48000')], format=VideoFormat(filename='../data/AncientThought.mp4', nb_streams=2, nb_programs=0, format_name='mov,mp4,m4a,3gp,3g2,mj2', format_long_name='QuickTime / MOV', start_time='0.000000', duration='187.195000', size='153641129', bit_rate='6566035', probe_score=100, tags=VideoFormatTags(major_brand='isom', minor_version='512', compatible_brands='isomiso2avc1mp41', encoder='Lavf60.3.100')))"
      ]
     },
     "execution_count": 5,
     "metadata": {},
     "output_type": "execute_result"
    }
   ],
   "source": [
    "video_metadata = VideoMetadata.from_file(input_file_name)\n",
    "video_metadata"
   ]
  },
  {
   "cell_type": "code",
   "execution_count": 16,
   "metadata": {},
   "outputs": [
    {
     "data": {
      "text/plain": [
       "False"
      ]
     },
     "execution_count": 16,
     "metadata": {},
     "output_type": "execute_result"
    }
   ],
   "source": [
    "isinstance(str, VideoMetadata | bool)"
   ]
  }
 ],
 "metadata": {
  "kernelspec": {
   "display_name": "codecarbon",
   "language": "python",
   "name": "python3"
  },
  "language_info": {
   "codemirror_mode": {
    "name": "ipython",
    "version": 3
   },
   "file_extension": ".py",
   "mimetype": "text/x-python",
   "name": "python",
   "nbconvert_exporter": "python",
   "pygments_lexer": "ipython3",
   "version": "3.10.12"
  },
  "orig_nbformat": 4
 },
 "nbformat": 4,
 "nbformat_minor": 2
}
