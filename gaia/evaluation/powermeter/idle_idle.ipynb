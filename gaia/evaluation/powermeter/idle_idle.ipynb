{
 "cells": [
  {
   "cell_type": "code",
   "execution_count": 1,
   "metadata": {},
   "outputs": [],
   "source": [
    "from gaia.utils.monitoring import BaseMonitoring, RegularMonitoring, PeriodicMonitoring\n",
    "from codecarbon import EmissionsTracker\n",
    "import os\n",
    "import pandas as pd\n",
    "from time import sleep"
   ]
  },
  {
   "cell_type": "code",
   "execution_count": 2,
   "metadata": {},
   "outputs": [
    {
     "data": {
      "text/plain": [
       "'Christians-MacBook-Pro.local'"
      ]
     },
     "execution_count": 2,
     "metadata": {},
     "output_type": "execute_result"
    }
   ],
   "source": [
    "host_name: str = os.uname()[1]\n",
    "host_name"
   ]
  },
  {
   "cell_type": "code",
   "execution_count": 5,
   "metadata": {},
   "outputs": [
    {
     "name": "stdout",
     "output_type": "stream",
     "text": [
      "stress: info: [24523] dispatching hogs: 4 cpu, 0 io, 0 vm, 0 hdd\n",
      "stress: info: [24523] successful run completed in 10s\n"
     ]
    },
    {
     "data": {
      "text/plain": [
       "0"
      ]
     },
     "execution_count": 5,
     "metadata": {},
     "output_type": "execute_result"
    }
   ],
   "source": [
    "measurement_interval = 1\n",
    "\n",
    "tracker = EmissionsTracker(\n",
    "    measure_power_secs=measurement_interval, \n",
    "    project_name='test test', \n",
    "    log_level='error',\n",
    "    output_file=f'idle_idle_emissions_{host_name}.csv')\n",
    "\n",
    "os.system('sleep 5')\n",
    "os.system('stress -c 4 -t 1 -q')\n",
    "\n",
    "# os.system('sleep 0.2') # just to ensure that the stress test does not affect the measurements\n",
    "tracker._project_name = f'sleep_{measurement_interval}s_{host_name}'\n",
    "tracker.start()\n",
    "os.system('sleep 120')\n",
    "tracker.stop()\n",
    "\n",
    "\n",
    "os.system('stress -c 4 -t 10')"
   ]
  }
 ],
 "metadata": {
  "kernelspec": {
   "display_name": "gaia-tools",
   "language": "python",
   "name": "python3"
  },
  "language_info": {
   "codemirror_mode": {
    "name": "ipython",
    "version": 3
   },
   "file_extension": ".py",
   "mimetype": "text/x-python",
   "name": "python",
   "nbconvert_exporter": "python",
   "pygments_lexer": "ipython3",
   "version": "3.10.13"
  }
 },
 "nbformat": 4,
 "nbformat_minor": 2
}
