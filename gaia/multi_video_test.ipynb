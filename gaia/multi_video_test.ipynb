{
 "cells": [
  {
   "cell_type": "code",
   "execution_count": 1,
   "metadata": {},
   "outputs": [
    {
     "ename": "ModuleNotFoundError",
     "evalue": "No module named 'GaiaTools'",
     "output_type": "error",
     "traceback": [
      "\u001b[0;31m---------------------------------------------------------------------------\u001b[0m",
      "\u001b[0;31mModuleNotFoundError\u001b[0m                       Traceback (most recent call last)",
      "Cell \u001b[0;32mIn[1], line 3\u001b[0m\n\u001b[1;32m      1\u001b[0m \u001b[39mimport\u001b[39;00m \u001b[39mos\u001b[39;00m\n\u001b[1;32m      2\u001b[0m \u001b[39mfrom\u001b[39;00m \u001b[39mtime\u001b[39;00m \u001b[39mimport\u001b[39;00m perf_counter\n\u001b[0;32m----> 3\u001b[0m \u001b[39mfrom\u001b[39;00m \u001b[39mutils\u001b[39;00m \u001b[39mimport\u001b[39;00m ffmpeg\n",
      "File \u001b[0;32m~/Development/GAIATools/utils/ffmpeg.py:9\u001b[0m\n\u001b[1;32m      5\u001b[0m \u001b[39mfrom\u001b[39;00m \u001b[39mvideo\u001b[39;00m\u001b[39m.\u001b[39;00m\u001b[39mvideo_info\u001b[39;00m \u001b[39mimport\u001b[39;00m VideoInfo\n\u001b[1;32m      7\u001b[0m \u001b[39m# from .config import Rendition\u001b[39;00m\n\u001b[1;32m      8\u001b[0m \u001b[39m# from .benchmark import BenchmarkParser\u001b[39;00m\n\u001b[0;32m----> 9\u001b[0m \u001b[39mfrom\u001b[39;00m \u001b[39mGaiaTools\u001b[39;00m\u001b[39m.\u001b[39;00m\u001b[39mconfig\u001b[39;00m \u001b[39mimport\u001b[39;00m Rendition\n\u001b[1;32m     12\u001b[0m cli_parser \u001b[39m=\u001b[39m BenchmarkParser()\n\u001b[1;32m     15\u001b[0m \u001b[39mdef\u001b[39;00m \u001b[39mget_lib_codec\u001b[39m(codec: \u001b[39mstr\u001b[39m) \u001b[39m-\u001b[39m\u001b[39m>\u001b[39m \u001b[39mstr\u001b[39m:\n",
      "\u001b[0;31mModuleNotFoundError\u001b[0m: No module named 'GaiaTools'"
     ]
    }
   ],
   "source": [
    "import os\n",
    "from time import perf_counter\n",
    "from utils import ffmpeg"
   ]
  },
  {
   "cell_type": "code",
   "execution_count": null,
   "metadata": {},
   "outputs": [],
   "source": [
    "DATA_DIR: str = 'data'"
   ]
  },
  {
   "cell_type": "code",
   "execution_count": null,
   "metadata": {},
   "outputs": [],
   "source": [
    "video_list = [f'{DATA_DIR}/{video}' for video in os.listdir('data/')]\n",
    "video_list"
   ]
  },
  {
   "cell_type": "code",
   "execution_count": null,
   "metadata": {},
   "outputs": [],
   "source": [
    "def create_ffmpeg_cmd(vid_list) -> str:\n",
    "    cmd: list[str] = [\n",
    "        'ffmpeg -y'\n",
    "    ]\n",
    "    cmd.extend([f'-i {vid}' for vid in vid_list])\n",
    "    \n",
    "    for i in range(len(vid_list)):\n",
    "        map_cmd = f'-map {i} -c:v mpeg4 -q:v 1 -seg_duration 4 -f dash test/{i}/video{i}.mpd'\n",
    "        cmd.append(map_cmd)\n",
    "    \n",
    "    \n",
    "    return ' '.join(cmd)"
   ]
  },
  {
   "cell_type": "code",
   "execution_count": null,
   "metadata": {},
   "outputs": [],
   "source": [
    "cmd = create_ffmpeg_cmd(video_list)\n",
    "cmd"
   ]
  },
  {
   "cell_type": "code",
   "execution_count": null,
   "metadata": {},
   "outputs": [],
   "source": [
    "os.system(cmd)"
   ]
  },
  {
   "cell_type": "code",
   "execution_count": null,
   "metadata": {},
   "outputs": [],
   "source": [
    "hmm = f'''\n",
    "ffmpeg -y -i {video_list[0]} -vcodec mpeg4 -qscale:v 1 output1.mp4 &\n",
    "ffmpeg -y -i {video_list[1]} -vcodec mpeg4 -qscale:v 1 output2.mp4 &\n",
    "\n",
    "'''"
   ]
  },
  {
   "cell_type": "code",
   "execution_count": null,
   "metadata": {},
   "outputs": [],
   "source": [
    "start = perf_counter()\n",
    "os.system(hmm)\n",
    "perf_counter() - start"
   ]
  },
  {
   "cell_type": "code",
   "execution_count": null,
   "metadata": {},
   "outputs": [],
   "source": [
    "test = 'asdfasdf'\n",
    "test"
   ]
  }
 ],
 "metadata": {
  "kernelspec": {
   "display_name": "gaia-tools",
   "language": "python",
   "name": "python3"
  },
  "language_info": {
   "codemirror_mode": {
    "name": "ipython",
    "version": 3
   },
   "file_extension": ".py",
   "mimetype": "text/x-python",
   "name": "python",
   "nbconvert_exporter": "python",
   "pygments_lexer": "ipython3",
   "version": "3.10.12"
  },
  "orig_nbformat": 4
 },
 "nbformat": 4,
 "nbformat_minor": 2
}
