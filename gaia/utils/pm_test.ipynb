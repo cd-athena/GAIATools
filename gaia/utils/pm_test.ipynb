{
 "cells": [
  {
   "cell_type": "code",
   "execution_count": null,
   "metadata": {},
   "outputs": [],
   "source": [
    "from gaia.utils.monitoring import BaseMonitoring, RegularMonitoring, PeriodicMonitoring\n",
    "from codecarbon import EmissionsTracker\n",
    "import os\n",
    "import pandas as pd\n",
    "from time import sleep"
   ]
  },
  {
   "cell_type": "code",
   "execution_count": null,
   "metadata": {},
   "outputs": [],
   "source": [
    "host_name: str = os.uname()[1]\n",
    "host_name"
   ]
  },
  {
   "cell_type": "code",
   "execution_count": null,
   "metadata": {},
   "outputs": [],
   "source": [
    "\n",
    "\n",
    "# rm = RegularMonitoring(measure_power_secs=10)\n",
    "\n",
    "# pm = PeriodicMonitoring(measure_power_secs=0.5)"
   ]
  },
  {
   "cell_type": "markdown",
   "metadata": {},
   "source": [
    "```bash\n",
    "for run in {1..5}; do\n",
    "  ffmpeg -y -re -i Beauty_s000.265 -b:v:0 1000k -b:v:0 1000k -minrate 1000k -maxrate 1000k -bufsize 3000k -c:v:0 libx264 -filter:v:0 \"scale=200:100 ,fps=10\" -preset medium -keyint_min 10 -g 10 test.mp4\n",
    "done\n",
    "```"
   ]
  },
  {
   "cell_type": "code",
   "execution_count": null,
   "metadata": {},
   "outputs": [],
   "source": [
    "def start_measuring(measurement_interval: float, repetitions: int = 10, sleep_time: float = 0):\n",
    "    tracker = EmissionsTracker(\n",
    "        measure_power_secs=measurement_interval, \n",
    "        project_name='test test', \n",
    "        log_level='error',\n",
    "        output_file=f'emissions_{host_name}.csv')\n",
    "\n",
    "    if sleep_time == 0:\n",
    "    \n",
    "        for i in range(repetitions):\n",
    "            tracker._project_name = f'Beauty_s000_{measurement_interval}s_{(i + 1)}_{host_name}'\n",
    "            tracker.start()\n",
    "            os.system('ffmpeg -y -re -i Beauty_s000.265 -b:v:0 1000k -b:v:0 1000k -minrate 1000k -maxrate 1000k -bufsize 3000k -c:v:0 libx264 -filter:v:0 \"scale=200:100 ,fps=10\" -preset medium -keyint_min 10 -g 10 test.mp4')\n",
    "            tracker.stop()\n",
    "            sleep(0.2)\n",
    "    \n",
    "    else:\n",
    "        for i in range(repetitions):\n",
    "            tracker._project_name = f'sleep_{measurement_interval}s_{(i + 1)}_{host_name}'\n",
    "            tracker.start()\n",
    "            os.system(f'sleep {sleep_time}')\n",
    "            tracker.stop()\n",
    "            sleep(0.2)\n"
   ]
  },
  {
   "cell_type": "code",
   "execution_count": null,
   "metadata": {},
   "outputs": [],
   "source": [
    "step: float = 0.25\n",
    "\n",
    "intervals: list[float] = [0.125] + [step * x for x in range(1, 13)]\n",
    "last_val = intervals[-1]\n",
    "# intervals.extend([1 * x + last_val for x in range(1, 18)])\n",
    "intervals"
   ]
  },
  {
   "cell_type": "code",
   "execution_count": null,
   "metadata": {},
   "outputs": [],
   "source": [
    "for i in intervals:\n",
    "    start_measuring(i, 15)"
   ]
  },
  {
   "cell_type": "code",
   "execution_count": null,
   "metadata": {},
   "outputs": [],
   "source": [
    "# for i in range(10):\n",
    "#     tracker._project_name = f'Beauty_s000_{measurement_interval}s_{i}'\n",
    "#     tracker.start()\n",
    "#     os.system('ffmpeg -y -re -i Beauty_s000.265 -b:v:0 1000k -b:v:0 1000k -minrate 1000k -maxrate 1000k -bufsize 3000k -c:v:0 libx264 -filter:v:0 \"scale=200:100 ,fps=10\" -preset medium -keyint_min 10 -g 10 test.mp4')\n",
    "#     tracker.stop()\n",
    "#     sleep(0.2)\n",
    "    \n",
    "\n",
    "# for i in range(10):\n",
    "#     tracker._project_name = f'sleep_{measurement_interval}s_{i}'\n",
    "#     tracker.start()\n",
    "#     os.system('sleep 3')\n",
    "#     tracker.stop()\n",
    "#     sleep(0.2)"
   ]
  },
  {
   "cell_type": "code",
   "execution_count": null,
   "metadata": {},
   "outputs": [],
   "source": [
    "\n"
   ]
  },
  {
   "cell_type": "code",
   "execution_count": null,
   "metadata": {},
   "outputs": [],
   "source": [
    "# for i in range(12):\n",
    "#     rm.start_monitoring('sleep 2')\n",
    "\n",
    "# # rm.tracker.stop()\n",
    "# rm.tracker.stop()\n",
    "\n",
    "# rm.collected_data"
   ]
  },
  {
   "cell_type": "code",
   "execution_count": null,
   "metadata": {},
   "outputs": [],
   "source": [
    "# for i in rm.collected_data:\n",
    "#     print(type(i))"
   ]
  }
 ],
 "metadata": {
  "kernelspec": {
   "display_name": "gaia-tools",
   "language": "python",
   "name": "python3"
  },
  "language_info": {
   "codemirror_mode": {
    "name": "ipython",
    "version": 3
   },
   "file_extension": ".py",
   "mimetype": "text/x-python",
   "name": "python",
   "nbconvert_exporter": "python",
   "pygments_lexer": "ipython3",
   "version": "3.10.13"
  }
 },
 "nbformat": 4,
 "nbformat_minor": 2
}
