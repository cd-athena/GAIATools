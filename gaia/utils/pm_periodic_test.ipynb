{
 "cells": [
  {
   "cell_type": "code",
   "execution_count": 99,
   "metadata": {},
   "outputs": [],
   "source": [
    "from gaia.utils.monitoring import BaseMonitoring, RegularMonitoring, PeriodicMonitoring\n",
    "from codecarbon import EmissionsTracker\n",
    "import os\n",
    "import pandas as pd\n",
    "from time import sleep\n",
    "from codecarbon.output import EmissionsData"
   ]
  },
  {
   "cell_type": "code",
   "execution_count": 100,
   "metadata": {},
   "outputs": [
    {
     "data": {
      "text/plain": [
       "'Christians-MacBook-Pro.local'"
      ]
     },
     "execution_count": 100,
     "metadata": {},
     "output_type": "execute_result"
    }
   ],
   "source": [
    "host_name: str = os.uname()[1]\n",
    "host_name"
   ]
  },
  {
   "cell_type": "code",
   "execution_count": 101,
   "metadata": {},
   "outputs": [],
   "source": [
    "# rm = RegularMonitoring(measure_power_secs=10)\n",
    "\n",
    "# pm = PeriodicMonitoring(measure_power_secs=0.5)"
   ]
  },
  {
   "cell_type": "markdown",
   "metadata": {},
   "source": [
    "```bash\n",
    "for run in {1..5}; do\n",
    "  ffmpeg -y -re -i Beauty_s000.265 -b:v:0 1000k -b:v:0 1000k -minrate 1000k -maxrate 1000k -bufsize 3000k -c:v:0 libx264 -filter:v:0 \"scale=200:100 ,fps=10\" -preset medium -keyint_min 10 -g 10 test.mp4\n",
    "done\n",
    "```"
   ]
  },
  {
   "cell_type": "code",
   "execution_count": 102,
   "metadata": {},
   "outputs": [],
   "source": [
    "def start_measuring(measurement_interval: float, repetitions: int = 10, sleep_time: float = 0) -> list[EmissionsData]:\n",
    "    tracker = EmissionsTracker(\n",
    "        measure_power_secs=measurement_interval, \n",
    "        project_name='test test', \n",
    "        log_level='error',\n",
    "        output_file=f'emissions_{host_name}.csv')\n",
    "    pm = PeriodicMonitoring(tracker=tracker)\n",
    "\n",
    "    if sleep_time == 0:\n",
    "    \n",
    "        for i in range(repetitions):\n",
    "            pm.tracker._project_name = f'Beauty_s000_{measurement_interval}s_{(i + 1)}_{host_name}'\n",
    "            \n",
    "            # os.system('ffmpeg -y -re -i Beauty_s000.265 -b:v:0 1000k -b:v:0 1000k -minrate 1000k -maxrate 1000k -bufsize 3000k -c:v:0 libx264 -filter:v:0 \"scale=200:100 ,fps=10\" -preset medium -keyint_min 10 -g 10 test.mp4')\n",
    "            pm.scheduler.start()\n",
    "            pm.start_monitoring('ffmpeg -hide_banner -loglevel error -y -re -i Beauty_s000.265 -b:v:0 1000k -b:v:0 1000k -minrate 1000k -maxrate 1000k -bufsize 3000k -c:v:0 libx264 -filter:v:0 \"scale=200:100 ,fps=10\" -preset medium -keyint_min 10 -g 10 test.mp4')\n",
    "            pm.scheduler.stop()\n",
    "            # sleep(0.2)\n",
    "    \n",
    "    else:\n",
    "        for i in range(repetitions):\n",
    "            tracker._project_name = f'sleep_{measurement_interval}s_{(i + 1)}_{host_name}'\n",
    "            # tracker.start()\n",
    "            os.system(f'sleep {sleep_time}')\n",
    "            # tracker.stop()\n",
    "            # sleep(0.2)\n",
    "\n",
    "    pm.tracker.stop()\n",
    "    pm.scheduler.stop()\n",
    "    return pm.collected_data\n"
   ]
  },
  {
   "cell_type": "code",
   "execution_count": 103,
   "metadata": {},
   "outputs": [
    {
     "data": {
      "text/plain": [
       "[0.125, 0.25, 0.5, 0.75, 1.0, 1.25, 1.5, 1.75, 2.0, 2.25, 2.5, 2.75, 3.0]"
      ]
     },
     "execution_count": 103,
     "metadata": {},
     "output_type": "execute_result"
    }
   ],
   "source": [
    "step: float = 0.25\n",
    "\n",
    "intervals: list[float] = [0.125] + [step * x for x in range(1, 13)]\n",
    "last_val = intervals[-1]\n",
    "# intervals.extend([1 * x + last_val for x in range(1, 18)])\n",
    "intervals"
   ]
  },
  {
   "cell_type": "code",
   "execution_count": 104,
   "metadata": {},
   "outputs": [
    {
     "name": "stderr",
     "output_type": "stream",
     "text": [
      "[codecarbon INFO @ 16:57:14] [setup] RAM Tracking...\n",
      "[codecarbon INFO @ 16:57:14] [setup] GPU Tracking...\n",
      "[codecarbon INFO @ 16:57:14] No GPU found.\n",
      "[codecarbon INFO @ 16:57:14] [setup] CPU Tracking...\n",
      "[codecarbon WARNING @ 16:57:14] No CPU tracking mode found. Falling back on CPU constant mode.\n",
      "[codecarbon INFO @ 16:57:14] CPU Model on constant consumption mode: Apple M1 Max\n",
      "[codecarbon INFO @ 16:57:14] >>> Tracker's metadata:\n",
      "[codecarbon INFO @ 16:57:14]   Platform system: macOS-14.2.1-arm64-arm-64bit\n",
      "[codecarbon INFO @ 16:57:14]   Python version: 3.10.13\n",
      "[codecarbon INFO @ 16:57:14]   CodeCarbon version: 2.2.2\n",
      "[codecarbon INFO @ 16:57:14]   Available RAM : 32.000 GB\n",
      "[codecarbon INFO @ 16:57:14]   CPU count: 10\n",
      "[codecarbon INFO @ 16:57:14]   CPU model: Apple M1 Max\n",
      "[codecarbon INFO @ 16:57:14]   GPU count: None\n",
      "[codecarbon INFO @ 16:57:14]   GPU model: None\n",
      "[codecarbon INFO @ 16:57:17] Energy consumed for RAM : 0.000003 kWh. RAM Power : 12.0 W\n",
      "[codecarbon INFO @ 16:57:17] Energy consumed for all CPUs : 0.000001 kWh. Total CPU Power : 5.0 W\n",
      "[codecarbon INFO @ 16:57:17] 0.000005 kWh of electricity used since the beginning.\n",
      "[codecarbon INFO @ 16:57:18] Energy consumed for RAM : 0.000007 kWh. RAM Power : 12.0 W\n",
      "[codecarbon INFO @ 16:57:18] Energy consumed for all CPUs : 0.000003 kWh. Total CPU Power : 5.0 W\n",
      "[codecarbon INFO @ 16:57:18] 0.000009 kWh of electricity used since the beginning.\n",
      "[codecarbon INFO @ 16:57:19] Energy consumed for RAM : 0.000010 kWh. RAM Power : 12.0 W\n",
      "[codecarbon INFO @ 16:57:19] Energy consumed for all CPUs : 0.000004 kWh. Total CPU Power : 5.0 W\n",
      "[codecarbon INFO @ 16:57:19] 0.000014 kWh of electricity used since the beginning.\n",
      "[codecarbon INFO @ 16:57:20] Energy consumed for RAM : 0.000013 kWh. RAM Power : 12.0 W\n",
      "[codecarbon INFO @ 16:57:20] Energy consumed for all CPUs : 0.000006 kWh. Total CPU Power : 5.0 W\n",
      "[codecarbon INFO @ 16:57:20] 0.000019 kWh of electricity used since the beginning.\n",
      "[codecarbon INFO @ 16:57:21] Energy consumed for RAM : 0.000017 kWh. RAM Power : 12.0 W\n",
      "[codecarbon INFO @ 16:57:21] Energy consumed for all CPUs : 0.000007 kWh. Total CPU Power : 5.0 W\n",
      "[codecarbon INFO @ 16:57:21] 0.000024 kWh of electricity used since the beginning.\n",
      "[codecarbon INFO @ 16:57:22] Energy consumed for RAM : 0.000020 kWh. RAM Power : 12.0 W\n",
      "[codecarbon INFO @ 16:57:22] Energy consumed for all CPUs : 0.000008 kWh. Total CPU Power : 5.0 W\n",
      "[codecarbon INFO @ 16:57:22] 0.000028 kWh of electricity used since the beginning.\n",
      "[codecarbon INFO @ 16:57:23] Energy consumed for RAM : 0.000023 kWh. RAM Power : 12.0 W\n",
      "[codecarbon INFO @ 16:57:23] Energy consumed for all CPUs : 0.000010 kWh. Total CPU Power : 5.0 W\n",
      "[codecarbon INFO @ 16:57:23] 0.000033 kWh of electricity used since the beginning.\n",
      "[codecarbon INFO @ 16:57:24] Energy consumed for RAM : 0.000027 kWh. RAM Power : 12.0 W\n",
      "[codecarbon INFO @ 16:57:24] Energy consumed for all CPUs : 0.000011 kWh. Total CPU Power : 5.0 W\n",
      "[codecarbon INFO @ 16:57:24] 0.000038 kWh of electricity used since the beginning.\n",
      "[codecarbon INFO @ 16:57:25] Energy consumed for RAM : 0.000030 kWh. RAM Power : 12.0 W\n",
      "[codecarbon INFO @ 16:57:25] Energy consumed for all CPUs : 0.000013 kWh. Total CPU Power : 5.0 W\n",
      "[codecarbon INFO @ 16:57:25] 0.000043 kWh of electricity used since the beginning.\n",
      "[codecarbon INFO @ 16:57:26] Energy consumed for RAM : 0.000033 kWh. RAM Power : 12.0 W\n",
      "[codecarbon INFO @ 16:57:26] Energy consumed for all CPUs : 0.000014 kWh. Total CPU Power : 5.0 W\n",
      "[codecarbon INFO @ 16:57:27] 0.000047 kWh of electricity used since the beginning.\n",
      "[codecarbon INFO @ 16:57:27] Energy consumed for RAM : 0.000036 kWh. RAM Power : 12.0 W\n",
      "[codecarbon INFO @ 16:57:28] Energy consumed for all CPUs : 0.000015 kWh. Total CPU Power : 5.0 W\n",
      "[codecarbon INFO @ 16:57:28] 0.000052 kWh of electricity used since the beginning.\n",
      "[codecarbon INFO @ 16:57:28] Energy consumed for RAM : 0.000039 kWh. RAM Power : 12.0 W\n",
      "[codecarbon INFO @ 16:57:28] Energy consumed for all CPUs : 0.000017 kWh. Total CPU Power : 5.0 W\n",
      "[codecarbon INFO @ 16:57:28] 0.000056 kWh of electricity used since the beginning.\n",
      "[codecarbon INFO @ 16:57:29] Energy consumed for RAM : 0.000043 kWh. RAM Power : 12.0 W\n",
      "[codecarbon INFO @ 16:57:29] Energy consumed for all CPUs : 0.000018 kWh. Total CPU Power : 5.0 W\n",
      "[codecarbon INFO @ 16:57:29] 0.000061 kWh of electricity used since the beginning.\n",
      "[codecarbon INFO @ 16:57:30] Energy consumed for RAM : 0.000046 kWh. RAM Power : 12.0 W\n",
      "[codecarbon INFO @ 16:57:30] Energy consumed for all CPUs : 0.000019 kWh. Total CPU Power : 5.0 W\n",
      "[codecarbon INFO @ 16:57:30] 0.000066 kWh of electricity used since the beginning.\n",
      "[codecarbon INFO @ 16:57:31] Energy consumed for RAM : 0.000049 kWh. RAM Power : 12.0 W\n",
      "[codecarbon INFO @ 16:57:31] Energy consumed for all CPUs : 0.000021 kWh. Total CPU Power : 5.0 W\n",
      "[codecarbon INFO @ 16:57:31] 0.000070 kWh of electricity used since the beginning.\n",
      "[codecarbon INFO @ 16:57:32] Energy consumed for RAM : 0.000053 kWh. RAM Power : 12.0 W\n",
      "[codecarbon INFO @ 16:57:32] Energy consumed for all CPUs : 0.000022 kWh. Total CPU Power : 5.0 W\n",
      "[codecarbon INFO @ 16:57:32] 0.000075 kWh of electricity used since the beginning.\n",
      "[codecarbon INFO @ 16:57:33] Energy consumed for RAM : 0.000056 kWh. RAM Power : 12.0 W\n",
      "[codecarbon INFO @ 16:57:33] Energy consumed for all CPUs : 0.000024 kWh. Total CPU Power : 5.0 W\n",
      "[codecarbon INFO @ 16:57:34] 0.000080 kWh of electricity used since the beginning.\n",
      "[codecarbon INFO @ 16:57:35] Energy consumed for RAM : 0.000059 kWh. RAM Power : 12.0 W\n",
      "[codecarbon INFO @ 16:57:35] Energy consumed for all CPUs : 0.000025 kWh. Total CPU Power : 5.0 W\n",
      "[codecarbon INFO @ 16:57:35] 0.000084 kWh of electricity used since the beginning.\n",
      "[codecarbon INFO @ 16:57:36] Energy consumed for RAM : 0.000063 kWh. RAM Power : 12.0 W\n",
      "[codecarbon INFO @ 16:57:36] Energy consumed for all CPUs : 0.000026 kWh. Total CPU Power : 5.0 W\n",
      "[codecarbon INFO @ 16:57:36] 0.000089 kWh of electricity used since the beginning.\n",
      "[codecarbon INFO @ 16:57:37] Energy consumed for RAM : 0.000066 kWh. RAM Power : 12.0 W\n",
      "[codecarbon INFO @ 16:57:37] Energy consumed for all CPUs : 0.000028 kWh. Total CPU Power : 5.0 W\n",
      "[codecarbon INFO @ 16:57:37] 0.000094 kWh of electricity used since the beginning.\n",
      "[codecarbon INFO @ 16:57:38] Energy consumed for RAM : 0.000069 kWh. RAM Power : 12.0 W\n",
      "[codecarbon INFO @ 16:57:38] Energy consumed for all CPUs : 0.000029 kWh. Total CPU Power : 5.0 W\n",
      "[codecarbon INFO @ 16:57:38] 0.000099 kWh of electricity used since the beginning.\n",
      "[codecarbon INFO @ 16:57:39] Energy consumed for RAM : 0.000073 kWh. RAM Power : 12.0 W\n",
      "[codecarbon INFO @ 16:57:39] Energy consumed for all CPUs : 0.000031 kWh. Total CPU Power : 5.0 W\n",
      "[codecarbon INFO @ 16:57:39] 0.000103 kWh of electricity used since the beginning.\n",
      "[codecarbon INFO @ 16:57:40] Energy consumed for RAM : 0.000076 kWh. RAM Power : 12.0 W\n",
      "[codecarbon INFO @ 16:57:40] Energy consumed for all CPUs : 0.000032 kWh. Total CPU Power : 5.0 W\n",
      "[codecarbon INFO @ 16:57:40] 0.000108 kWh of electricity used since the beginning.\n",
      "[codecarbon INFO @ 16:57:40] Energy consumed for RAM : 0.000079 kWh. RAM Power : 12.0 W\n",
      "[codecarbon INFO @ 16:57:40] Energy consumed for all CPUs : 0.000033 kWh. Total CPU Power : 5.0 W\n",
      "[codecarbon INFO @ 16:57:40] 0.000112 kWh of electricity used since the beginning.\n"
     ]
    }
   ],
   "source": [
    "collected_measurements: list[EmissionsData] = []\n",
    "\n",
    "# for i in intervals[:2]:\n",
    "#     collected_measurements.extend(start_measuring(i, 2))\n",
    "collected_measurements.extend(start_measuring(0.5, 3))"
   ]
  },
  {
   "cell_type": "code",
   "execution_count": 105,
   "metadata": {},
   "outputs": [
    {
     "data": {
      "text/plain": [
       "[MonitoringData(timestamp='2024-03-06T16:57:17', project_name='Beauty_s000_0.5s_1_Christians-MacBook-Pro.local', run_id='44f3d20e-4a5d-4114-9033-d9e7d4c8329e', duration=1.0066430568695068, emissions=3.05106131421725e-07, emissions_rate=3.03092669580968e-07, cpu_power=5.0, gpu_power=0.0, ram_power=12.0, cpu_energy=1.3995263311598038e-06, gpu_energy=0, ram_energy=3.352593580881755e-06, energy_consumed=4.752119912041559e-06, country_name='Austria', country_iso_code='AUT', region='vienna', cloud_provider='', cloud_region='', os='macOS-14.2.1-arm64-arm-64bit', python_version='3.10.13', codecarbon_version='2.2.2', cpu_count=10, cpu_model='Apple M1 Max', gpu_count=None, gpu_model=None, longitude=16.3944, latitude=48.217, ram_total_size=32.0, tracking_mode='machine', on_cloud='N'),\n",
       " MonitoringData(timestamp='2024-03-06T16:57:18', project_name='Beauty_s000_0.5s_1_Christians-MacBook-Pro.local', run_id='44f3d20e-4a5d-4114-9033-d9e7d4c8329e', duration=0.9999091625213623, emissions=1.2736529329352914e-07, emissions_rate=1.273768638866814e-07, cpu_power=5.0, gpu_power=0.0, ram_power=12.0, cpu_energy=0.0, gpu_energy=0, ram_energy=3.316179116566976e-06, energy_consumed=3.316179116566975e-06, country_name='Austria', country_iso_code='AUT', region='vienna', cloud_provider='', cloud_region='', os='macOS-14.2.1-arm64-arm-64bit', python_version='3.10.13', codecarbon_version='2.2.2', cpu_count=10, cpu_model='Apple M1 Max', gpu_count=None, gpu_model=None, longitude=16.3944, latitude=48.217, ram_total_size=32.0, tracking_mode='machine', on_cloud='N'),\n",
       " MonitoringData(timestamp='2024-03-06T16:57:19', project_name='Beauty_s000_0.5s_1_Christians-MacBook-Pro.local', run_id='44f3d20e-4a5d-4114-9033-d9e7d4c8329e', duration=1.0012128353118896, emissions=4.2800269968032825e-07, emissions_rate=4.2748423170883577e-07, cpu_power=5.0, gpu_power=0.0, ram_power=12.0, cpu_energy=1.3868371645609538e-06, gpu_energy=0, ram_energy=3.319226900736491e-06, energy_consumed=4.706064065297445e-06, country_name='Austria', country_iso_code='AUT', region='vienna', cloud_provider='', cloud_region='', os='macOS-14.2.1-arm64-arm-64bit', python_version='3.10.13', codecarbon_version='2.2.2', cpu_count=10, cpu_model='Apple M1 Max', gpu_count=None, gpu_model=None, longitude=16.3944, latitude=48.217, ram_total_size=32.0, tracking_mode='machine', on_cloud='N'),\n",
       " MonitoringData(timestamp='2024-03-06T16:57:20', project_name='Beauty_s000_0.5s_1_Christians-MacBook-Pro.local', run_id='44f3d20e-4a5d-4114-9033-d9e7d4c8329e', duration=1.0144309997558594, emissions=7.322865312107406e-07, emissions_rate=7.218692364359707e-07, cpu_power=5.0, gpu_power=0.0, ram_power=12.0, cpu_energy=2.792080574565463e-06, gpu_energy=0, ram_energy=3.3395266532897954e-06, energy_consumed=6.131607227855261e-06, country_name='Austria', country_iso_code='AUT', region='vienna', cloud_provider='', cloud_region='', os='macOS-14.2.1-arm64-arm-64bit', python_version='3.10.13', codecarbon_version='2.2.2', cpu_count=10, cpu_model='Apple M1 Max', gpu_count=None, gpu_model=None, longitude=16.3944, latitude=48.217, ram_total_size=32.0, tracking_mode='machine', on_cloud='N'),\n",
       " MonitoringData(timestamp='2024-03-06T16:57:21', project_name='Beauty_s000_0.5s_1_Christians-MacBook-Pro.local', run_id='44f3d20e-4a5d-4114-9033-d9e7d4c8329e', duration=1.0121469497680664, emissions=4.323484901763332e-07, emissions_rate=4.2715980152428056e-07, cpu_power=5.0, gpu_power=0.0, ram_power=12.0, cpu_energy=1.399817731645372e-06, gpu_energy=0, ram_energy=3.3465091387430825e-06, energy_consumed=4.7463268703884544e-06, country_name='Austria', country_iso_code='AUT', region='vienna', cloud_provider='', cloud_region='', os='macOS-14.2.1-arm64-arm-64bit', python_version='3.10.13', codecarbon_version='2.2.2', cpu_count=10, cpu_model='Apple M1 Max', gpu_count=None, gpu_model=None, longitude=16.3944, latitude=48.217, ram_total_size=32.0, tracking_mode='machine', on_cloud='N'),\n",
       " MonitoringData(timestamp='2024-03-06T16:57:22', project_name='Beauty_s000_0.5s_1_Christians-MacBook-Pro.local', run_id='44f3d20e-4a5d-4114-9033-d9e7d4c8329e', duration=1.0027549266815186, emissions=4.3060288240538725e-07, emissions_rate=4.294198621695224e-07, cpu_power=5.0, gpu_power=0.0, ram_power=12.0, cpu_energy=1.390302843517728e-06, gpu_energy=0, ram_energy=3.3317701021830245e-06, energy_consumed=4.7220729457007526e-06, country_name='Austria', country_iso_code='AUT', region='vienna', cloud_provider='', cloud_region='', os='macOS-14.2.1-arm64-arm-64bit', python_version='3.10.13', codecarbon_version='2.2.2', cpu_count=10, cpu_model='Apple M1 Max', gpu_count=None, gpu_model=None, longitude=16.3944, latitude=48.217, ram_total_size=32.0, tracking_mode='machine', on_cloud='N'),\n",
       " MonitoringData(timestamp='2024-03-06T16:57:23', project_name='Beauty_s000_0.5s_1_Christians-MacBook-Pro.local', run_id='44f3d20e-4a5d-4114-9033-d9e7d4c8329e', duration=1.003798007965088, emissions=4.293147367337016e-07, emissions_rate=4.276903653196263e-07, cpu_power=5.0, gpu_power=0.0, ram_power=12.0, cpu_energy=1.3885362280739672e-06, gpu_energy=0, ram_energy=3.3271304766337093e-06, energy_consumed=4.715666704707675e-06, country_name='Austria', country_iso_code='AUT', region='vienna', cloud_provider='', cloud_region='', os='macOS-14.2.1-arm64-arm-64bit', python_version='3.10.13', codecarbon_version='2.2.2', cpu_count=10, cpu_model='Apple M1 Max', gpu_count=None, gpu_model=None, longitude=16.3944, latitude=48.217, ram_total_size=32.0, tracking_mode='machine', on_cloud='N'),\n",
       " MonitoringData(timestamp='2024-03-06T16:57:25', project_name='Beauty_s000_0.5s_2_Christians-MacBook-Pro.local', run_id='44f3d20e-4a5d-4114-9033-d9e7d4c8329e', duration=1.8154640197753906, emissions=5.57225969796313e-07, emissions_rate=3.06933083623025e-07, cpu_power=5.0, gpu_power=0.0, ram_power=12.0, cpu_energy=1.3930281003316235e-06, gpu_energy=0, ram_energy=3.3413942654927586e-06, energy_consumed=4.734422365824382e-06, country_name='Austria', country_iso_code='AUT', region='vienna', cloud_provider='', cloud_region='', os='macOS-14.2.1-arm64-arm-64bit', python_version='3.10.13', codecarbon_version='2.2.2', cpu_count=10, cpu_model='Apple M1 Max', gpu_count=None, gpu_model=None, longitude=16.3944, latitude=48.217, ram_total_size=32.0, tracking_mode='machine', on_cloud='N'),\n",
       " MonitoringData(timestamp='2024-03-06T16:57:26', project_name='Beauty_s000_0.5s_2_Christians-MacBook-Pro.local', run_id='44f3d20e-4a5d-4114-9033-d9e7d4c8329e', duration=1.0011608600616455, emissions=4.3178257060647085e-07, emissions_rate=4.3128191265875524e-07, cpu_power=5.0, gpu_power=0.0, ram_power=12.0, cpu_energy=1.3968040545781453e-06, gpu_energy=0, ram_energy=3.3477465311686193e-06, energy_consumed=4.744550585746768e-06, country_name='Austria', country_iso_code='AUT', region='vienna', cloud_provider='', cloud_region='', os='macOS-14.2.1-arm64-arm-64bit', python_version='3.10.13', codecarbon_version='2.2.2', cpu_count=10, cpu_model='Apple M1 Max', gpu_count=None, gpu_model=None, longitude=16.3944, latitude=48.217, ram_total_size=32.0, tracking_mode='machine', on_cloud='N'),\n",
       " MonitoringData(timestamp='2024-03-06T16:57:27', project_name='Beauty_s000_0.5s_2_Christians-MacBook-Pro.local', run_id='44f3d20e-4a5d-4114-9033-d9e7d4c8329e', duration=1.0053071975708008, emissions=4.382062603836582e-07, emissions_rate=4.3589289069304275e-07, cpu_power=5.0, gpu_power=0.0, ram_power=12.0, cpu_energy=1.450176371468438e-06, gpu_energy=0, ram_energy=3.3649595578511526e-06, energy_consumed=4.815135929319592e-06, country_name='Austria', country_iso_code='AUT', region='vienna', cloud_provider='', cloud_region='', os='macOS-14.2.1-arm64-arm-64bit', python_version='3.10.13', codecarbon_version='2.2.2', cpu_count=10, cpu_model='Apple M1 Max', gpu_count=None, gpu_model=None, longitude=16.3944, latitude=48.217, ram_total_size=32.0, tracking_mode='machine', on_cloud='N'),\n",
       " MonitoringData(timestamp='2024-03-06T16:57:28', project_name='Beauty_s000_0.5s_2_Christians-MacBook-Pro.local', run_id='44f3d20e-4a5d-4114-9033-d9e7d4c8329e', duration=1.0390830039978027, emissions=4.028116605806353e-07, emissions_rate=3.876607152949709e-07, cpu_power=5.0, gpu_power=0.0, ram_power=12.0, cpu_energy=1.3485471407572443e-06, gpu_energy=0, ram_energy=3.077662785847985e-06, energy_consumed=4.426209926605228e-06, country_name='Austria', country_iso_code='AUT', region='vienna', cloud_provider='', cloud_region='', os='macOS-14.2.1-arm64-arm-64bit', python_version='3.10.13', codecarbon_version='2.2.2', cpu_count=10, cpu_model='Apple M1 Max', gpu_count=None, gpu_model=None, longitude=16.3944, latitude=48.217, ram_total_size=32.0, tracking_mode='machine', on_cloud='N'),\n",
       " MonitoringData(timestamp='2024-03-06T16:57:29', project_name='Beauty_s000_0.5s_2_Christians-MacBook-Pro.local', run_id='44f3d20e-4a5d-4114-9033-d9e7d4c8329e', duration=1.0018599033355713, emissions=3.8514090398007023e-07, emissions_rate=3.844259089497346e-07, cpu_power=5.0, gpu_power=0.0, ram_power=12.0, cpu_energy=1.2460851007037679e-06, gpu_energy=0, ram_energy=2.985953489939374e-06, energy_consumed=4.232038590643142e-06, country_name='Austria', country_iso_code='AUT', region='vienna', cloud_provider='', cloud_region='', os='macOS-14.2.1-arm64-arm-64bit', python_version='3.10.13', codecarbon_version='2.2.2', cpu_count=10, cpu_model='Apple M1 Max', gpu_count=None, gpu_model=None, longitude=16.3944, latitude=48.217, ram_total_size=32.0, tracking_mode='machine', on_cloud='N'),\n",
       " MonitoringData(timestamp='2024-03-06T16:57:30', project_name='Beauty_s000_0.5s_2_Christians-MacBook-Pro.local', run_id='44f3d20e-4a5d-4114-9033-d9e7d4c8329e', duration=1.0048260688781738, emissions=4.3057910553839496e-07, emissions_rate=4.285110815438038e-07, cpu_power=5.0, gpu_power=0.0, ram_power=12.0, cpu_energy=1.3928569025463527e-06, gpu_energy=0, ram_energy=3.3384696642557772e-06, energy_consumed=4.73132656680213e-06, country_name='Austria', country_iso_code='AUT', region='vienna', cloud_provider='', cloud_region='', os='macOS-14.2.1-arm64-arm-64bit', python_version='3.10.13', codecarbon_version='2.2.2', cpu_count=10, cpu_model='Apple M1 Max', gpu_count=None, gpu_model=None, longitude=16.3944, latitude=48.217, ram_total_size=32.0, tracking_mode='machine', on_cloud='N'),\n",
       " MonitoringData(timestamp='2024-03-06T16:57:31', project_name='Beauty_s000_0.5s_2_Christians-MacBook-Pro.local', run_id='44f3d20e-4a5d-4114-9033-d9e7d4c8329e', duration=1.010756015777588, emissions=4.309836317129919e-07, emissions_rate=4.2639729567321e-07, cpu_power=5.0, gpu_power=0.0, ram_power=12.0, cpu_energy=1.3939211765925098e-06, gpu_energy=0, ram_energy=3.34185043970744e-06, energy_consumed=4.735771616299936e-06, country_name='Austria', country_iso_code='AUT', region='vienna', cloud_provider='', cloud_region='', os='macOS-14.2.1-arm64-arm-64bit', python_version='3.10.13', codecarbon_version='2.2.2', cpu_count=10, cpu_model='Apple M1 Max', gpu_count=None, gpu_model=None, longitude=16.3944, latitude=48.217, ram_total_size=32.0, tracking_mode='machine', on_cloud='N'),\n",
       " MonitoringData(timestamp='2024-03-06T16:57:32', project_name='Beauty_s000_0.5s_2_Christians-MacBook-Pro.local', run_id='44f3d20e-4a5d-4114-9033-d9e7d4c8329e', duration=1.001852035522461, emissions=4.309281041399636e-07, emissions_rate=4.3013148534976694e-07, cpu_power=5.0, gpu_power=0.0, ram_power=12.0, cpu_energy=1.3939261436462387e-06, gpu_energy=0, ram_energy=3.341235319773359e-06, energy_consumed=4.735161463419594e-06, country_name='Austria', country_iso_code='AUT', region='vienna', cloud_provider='', cloud_region='', os='macOS-14.2.1-arm64-arm-64bit', python_version='3.10.13', codecarbon_version='2.2.2', cpu_count=10, cpu_model='Apple M1 Max', gpu_count=None, gpu_model=None, longitude=16.3944, latitude=48.217, ram_total_size=32.0, tracking_mode='machine', on_cloud='N'),\n",
       " MonitoringData(timestamp='2024-03-06T16:57:34', project_name='Beauty_s000_0.5s_3_Christians-MacBook-Pro.local', run_id='44f3d20e-4a5d-4114-9033-d9e7d4c8329e', duration=1.179675817489624, emissions=8.624659387613663e-07, emissions_rate=7.311041948767863e-07, cpu_power=5.0, gpu_power=0.0, ram_power=12.0, cpu_energy=2.790650063090856e-06, gpu_energy=0, ram_energy=6.686372756958008e-06, energy_consumed=9.47702282004886e-06, country_name='Austria', country_iso_code='AUT', region='vienna', cloud_provider='', cloud_region='', os='macOS-14.2.1-arm64-arm-64bit', python_version='3.10.13', codecarbon_version='2.2.2', cpu_count=10, cpu_model='Apple M1 Max', gpu_count=None, gpu_model=None, longitude=16.3944, latitude=48.217, ram_total_size=32.0, tracking_mode='machine', on_cloud='N'),\n",
       " MonitoringData(timestamp='2024-03-06T16:57:35', project_name='Beauty_s000_0.5s_3_Christians-MacBook-Pro.local', run_id='44f3d20e-4a5d-4114-9033-d9e7d4c8329e', duration=1.0023133754730225, emissions=4.2776811331351676e-07, emissions_rate=4.2678080905748647e-07, cpu_power=5.0, gpu_power=0.0, ram_power=12.0, cpu_energy=1.3838946819305412e-06, gpu_energy=0, ram_energy=3.3165438969930025e-06, energy_consumed=4.70043857892355e-06, country_name='Austria', country_iso_code='AUT', region='vienna', cloud_provider='', cloud_region='', os='macOS-14.2.1-arm64-arm-64bit', python_version='3.10.13', codecarbon_version='2.2.2', cpu_count=10, cpu_model='Apple M1 Max', gpu_count=None, gpu_model=None, longitude=16.3944, latitude=48.217, ram_total_size=32.0, tracking_mode='machine', on_cloud='N'),\n",
       " MonitoringData(timestamp='2024-03-06T16:57:36', project_name='Beauty_s000_0.5s_3_Christians-MacBook-Pro.local', run_id='44f3d20e-4a5d-4114-9033-d9e7d4c8329e', duration=1.003849983215332, emissions=3.0360025112469945e-07, emissions_rate=3.0243587807041414e-07, cpu_power=5.0, gpu_power=0.0, ram_power=12.0, cpu_energy=0.0, gpu_energy=0, ram_energy=3.336046536763507e-06, energy_consumed=3.336046536763507e-06, country_name='Austria', country_iso_code='AUT', region='vienna', cloud_provider='', cloud_region='', os='macOS-14.2.1-arm64-arm-64bit', python_version='3.10.13', codecarbon_version='2.2.2', cpu_count=10, cpu_model='Apple M1 Max', gpu_count=None, gpu_model=None, longitude=16.3944, latitude=48.217, ram_total_size=32.0, tracking_mode='machine', on_cloud='N'),\n",
       " MonitoringData(timestamp='2024-03-06T16:57:37', project_name='Beauty_s000_0.5s_3_Christians-MacBook-Pro.local', run_id='44f3d20e-4a5d-4114-9033-d9e7d4c8329e', duration=1.0036506652832031, emissions=4.2969547398712995e-07, emissions_rate=4.281325055126442e-07, cpu_power=5.0, gpu_power=0.0, ram_power=12.0, cpu_energy=2.7835941976971123e-06, gpu_energy=0, ram_energy=3.3257102966308653e-06, energy_consumed=6.109304494327978e-06, country_name='Austria', country_iso_code='AUT', region='vienna', cloud_provider='', cloud_region='', os='macOS-14.2.1-arm64-arm-64bit', python_version='3.10.13', codecarbon_version='2.2.2', cpu_count=10, cpu_model='Apple M1 Max', gpu_count=None, gpu_model=None, longitude=16.3944, latitude=48.217, ram_total_size=32.0, tracking_mode='machine', on_cloud='N'),\n",
       " MonitoringData(timestamp='2024-03-06T16:57:38', project_name='Beauty_s000_0.5s_3_Christians-MacBook-Pro.local', run_id='44f3d20e-4a5d-4114-9033-d9e7d4c8329e', duration=1.0041263103485107, emissions=1.262878908236818e-07, emissions_rate=1.2576892918964546e-07, cpu_power=5.0, gpu_power=0.0, ram_power=12.0, cpu_energy=0.0, gpu_energy=0, ram_energy=0.0, energy_consumed=0.0, country_name='Austria', country_iso_code='AUT', region='vienna', cloud_provider='', cloud_region='', os='macOS-14.2.1-arm64-arm-64bit', python_version='3.10.13', codecarbon_version='2.2.2', cpu_count=10, cpu_model='Apple M1 Max', gpu_count=None, gpu_model=None, longitude=16.3944, latitude=48.217, ram_total_size=32.0, tracking_mode='machine', on_cloud='N'),\n",
       " MonitoringData(timestamp='2024-03-06T16:57:39', project_name='Beauty_s000_0.5s_3_Christians-MacBook-Pro.local', run_id='44f3d20e-4a5d-4114-9033-d9e7d4c8329e', duration=1.0088169574737549, emissions=4.2850552165309567e-07, emissions_rate=4.247604270314256e-07, cpu_power=5.0, gpu_power=0.0, ram_power=12.0, cpu_energy=1.3867348432540905e-06, gpu_energy=0, ram_energy=3.3218065897623654e-06, energy_consumed=4.708541433016459e-06, country_name='Austria', country_iso_code='AUT', region='vienna', cloud_provider='', cloud_region='', os='macOS-14.2.1-arm64-arm-64bit', python_version='3.10.13', codecarbon_version='2.2.2', cpu_count=10, cpu_model='Apple M1 Max', gpu_count=None, gpu_model=None, longitude=16.3944, latitude=48.217, ram_total_size=32.0, tracking_mode='machine', on_cloud='N'),\n",
       " MonitoringData(timestamp='2024-03-06T16:57:40', project_name='Beauty_s000_0.5s_3_Christians-MacBook-Pro.local', run_id='44f3d20e-4a5d-4114-9033-d9e7d4c8329e', duration=1.0116949081420898, emissions=4.394925677931333e-07, emissions_rate=4.344121575151861e-07, cpu_power=5.0, gpu_power=0.0, ram_power=12.0, cpu_energy=1.439945896466572e-06, gpu_energy=0, ram_energy=3.389324347178148e-06, energy_consumed=4.829270243644727e-06, country_name='Austria', country_iso_code='AUT', region='vienna', cloud_provider='', cloud_region='', os='macOS-14.2.1-arm64-arm-64bit', python_version='3.10.13', codecarbon_version='2.2.2', cpu_count=10, cpu_model='Apple M1 Max', gpu_count=None, gpu_model=None, longitude=16.3944, latitude=48.217, ram_total_size=32.0, tracking_mode='machine', on_cloud='N')]"
      ]
     },
     "execution_count": 105,
     "metadata": {},
     "output_type": "execute_result"
    }
   ],
   "source": [
    "collected_measurements"
   ]
  },
  {
   "cell_type": "code",
   "execution_count": 106,
   "metadata": {},
   "outputs": [
    {
     "data": {
      "text/plain": [
       "22"
      ]
     },
     "execution_count": 106,
     "metadata": {},
     "output_type": "execute_result"
    }
   ],
   "source": [
    "len(collected_measurements)"
   ]
  },
  {
   "cell_type": "code",
   "execution_count": 112,
   "metadata": {},
   "outputs": [],
   "source": [
    "df = pd.DataFrame(collected_measurements)"
   ]
  },
  {
   "cell_type": "code",
   "execution_count": 114,
   "metadata": {},
   "outputs": [],
   "source": [
    "df['emissions_rate_norm'] = df['emissions_rate'] / df['emissions_rate'].max()"
   ]
  },
  {
   "cell_type": "code",
   "execution_count": 117,
   "metadata": {},
   "outputs": [
    {
     "data": {
      "text/plain": [
       "<Axes: >"
      ]
     },
     "execution_count": 117,
     "metadata": {},
     "output_type": "execute_result"
    },
    {
     "data": {
      "image/png": "[encoded data removed]",
      "text/plain": [
       "<Figure size 640x480 with 1 Axes>"
      ]
     },
     "metadata": {},
     "output_type": "display_data"
    }
   ],
   "source": [
    "df['emissions_rate_norm'].plot.bar()"
   ]
  },
  {
   "cell_type": "code",
   "execution_count": 108,
   "metadata": {},
   "outputs": [],
   "source": [
    "# for i in range(10):\n",
    "#     tracker._project_name = f'Beauty_s000_{measurement_interval}s_{i}'\n",
    "#     tracker.start()\n",
    "#     os.system('ffmpeg -y -re -i Beauty_s000.265 -b:v:0 1000k -b:v:0 1000k -minrate 1000k -maxrate 1000k -bufsize 3000k -c:v:0 libx264 -filter:v:0 \"scale=200:100 ,fps=10\" -preset medium -keyint_min 10 -g 10 test.mp4')\n",
    "#     tracker.stop()\n",
    "#     sleep(0.2)\n",
    "    \n",
    "\n",
    "# for i in range(10):\n",
    "#     tracker._project_name = f'sleep_{measurement_interval}s_{i}'\n",
    "#     tracker.start()\n",
    "#     os.system('sleep 3')\n",
    "#     tracker.stop()\n",
    "#     sleep(0.2)"
   ]
  },
  {
   "cell_type": "code",
   "execution_count": null,
   "metadata": {},
   "outputs": [],
   "source": [
    "\n"
   ]
  },
  {
   "cell_type": "code",
   "execution_count": 109,
   "metadata": {},
   "outputs": [],
   "source": [
    "# for i in range(12):\n",
    "#     rm.start_monitoring('sleep 2')\n",
    "\n",
    "# # rm.tracker.stop()\n",
    "# rm.tracker.stop()\n",
    "\n",
    "# rm.collected_data"
   ]
  },
  {
   "cell_type": "code",
   "execution_count": 110,
   "metadata": {},
   "outputs": [],
   "source": [
    "# for i in rm.collected_data:\n",
    "#     print(type(i))"
   ]
  }
 ],
 "metadata": {
  "kernelspec": {
   "display_name": "gaia-tools",
   "language": "python",
   "name": "python3"
  },
  "language_info": {
   "codemirror_mode": {
    "name": "ipython",
    "version": 3
   },
   "file_extension": ".py",
   "mimetype": "text/x-python",
   "name": "python",
   "nbconvert_exporter": "python",
   "pygments_lexer": "ipython3",
   "version": "3.10.13"
  }
 },
 "nbformat": 4,
 "nbformat_minor": 2
}
