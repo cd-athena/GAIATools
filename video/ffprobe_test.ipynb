{
 "cells": [
  {
   "cell_type": "code",
   "execution_count": 1,
   "metadata": {},
   "outputs": [],
   "source": [
    "import subprocess\n",
    "import json"
   ]
  },
  {
   "cell_type": "code",
   "execution_count": 2,
   "metadata": {},
   "outputs": [],
   "source": [
    "input_file_name: str = 'AncientThought.webm'\n",
    "\n",
    "test = [\n",
    "        'ffprobe',\n",
    "        '-v', 'quiet',\n",
    "        '-print_format', 'json',\n",
    "        '-show_format', '-show_streams',\n",
    "        input_file_name,\n",
    "    ]"
   ]
  },
  {
   "cell_type": "code",
   "execution_count": 3,
   "metadata": {},
   "outputs": [
    {
     "data": {
      "text/plain": [
       "<Popen: returncode: None args: ['ffprobe', '-v', 'quiet', '-print_format', '...>"
      ]
     },
     "execution_count": 3,
     "metadata": {},
     "output_type": "execute_result"
    }
   ],
   "source": [
    "p = subprocess.Popen(test, stdout=subprocess.PIPE, stderr=subprocess.PIPE, universal_newlines=True)\n",
    "p"
   ]
  },
  {
   "cell_type": "code",
   "execution_count": 6,
   "metadata": {},
   "outputs": [],
   "source": [
    "def convert_pipe_output_to_dict(pipe_output: str) -> dict:\n",
    "    if len(pipe_output) > 0:\n",
    "        return json.loads(pipe_output)\n",
    "    else:\n",
    "        return {}"
   ]
  },
  {
   "cell_type": "code",
   "execution_count": 7,
   "metadata": {},
   "outputs": [],
   "source": [
    "output, error = p.communicate()\n",
    "\n",
    "output = convert_pipe_output_to_dict(output)\n",
    "error = convert_pipe_output_to_dict(error)"
   ]
  },
  {
   "cell_type": "code",
   "execution_count": 12,
   "metadata": {},
   "outputs": [
    {
     "data": {
      "text/plain": [
       "{'streams': [{'index': 0,\n",
       "   'codec_name': 'vp9',\n",
       "   'codec_long_name': 'Google VP9',\n",
       "   'profile': 'Profile 0',\n",
       "   'codec_type': 'video',\n",
       "   'codec_tag_string': '[0][0][0][0]',\n",
       "   'codec_tag': '0x0000',\n",
       "   'width': 3840,\n",
       "   'height': 2160,\n",
       "   'coded_width': 3840,\n",
       "   'coded_height': 2160,\n",
       "   'closed_captions': 0,\n",
       "   'film_grain': 0,\n",
       "   'has_b_frames': 0,\n",
       "   'sample_aspect_ratio': '1:1',\n",
       "   'display_aspect_ratio': '16:9',\n",
       "   'pix_fmt': 'yuv420p',\n",
       "   'level': -99,\n",
       "   'color_range': 'tv',\n",
       "   'color_space': 'bt709',\n",
       "   'color_transfer': 'bt709',\n",
       "   'color_primaries': 'bt709',\n",
       "   'refs': 1,\n",
       "   'r_frame_rate': '24000/1001',\n",
       "   'avg_frame_rate': '24000/1001',\n",
       "   'time_base': '1/1000',\n",
       "   'start_pts': 0,\n",
       "   'start_time': '0.000000',\n",
       "   'disposition': {'default': 1,\n",
       "    'dub': 0,\n",
       "    'original': 0,\n",
       "    'comment': 0,\n",
       "    'lyrics': 0,\n",
       "    'karaoke': 0,\n",
       "    'forced': 0,\n",
       "    'hearing_impaired': 0,\n",
       "    'visual_impaired': 0,\n",
       "    'clean_effects': 0,\n",
       "    'attached_pic': 0,\n",
       "    'timed_thumbnails': 0,\n",
       "    'captions': 0,\n",
       "    'descriptions': 0,\n",
       "    'metadata': 0,\n",
       "    'dependent': 0,\n",
       "    'still_image': 0},\n",
       "   'tags': {'language': 'eng', 'DURATION': '00:03:07.187000000'}},\n",
       "  {'index': 1,\n",
       "   'codec_name': 'opus',\n",
       "   'codec_long_name': 'Opus (Opus Interactive Audio Codec)',\n",
       "   'codec_type': 'audio',\n",
       "   'codec_tag_string': '[0][0][0][0]',\n",
       "   'codec_tag': '0x0000',\n",
       "   'sample_fmt': 'fltp',\n",
       "   'sample_rate': '48000',\n",
       "   'channels': 2,\n",
       "   'channel_layout': 'stereo',\n",
       "   'bits_per_sample': 0,\n",
       "   'r_frame_rate': '0/0',\n",
       "   'avg_frame_rate': '0/0',\n",
       "   'time_base': '1/1000',\n",
       "   'start_pts': -7,\n",
       "   'start_time': '-0.007000',\n",
       "   'extradata_size': 19,\n",
       "   'disposition': {'default': 1,\n",
       "    'dub': 0,\n",
       "    'original': 0,\n",
       "    'comment': 0,\n",
       "    'lyrics': 0,\n",
       "    'karaoke': 0,\n",
       "    'forced': 0,\n",
       "    'hearing_impaired': 0,\n",
       "    'visual_impaired': 0,\n",
       "    'clean_effects': 0,\n",
       "    'attached_pic': 0,\n",
       "    'timed_thumbnails': 0,\n",
       "    'captions': 0,\n",
       "    'descriptions': 0,\n",
       "    'metadata': 0,\n",
       "    'dependent': 0,\n",
       "    'still_image': 0},\n",
       "   'tags': {'language': 'eng', 'DURATION': '00:03:07.201000000'}}],\n",
       " 'format': {'filename': 'AncientThought.webm',\n",
       "  'nb_streams': 2,\n",
       "  'nb_programs': 0,\n",
       "  'format_name': 'matroska,webm',\n",
       "  'format_long_name': 'Matroska / WebM',\n",
       "  'start_time': '-0.007000',\n",
       "  'duration': '187.201000',\n",
       "  'size': '169080277',\n",
       "  'bit_rate': '7225614',\n",
       "  'probe_score': 100,\n",
       "  'tags': {'ENCODER': 'Lavf59.27.100'}}}"
      ]
     },
     "execution_count": 12,
     "metadata": {},
     "output_type": "execute_result"
    }
   ],
   "source": [
    "output"
   ]
  },
  {
   "cell_type": "code",
   "execution_count": null,
   "metadata": {},
   "outputs": [],
   "source": []
  }
 ],
 "metadata": {
  "kernelspec": {
   "display_name": "codecarbon",
   "language": "python",
   "name": "python3"
  },
  "language_info": {
   "codemirror_mode": {
    "name": "ipython",
    "version": 3
   },
   "file_extension": ".py",
   "mimetype": "text/x-python",
   "name": "python",
   "nbconvert_exporter": "python",
   "pygments_lexer": "ipython3",
   "version": "3.10.0"
  },
  "orig_nbformat": 4
 },
 "nbformat": 4,
 "nbformat_minor": 2
}
